{
 "cells": [
  {
   "cell_type": "code",
   "execution_count": null,
   "id": "b5b22de6-acba-4038-b03a-db21bcec47b6",
   "metadata": {},
   "outputs": [],
   "source": [
    "import time\n",
    "import os\n",
    "from PIL import Image\n",
    "from tqdm.notebook import tqdm\n",
    "from selenium import webdriver\n",
    "from selenium.webdriver.common.by import By\n",
    "import requests\n",
    "import io\n",
    "import hashlib\n",
    "from bs4 import BeautifulSoup\n",
    "\n",
    "# search_url = 'https://www.pinterest.co.uk/search/pins/?q={q}'\n",
    "search_url = 'https://www.bing.com/images/search?q={q}&form=HDRSC3'\n",
    "\n",
    "thumbnail_selector = ''\n",
    "\n",
    "\n",
    "wd.get(self.search_url.format(q = self.search_term))\n",
    "\n",
    "\n",
    "# Scroll to bottom to reveal more images\n",
    "wd.execute_script(\"window.scrollTo(0, document.body.scrollHeight);\")\n",
    "time.sleep(0.5)\n",
    "\n",
    "# get all image thumbnail results\n",
    "thumbnail_results = wd.find_elements(By.CSS_SELECTOR, self.thumbnail_selector)\n",
    "            \n",
    "number_results = len(thumbnail_results)\n",
    "print('number results: ', number_results)\n",
    "\n",
    "for img in tqdm(thumbnail_results, desc=f'Extracting...'):\n",
    "\n",
    "    img.click()\n",
    "    time.sleep(sleep_between_interactions)\n",
    "  \n",
    "    # extract image urls                \n",
    "    actual_images = wd.find_elements(By.CSS_SELECTOR, self.image_selector)\n",
    "\n",
    "    for actual_image in actual_images:\n",
    "\n",
    "        if actual_image.get_attribute('src') and 'http' in actual_image.get_attribute('src'):\n",
    "            image_urls.add(actual_image.get_attribute('src'))\n",
    "\n",
    "    image_count = len(image_urls)"
   ]
  }
 ],
 "metadata": {
  "kernelspec": {
   "display_name": "Python 3",
   "language": "python",
   "name": "python3"
  },
  "language_info": {
   "codemirror_mode": {
    "name": "ipython",
    "version": 3
   },
   "file_extension": ".py",
   "mimetype": "text/x-python",
   "name": "python",
   "nbconvert_exporter": "python",
   "pygments_lexer": "ipython3",
   "version": "3.8.8"
  }
 },
 "nbformat": 4,
 "nbformat_minor": 5
}
