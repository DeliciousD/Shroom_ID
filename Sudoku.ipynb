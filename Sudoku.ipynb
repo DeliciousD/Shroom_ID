{
 "cells": [
  {
   "cell_type": "markdown",
   "source": [
    "## Sudoku solver from https://norvig.com/sudoku.html"
   ],
   "metadata": {
    "collapsed": false,
    "pycharm": {
     "name": "#%% md\n"
    }
   }
  },
  {
   "cell_type": "markdown",
   "source": [
    "### This example uses a python dictionary\n",
    "https://www.w3schools.com/python/python_dictionaries.asp\n",
    "\n",
    "### which is based on Problem 96 of the Euler project\n",
    "https://projecteuler.net/problem=96\n",
    "\n",
    "### these are created as follows:"
   ],
   "metadata": {
    "collapsed": false,
    "pycharm": {
     "name": "#%% md\n"
    }
   }
  },
  {
   "cell_type": "code",
   "execution_count": null,
   "outputs": [],
   "source": [
    "thisdict = {\n",
    "  \"brand\": \"Ford\",\n",
    "  \"model\": \"Mustang\",\n",
    "  \"year\": 1964\n",
    "}\n",
    "print(thisdict)"
   ],
   "metadata": {
    "collapsed": false,
    "pycharm": {
     "name": "#%%\n"
    }
   }
  },
  {
   "cell_type": "markdown",
   "source": [
    "### dictionaries are unordered, changable and indexed\n",
    "### items in a dictionary are accessed by referering to its key name:"
   ],
   "metadata": {
    "collapsed": false,
    "pycharm": {
     "name": "#%% md\n"
    }
   }
  },
  {
   "cell_type": "code",
   "execution_count": null,
   "outputs": [],
   "source": [
    "x = thisdict[\"model\"]\n",
    "y = thisdict.get(\"model\")"
   ],
   "metadata": {
    "collapsed": false,
    "pycharm": {
     "name": "#%%\n"
    }
   }
  },
  {
   "cell_type": "code",
   "execution_count": 1,
   "metadata": {
    "collapsed": true,
    "pycharm": {
     "is_executing": false,
     "name": "#%%\n"
    }
   },
   "outputs": [],
   "source": [
    "def cross(A, B):\n",
    "    \"Cross product of elements in A and elements in B.\"\n",
    "    return [a+b for a in A for b in B]\n",
    "\n",
    "digits   = '123456789'\n",
    "rows     = 'ABCDEFGHI'\n",
    "cols     = digits\n",
    "squares  = cross(rows, cols)\n",
    "unitlist = ([cross(rows, c) for c in cols] +\n",
    "            [cross(r, cols) for r in rows] +\n",
    "            [cross(rs, cs) for rs in ('ABC','DEF','GHI') for cs in ('123','456','789')])\n",
    "units = dict((s, [u for u in unitlist if s in u]) \n",
    "             for s in squares)\n",
    "peers = dict((s, set(sum(units[s],[]))-set([s]))\n",
    "             for s in squares)"
   ]
  },
  {
   "cell_type": "markdown",
   "source": [
    "$$ unitlist asis a set of rows, coloumns or squares\n",
    "each of which are required to satisfy the laws of Sudoku\n",
    "i.e each must contain a the numbers 1-9, with no repeat entries $$\n",
    "\n",
    "## why does the above have 'undefined'?"
   ],
   "metadata": {
    "collapsed": false,
    "pycharm": {
     "name": "#%% md\n"
    }
   }
  },
  {
   "cell_type": "code",
   "execution_count": null,
   "outputs": [],
   "source": [
    "puzzle = \"\" \\\n",
    "         \"4 . . |. . . |8 . 5 \" \\\n",
    "         \". 3 . |. . . |. . . \" \\\n",
    "         \". . . |7 . . |. . . \" \\\n",
    "         \"------+------+------\" \\\n",
    "         \". 2 . |. . . |. 6 . \" \\\n",
    "         \". . . |. 8 . |4 . . \" \\\n",
    "         \". . . |. 1 . |. . . \" \\\n",
    "         \"------+------+------\" \\\n",
    "         \". . . |6 . 3 |. 7 . \" \\\n",
    "         \"5 . . |2 . . |. . . \" \\\n",
    "         \"1 . 4 |. . . |. . . \""
   ],
   "metadata": {
    "collapsed": false,
    "pycharm": {
     "name": "#%%\n"
    }
   }
  }
 ],
 "metadata": {
  "language_info": {
   "codemirror_mode": {
    "name": "ipython",
    "version": 2
   },
   "file_extension": ".py",
   "mimetype": "text/x-python",
   "name": "python",
   "nbconvert_exporter": "python",
   "pygments_lexer": "ipython2",
   "version": "2.7.6"
  },
  "kernelspec": {
   "name": "python3",
   "language": "python",
   "display_name": "Python 3"
  },
  "pycharm": {
   "stem_cell": {
    "cell_type": "raw",
    "source": [],
    "metadata": {
     "collapsed": false
    }
   }
  }
 },
 "nbformat": 4,
 "nbformat_minor": 0
}