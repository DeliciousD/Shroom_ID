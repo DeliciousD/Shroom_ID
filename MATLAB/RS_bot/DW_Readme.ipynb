{
 "cells": [
  {
   "cell_type": "markdown",
   "metadata": {
    "collapsed": true,
    "pycharm": {
     "name": "#%% md\n"
    }
   },
   "source": [
    "### Overview:\n",
    "\n",
    "##### Start: \n",
    "##### reprogram the example such that I pass it the three required inputs\n",
    "##### player HP, enemy HP and attack_timer\n",
    "##### prints the action\n",
    "##### None, Eat, sword_combo\n",
    "\n",
    "##### I have no experience with java which I believe the GUI runs off\n",
    "\n",
    "##### Create macro's for sword_combo and eat (use pyautogui)\n",
    "##### Can retrieve screen location by:"
   ]
  },
  {
   "cell_type": "code",
   "execution_count": 11,
   "outputs": [
    {
     "name": "stdout",
     "text": [
      "cursor location:  659 156\n"
     ],
     "output_type": "stream"
    }
   ],
   "source": [
    "import pyautogui\n",
    "import time\n",
    "x, y = pyautogui.position()\n",
    "print('cursor location: ', x, y)"
   ],
   "metadata": {
    "collapsed": false,
    "pycharm": {
     "name": "#%%\n",
     "is_executing": false
    }
   }
  },
  {
   "cell_type": "markdown",
   "source": [
    "##### build commands such as sword_combo and eat using\n"
   ],
   "metadata": {
    "collapsed": false,
    "pycharm": {
     "name": "#%% md\n"
    }
   }
  },
  {
   "cell_type": "code",
   "execution_count": 12,
   "outputs": [],
   "source": [
    "food_locations = [[1732, 658], [1799, 658], [1861, 658]]\n",
    "rune_2h_location = [1667, 658]\n",
    "player_location = [1005, 588]\n",
    "\n",
    "# food_locations starts from second in inv to last\n",
    "# rune_2h_location is always first item in inv\n",
    "# player location is always with the game in fullscreen and \n",
    "# with the compass reset to North enabled (above hitpoints display)\n",
    "# taken as the square the player stands on (between feet)\n",
    "\n",
    "def eat(food):\n",
    "    # food number is the identification number of each food in inv, from first to last\n",
    "    pyautogui.click(x=food[0], y=food[1])\n",
    "\n",
    "def sword_combo(switch_time):\n",
    "    # switch_time is the time that the 2h weapon needs to be equipped for\n",
    "    pyautogui.click(rune_2h_location)\n",
    "    time.sleep(switch_time)\n",
    "    pyautogui.click(rune_2h_location)"
   ],
   "metadata": {
    "collapsed": false,
    "pycharm": {
     "name": "#%%\n",
     "is_executing": false
    }
   }
  }
 ],
 "metadata": {
  "language_info": {
   "codemirror_mode": {
    "name": "ipython",
    "version": 2
   },
   "file_extension": ".py",
   "mimetype": "text/x-python",
   "name": "python",
   "nbconvert_exporter": "python",
   "pygments_lexer": "ipython2",
   "version": "2.7.6"
  },
  "kernelspec": {
   "name": "python3",
   "language": "python",
   "display_name": "Python 3"
  },
  "pycharm": {
   "stem_cell": {
    "cell_type": "raw",
    "source": [],
    "metadata": {
     "collapsed": false
    }
   }
  }
 },
 "nbformat": 4,
 "nbformat_minor": 0
}