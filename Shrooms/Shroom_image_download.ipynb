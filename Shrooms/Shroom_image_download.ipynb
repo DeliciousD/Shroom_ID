{
 "cells": [
  {
   "cell_type": "code",
   "execution_count": 2,
   "id": "d9a4abd7-f596-41f5-aaa4-a95a17bb442f",
   "metadata": {},
   "outputs": [],
   "source": [
    "from Image_scraper.image_scraper import ImageScrapper\n",
    "import pandas as pd\n",
    "from tqdm.notebook import tqdm"
   ]
  },
  {
   "cell_type": "code",
   "execution_count": 3,
   "id": "279cc8a2-6d19-433c-94dc-66039cfa69aa",
   "metadata": {},
   "outputs": [
    {
     "data": {
      "text/html": [
       "<div>\n",
       "<style scoped>\n",
       "    .dataframe tbody tr th:only-of-type {\n",
       "        vertical-align: middle;\n",
       "    }\n",
       "\n",
       "    .dataframe tbody tr th {\n",
       "        vertical-align: top;\n",
       "    }\n",
       "\n",
       "    .dataframe thead th {\n",
       "        text-align: right;\n",
       "    }\n",
       "</style>\n",
       "<table border=\"1\" class=\"dataframe\">\n",
       "  <thead>\n",
       "    <tr style=\"text-align: right;\">\n",
       "      <th></th>\n",
       "      <th>scientific</th>\n",
       "      <th>common</th>\n",
       "      <th>season start</th>\n",
       "      <th>season end</th>\n",
       "      <th>Type</th>\n",
       "      <th>shrooms seasons</th>\n",
       "    </tr>\n",
       "  </thead>\n",
       "  <tbody>\n",
       "    <tr>\n",
       "      <th>0</th>\n",
       "      <td>Tuber aestivum</td>\n",
       "      <td>Truffles</td>\n",
       "      <td>Aug</td>\n",
       "      <td>Nov</td>\n",
       "      <td>Edible</td>\n",
       "      <td>['Autumn', 'Summer']</td>\n",
       "    </tr>\n",
       "    <tr>\n",
       "      <th>1</th>\n",
       "      <td>Tricholomopsis rutilans</td>\n",
       "      <td>Plums And Custard</td>\n",
       "      <td>Jul</td>\n",
       "      <td>Nov</td>\n",
       "      <td>Inedible</td>\n",
       "      <td>['Autumn', 'Summer']</td>\n",
       "    </tr>\n",
       "    <tr>\n",
       "      <th>2</th>\n",
       "      <td>Tricholoma terreum</td>\n",
       "      <td>The Grey Knight</td>\n",
       "      <td>Aug</td>\n",
       "      <td>Oct</td>\n",
       "      <td>Poisonous</td>\n",
       "      <td>['Autumn', 'Summer']</td>\n",
       "    </tr>\n",
       "    <tr>\n",
       "      <th>3</th>\n",
       "      <td>Stropharia caerulea</td>\n",
       "      <td>Blue Roundhead</td>\n",
       "      <td>Aug</td>\n",
       "      <td>Dec</td>\n",
       "      <td>Poisonous</td>\n",
       "      <td>['Autumn', 'Winter']</td>\n",
       "    </tr>\n",
       "    <tr>\n",
       "      <th>4</th>\n",
       "      <td>Sparassis crispa</td>\n",
       "      <td>Cauliflower Fungus</td>\n",
       "      <td>Aug</td>\n",
       "      <td>Nov</td>\n",
       "      <td>Edible</td>\n",
       "      <td>['Autumn', 'Summer']</td>\n",
       "    </tr>\n",
       "  </tbody>\n",
       "</table>\n",
       "</div>"
      ],
      "text/plain": [
       "                scientific              common season start season end  \\\n",
       "0           Tuber aestivum            Truffles         Aug        Nov    \n",
       "1  Tricholomopsis rutilans   Plums And Custard         Jul        Nov    \n",
       "2       Tricholoma terreum     The Grey Knight         Aug        Oct    \n",
       "3      Stropharia caerulea      Blue Roundhead         Aug        Dec    \n",
       "4         Sparassis crispa  Cauliflower Fungus         Aug        Nov    \n",
       "\n",
       "        Type       shrooms seasons  \n",
       "0     Edible  ['Autumn', 'Summer']  \n",
       "1   Inedible  ['Autumn', 'Summer']  \n",
       "2  Poisonous  ['Autumn', 'Summer']  \n",
       "3  Poisonous  ['Autumn', 'Winter']  \n",
       "4     Edible  ['Autumn', 'Summer']  "
      ]
     },
     "execution_count": 3,
     "metadata": {},
     "output_type": "execute_result"
    }
   ],
   "source": [
    "df = pd.read_csv('Shroom_DB.csv')\n",
    "df.head()"
   ]
  },
  {
   "cell_type": "markdown",
   "id": "b2ed299b-c244-42ab-861a-3c823ad23318",
   "metadata": {},
   "source": [
    "#### Resume downloading from: "
   ]
  },
  {
   "cell_type": "code",
   "execution_count": null,
   "id": "06128275-19ef-4566-8a25-936d936aca7e",
   "metadata": {},
   "outputs": [],
   "source": [
    "df[df['scientific'].str.contains(\"Laetiporus sulphureus\")]"
   ]
  },
  {
   "cell_type": "code",
   "execution_count": null,
   "id": "1cbd725c-cb31-4db3-9a4e-184f54d451a8",
   "metadata": {},
   "outputs": [
    {
     "data": {
      "application/vnd.jupyter.widget-view+json": {
       "model_id": "d5afc804138f46488a407a55908519ff",
       "version_major": 2,
       "version_minor": 0
      },
      "text/plain": [
       "Mushroom no:   0%|          | 0/105 [00:00<?, ?it/s]"
      ]
     },
     "metadata": {},
     "output_type": "display_data"
    },
    {
     "data": {
      "application/vnd.jupyter.widget-view+json": {
       "model_id": "e7c942d515494c6c8b55fe7f4af6db6e",
       "version_major": 2,
       "version_minor": 0
      },
      "text/plain": [
       "Extracting 200 links from 200 Google results:   0%|          | 0/200 [00:00<?, ?it/s]"
      ]
     },
     "metadata": {},
     "output_type": "display_data"
    },
    {
     "data": {
      "application/vnd.jupyter.widget-view+json": {
       "model_id": "",
       "version_major": 2,
       "version_minor": 0
      },
      "text/plain": [
       "Saving Images:   0%|          | 0/201 [00:00<?, ?it/s]"
      ]
     },
     "metadata": {},
     "output_type": "display_data"
    },
    {
     "name": "stdout",
     "output_type": "stream",
     "text": [
      "Could not save https://upload.wikimedia.org/wikipedia/commons/thumb/e/e3/Lepiota_cristata_G5.JPG/200px-Lepiota_cristata_G5.JPG - cannot identify image file <_io.BytesIO object at 0x0000026F67B5AC70>\n",
      "Failed to access image url https://www.discoverlife.org/IM/I_MWS/0036/320/Lepiota_cristata,I_MWS3682.jpg - HTTPSConnectionPool(host='www.discoverlife.org', port=443): Max retries exceeded with url: /IM/I_MWS/0036/320/Lepiota_cristata,I_MWS3682.jpg (Caused by SSLError(SSLCertVerificationError(1, '[SSL: CERTIFICATE_VERIFY_FAILED] certificate verify failed: unable to get local issuer certificate (_ssl.c:1125)')))\n",
      "Could not save https://www.discoverlife.org/IM/I_MWS/0036/320/Lepiota_cristata,I_MWS3682.jpg - local variable 'image_content' referenced before assignment\n",
      "Could not save https://upload.wikimedia.org/wikipedia/commons/thumb/8/8e/A_Lepiota_cristata.jpg/2560px-A_Lepiota_cristata.jpg - cannot identify image file <_io.BytesIO object at 0x0000026F67D9C950>\n",
      "Could not save https://upload.wikimedia.org/wikipedia/commons/f/fe/2011-12-01_Lepiota_cristata_%28Bolton%29_P._Kumm_186612.jpg - cannot identify image file <_io.BytesIO object at 0x0000026F67D08770>\n",
      "Could not save https://upload.wikimedia.org/wikipedia/commons/b/b5/Lepiota_cristata_161114w.JPG - cannot identify image file <_io.BytesIO object at 0x0000026F67D088B0>\n",
      "Could not save https://upload.wikimedia.org/wikipedia/commons/thumb/8/8e/Lepiota_cristata_JPG2.jpg/1200px-Lepiota_cristata_JPG2.jpg - cannot identify image file <_io.BytesIO object at 0x0000026F67BEE7C0>\n"
     ]
    },
    {
     "data": {
      "application/vnd.jupyter.widget-view+json": {
       "model_id": "7db8c5c181d94fdabd9b6f7cdd2cf4b0",
       "version_major": 2,
       "version_minor": 0
      },
      "text/plain": [
       "Extracting 200 links from 256 Duckduckgo results:   0%|          | 0/256 [00:00<?, ?it/s]"
      ]
     },
     "metadata": {},
     "output_type": "display_data"
    }
   ],
   "source": [
    "number_images = 200\n",
    "start_from = 48\n",
    "\n",
    "image_scraper = ImageScrapper(save_path='\\\\images2')\n",
    "\n",
    "for idx, shroom in enumerate(tqdm(df['scientific'][start_from:], desc='Mushroom no: ', position=0, leave=False)):\n",
    "    \n",
    "    image_scraper.configure_engine('Google')\n",
    "\n",
    "    image_scraper.search_and_download(search_term=shroom, number_images=number_images, exact_match=True)\n",
    "\n",
    "    image_scraper.configure_engine('Duckduckgo')\n",
    "\n",
    "    image_scraper.search_and_download(search_term=shroom, number_images=number_images, exact_match=True)"
   ]
  },
  {
   "cell_type": "code",
   "execution_count": null,
   "id": "57a69899-7304-44ec-a72d-4d6482e09987",
   "metadata": {},
   "outputs": [],
   "source": []
  }
 ],
 "metadata": {
  "kernelspec": {
   "display_name": "Python 3",
   "language": "python",
   "name": "python3"
  },
  "language_info": {
   "codemirror_mode": {
    "name": "ipython",
    "version": 3
   },
   "file_extension": ".py",
   "mimetype": "text/x-python",
   "name": "python",
   "nbconvert_exporter": "python",
   "pygments_lexer": "ipython3",
   "version": "3.8.8"
  }
 },
 "nbformat": 4,
 "nbformat_minor": 5
}
