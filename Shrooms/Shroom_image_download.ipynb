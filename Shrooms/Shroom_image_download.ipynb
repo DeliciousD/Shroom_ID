{
 "cells": [
  {
   "cell_type": "code",
   "execution_count": 1,
   "id": "d9a4abd7-f596-41f5-aaa4-a95a17bb442f",
   "metadata": {},
   "outputs": [],
   "source": [
    "from Image_scraper.image_scraper import ImageScrapper\n",
    "import pandas as pd\n",
    "from tqdm.notebook import tqdm"
   ]
  },
  {
   "cell_type": "code",
   "execution_count": 2,
   "id": "279cc8a2-6d19-433c-94dc-66039cfa69aa",
   "metadata": {},
   "outputs": [
    {
     "data": {
      "text/html": [
       "<div>\n",
       "<style scoped>\n",
       "    .dataframe tbody tr th:only-of-type {\n",
       "        vertical-align: middle;\n",
       "    }\n",
       "\n",
       "    .dataframe tbody tr th {\n",
       "        vertical-align: top;\n",
       "    }\n",
       "\n",
       "    .dataframe thead th {\n",
       "        text-align: right;\n",
       "    }\n",
       "</style>\n",
       "<table border=\"1\" class=\"dataframe\">\n",
       "  <thead>\n",
       "    <tr style=\"text-align: right;\">\n",
       "      <th></th>\n",
       "      <th>Unnamed: 0</th>\n",
       "      <th>scientific</th>\n",
       "      <th>common</th>\n",
       "      <th>season start</th>\n",
       "      <th>season end</th>\n",
       "      <th>Type</th>\n",
       "      <th>shrooms seasons</th>\n",
       "    </tr>\n",
       "  </thead>\n",
       "  <tbody>\n",
       "    <tr>\n",
       "      <th>0</th>\n",
       "      <td>0</td>\n",
       "      <td>Tuber aestivum</td>\n",
       "      <td>Truffles</td>\n",
       "      <td>Aug</td>\n",
       "      <td>Nov</td>\n",
       "      <td>Edible</td>\n",
       "      <td>['Autumn', 'Summer']</td>\n",
       "    </tr>\n",
       "    <tr>\n",
       "      <th>1</th>\n",
       "      <td>1</td>\n",
       "      <td>Tricholomopsis rutilans</td>\n",
       "      <td>Plums And Custard</td>\n",
       "      <td>Jul</td>\n",
       "      <td>Nov</td>\n",
       "      <td>Inedible</td>\n",
       "      <td>['Autumn', 'Summer']</td>\n",
       "    </tr>\n",
       "    <tr>\n",
       "      <th>2</th>\n",
       "      <td>2</td>\n",
       "      <td>Tricholoma terreum</td>\n",
       "      <td>The Grey Knight</td>\n",
       "      <td>Aug</td>\n",
       "      <td>Oct</td>\n",
       "      <td>Poisonous</td>\n",
       "      <td>['Autumn', 'Summer']</td>\n",
       "    </tr>\n",
       "    <tr>\n",
       "      <th>3</th>\n",
       "      <td>3</td>\n",
       "      <td>Stropharia caerulea</td>\n",
       "      <td>Blue Roundhead</td>\n",
       "      <td>Aug</td>\n",
       "      <td>Dec</td>\n",
       "      <td>Poisonous</td>\n",
       "      <td>['Autumn', 'Winter']</td>\n",
       "    </tr>\n",
       "    <tr>\n",
       "      <th>4</th>\n",
       "      <td>4</td>\n",
       "      <td>Sparassis crispa</td>\n",
       "      <td>Cauliflower Fungus</td>\n",
       "      <td>Aug</td>\n",
       "      <td>Nov</td>\n",
       "      <td>Edible</td>\n",
       "      <td>['Autumn', 'Summer']</td>\n",
       "    </tr>\n",
       "  </tbody>\n",
       "</table>\n",
       "</div>"
      ],
      "text/plain": [
       "   Unnamed: 0               scientific              common season start  \\\n",
       "0           0           Tuber aestivum            Truffles         Aug    \n",
       "1           1  Tricholomopsis rutilans   Plums And Custard         Jul    \n",
       "2           2       Tricholoma terreum     The Grey Knight         Aug    \n",
       "3           3      Stropharia caerulea      Blue Roundhead         Aug    \n",
       "4           4         Sparassis crispa  Cauliflower Fungus         Aug    \n",
       "\n",
       "  season end       Type       shrooms seasons  \n",
       "0       Nov      Edible  ['Autumn', 'Summer']  \n",
       "1       Nov    Inedible  ['Autumn', 'Summer']  \n",
       "2       Oct   Poisonous  ['Autumn', 'Summer']  \n",
       "3       Dec   Poisonous  ['Autumn', 'Winter']  \n",
       "4       Nov      Edible  ['Autumn', 'Summer']  "
      ]
     },
     "execution_count": 2,
     "metadata": {},
     "output_type": "execute_result"
    }
   ],
   "source": [
    "df = pd.read_csv('Shroom_DB.csv')\n",
    "df.head()"
   ]
  },
  {
   "cell_type": "markdown",
   "id": "b2ed299b-c244-42ab-861a-3c823ad23318",
   "metadata": {},
   "source": [
    "#### Resume downloading from: "
   ]
  },
  {
   "cell_type": "code",
   "execution_count": 3,
   "id": "06128275-19ef-4566-8a25-936d936aca7e",
   "metadata": {},
   "outputs": [
    {
     "data": {
      "text/html": [
       "<div>\n",
       "<style scoped>\n",
       "    .dataframe tbody tr th:only-of-type {\n",
       "        vertical-align: middle;\n",
       "    }\n",
       "\n",
       "    .dataframe tbody tr th {\n",
       "        vertical-align: top;\n",
       "    }\n",
       "\n",
       "    .dataframe thead th {\n",
       "        text-align: right;\n",
       "    }\n",
       "</style>\n",
       "<table border=\"1\" class=\"dataframe\">\n",
       "  <thead>\n",
       "    <tr style=\"text-align: right;\">\n",
       "      <th></th>\n",
       "      <th>Unnamed: 0</th>\n",
       "      <th>scientific</th>\n",
       "      <th>common</th>\n",
       "      <th>season start</th>\n",
       "      <th>season end</th>\n",
       "      <th>Type</th>\n",
       "      <th>shrooms seasons</th>\n",
       "    </tr>\n",
       "  </thead>\n",
       "  <tbody>\n",
       "    <tr>\n",
       "      <th>66</th>\n",
       "      <td>66</td>\n",
       "      <td>Hygrocybe conica</td>\n",
       "      <td>Blackening Waxcap</td>\n",
       "      <td>Jul</td>\n",
       "      <td>Nov</td>\n",
       "      <td>Inedible</td>\n",
       "      <td>['Autumn', 'Summer']</td>\n",
       "    </tr>\n",
       "  </tbody>\n",
       "</table>\n",
       "</div>"
      ],
      "text/plain": [
       "    Unnamed: 0        scientific             common season start season end  \\\n",
       "66          66  Hygrocybe conica  Blackening Waxcap         Jul        Nov    \n",
       "\n",
       "        Type       shrooms seasons  \n",
       "66  Inedible  ['Autumn', 'Summer']  "
      ]
     },
     "execution_count": 3,
     "metadata": {},
     "output_type": "execute_result"
    }
   ],
   "source": [
    "df[df['scientific'].str.contains(\"Hygrocybe conica\")]"
   ]
  },
  {
   "cell_type": "code",
   "execution_count": 8,
   "id": "1cbd725c-cb31-4db3-9a4e-184f54d451a8",
   "metadata": {},
   "outputs": [],
   "source": [
    "number_images = 200\n",
    "start_from = 139\n",
    "end_at = 141\n",
    "\n",
    "image_scraper = ImageScrapper(save_path='\\\\images2')\n",
    "\n",
    "for idx, shroom in enumerate(tqdm(df['scientific'][start_from:end_at], desc='Mushroom no: ', position=0, leave=False)):\n",
    "    \n",
    "    image_scraper.configure_engine('Google')\n",
    "\n",
    "    image_scraper.search_and_download(search_term=shroom, number_images=number_images, exact_match=True)\n",
    "\n",
    "    image_scraper.configure_engine('Duckduckgo')\n",
    "\n",
    "    image_scraper.search_and_download(search_term=shroom, number_images=number_images, exact_match=True)"
   ]
  },
  {
   "cell_type": "code",
   "execution_count": 7,
   "id": "f2465bb7-c9b9-4f74-bd03-abbac2d400b8",
   "metadata": {},
   "outputs": [],
   "source": [
    "# shroom = 'Inocybe geophylla\"  -\"lilacina'\n",
    "shroom = 'Hygrocybe punicea'\n",
    "\n",
    "# 'Hygrophoropsis aurantiaca', 'Hygrocybe miniata', 'Hygrocybe punicea'"
   ]
  },
  {
   "cell_type": "code",
   "execution_count": 8,
   "id": "2d0244d8-b61d-47dc-aaaa-f9a1a4db578d",
   "metadata": {},
   "outputs": [
    {
     "data": {
      "application/vnd.jupyter.widget-view+json": {
       "model_id": "9471a1c7ad394a5a90c6b8863f7d983b",
       "version_major": 2,
       "version_minor": 0
      },
      "text/plain": [
       "Extracting 200 links from 300 Google results:   0%|          | 0/300 [00:00<?, ?it/s]"
      ]
     },
     "metadata": {},
     "output_type": "display_data"
    },
    {
     "name": "stdout",
     "output_type": "stream",
     "text": [
      "Failed to click thumbnail\n"
     ]
    },
    {
     "data": {
      "application/vnd.jupyter.widget-view+json": {
       "model_id": "",
       "version_major": 2,
       "version_minor": 0
      },
      "text/plain": [
       "Saving Images:   0%|          | 0/200 [00:00<?, ?it/s]"
      ]
     },
     "metadata": {},
     "output_type": "display_data"
    },
    {
     "name": "stdout",
     "output_type": "stream",
     "text": [
      "Could not save image URL - cannot identify image file <_io.BytesIO object at 0x00000198B900B810>\n",
      "Could not save image URL - cannot identify image file <_io.BytesIO object at 0x00000198BA22DA90>\n",
      "Could not save image URL - cannot identify image file <_io.BytesIO object at 0x00000198F649A8B0>\n"
     ]
    },
    {
     "data": {
      "application/vnd.jupyter.widget-view+json": {
       "model_id": "43f4fb6dbde44e3da433b3df0d3c2864",
       "version_major": 2,
       "version_minor": 0
      },
      "text/plain": [
       "Extracting 200 links from 353 Duckduckgo results:   0%|          | 0/353 [00:00<?, ?it/s]"
      ]
     },
     "metadata": {},
     "output_type": "display_data"
    },
    {
     "data": {
      "application/vnd.jupyter.widget-view+json": {
       "model_id": "",
       "version_major": 2,
       "version_minor": 0
      },
      "text/plain": [
       "Saving Images:   0%|          | 0/200 [00:00<?, ?it/s]"
      ]
     },
     "metadata": {},
     "output_type": "display_data"
    },
    {
     "name": "stdout",
     "output_type": "stream",
     "text": [
      "Could not save image URL - cannot identify image file <_io.BytesIO object at 0x00000198BA22D860>\n",
      "Could not save image URL - cannot identify image file <_io.BytesIO object at 0x00000198B91BC860>\n",
      "Could not save image URL - cannot identify image file <_io.BytesIO object at 0x00000198B91BCEF0>\n",
      "Could not save image URL - cannot identify image file <_io.BytesIO object at 0x00000198BA238A90>\n"
     ]
    }
   ],
   "source": [
    "number_images = 200\n",
    "\n",
    "image_scraper.configure_engine('Google')\n",
    "\n",
    "image_scraper.search_and_download(search_term=shroom, number_images=number_images, exact_match=True)\n",
    "\n",
    "image_scraper.configure_engine('Duckduckgo')\n",
    "\n",
    "image_scraper.search_and_download(search_term=shroom, number_images=number_images, exact_match=True)"
   ]
  },
  {
   "cell_type": "code",
   "execution_count": 2,
   "id": "09f86907-4d45-4b8a-ac86-9f5d528fafbc",
   "metadata": {},
   "outputs": [],
   "source": [
    "image_scraper = ImageScrapper(save_path='\\\\images2')"
   ]
  },
  {
   "cell_type": "code",
   "execution_count": null,
   "id": "ce585fba-259d-4356-bde8-c5e2b97b1b37",
   "metadata": {},
   "outputs": [],
   "source": [
    "Hygrophoropsis aurantiaca"
   ]
  }
 ],
 "metadata": {
  "kernelspec": {
   "display_name": "Python 3",
   "language": "python",
   "name": "python3"
  },
  "language_info": {
   "codemirror_mode": {
    "name": "ipython",
    "version": 3
   },
   "file_extension": ".py",
   "mimetype": "text/x-python",
   "name": "python",
   "nbconvert_exporter": "python",
   "pygments_lexer": "ipython3",
   "version": "3.8.8"
  }
 },
 "nbformat": 4,
 "nbformat_minor": 5
}
