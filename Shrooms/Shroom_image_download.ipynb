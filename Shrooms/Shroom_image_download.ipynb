{
 "cells": [
  {
   "cell_type": "code",
   "execution_count": 1,
   "id": "d9a4abd7-f596-41f5-aaa4-a95a17bb442f",
   "metadata": {},
   "outputs": [],
   "source": [
    "from Image_scraper.image_scraper import ImageScrapper\n",
    "import pandas as pd\n",
    "from tqdm.notebook import tqdm"
   ]
  },
  {
   "cell_type": "code",
   "execution_count": 2,
   "id": "279cc8a2-6d19-433c-94dc-66039cfa69aa",
   "metadata": {},
   "outputs": [
    {
     "data": {
      "text/html": [
       "<div>\n",
       "<style scoped>\n",
       "    .dataframe tbody tr th:only-of-type {\n",
       "        vertical-align: middle;\n",
       "    }\n",
       "\n",
       "    .dataframe tbody tr th {\n",
       "        vertical-align: top;\n",
       "    }\n",
       "\n",
       "    .dataframe thead th {\n",
       "        text-align: right;\n",
       "    }\n",
       "</style>\n",
       "<table border=\"1\" class=\"dataframe\">\n",
       "  <thead>\n",
       "    <tr style=\"text-align: right;\">\n",
       "      <th></th>\n",
       "      <th>scientific</th>\n",
       "      <th>common</th>\n",
       "      <th>season start</th>\n",
       "      <th>season end</th>\n",
       "      <th>Type</th>\n",
       "      <th>shrooms seasons</th>\n",
       "    </tr>\n",
       "  </thead>\n",
       "  <tbody>\n",
       "    <tr>\n",
       "      <th>0</th>\n",
       "      <td>Tuber aestivum</td>\n",
       "      <td>Truffles</td>\n",
       "      <td>Aug</td>\n",
       "      <td>Nov</td>\n",
       "      <td>Edible</td>\n",
       "      <td>['Autumn', 'Summer']</td>\n",
       "    </tr>\n",
       "    <tr>\n",
       "      <th>1</th>\n",
       "      <td>Tricholomopsis rutilans</td>\n",
       "      <td>Plums And Custard</td>\n",
       "      <td>Jul</td>\n",
       "      <td>Nov</td>\n",
       "      <td>Inedible</td>\n",
       "      <td>['Autumn', 'Summer']</td>\n",
       "    </tr>\n",
       "    <tr>\n",
       "      <th>2</th>\n",
       "      <td>Tricholoma terreum</td>\n",
       "      <td>The Grey Knight</td>\n",
       "      <td>Aug</td>\n",
       "      <td>Oct</td>\n",
       "      <td>Poisonous</td>\n",
       "      <td>['Autumn', 'Summer']</td>\n",
       "    </tr>\n",
       "    <tr>\n",
       "      <th>3</th>\n",
       "      <td>Stropharia caerulea</td>\n",
       "      <td>Blue Roundhead</td>\n",
       "      <td>Aug</td>\n",
       "      <td>Dec</td>\n",
       "      <td>Poisonous</td>\n",
       "      <td>['Autumn', 'Winter']</td>\n",
       "    </tr>\n",
       "    <tr>\n",
       "      <th>4</th>\n",
       "      <td>Sparassis crispa</td>\n",
       "      <td>Cauliflower Fungus</td>\n",
       "      <td>Aug</td>\n",
       "      <td>Nov</td>\n",
       "      <td>Edible</td>\n",
       "      <td>['Autumn', 'Summer']</td>\n",
       "    </tr>\n",
       "  </tbody>\n",
       "</table>\n",
       "</div>"
      ],
      "text/plain": [
       "                scientific              common season start season end  \\\n",
       "0           Tuber aestivum            Truffles         Aug        Nov    \n",
       "1  Tricholomopsis rutilans   Plums And Custard         Jul        Nov    \n",
       "2       Tricholoma terreum     The Grey Knight         Aug        Oct    \n",
       "3      Stropharia caerulea      Blue Roundhead         Aug        Dec    \n",
       "4         Sparassis crispa  Cauliflower Fungus         Aug        Nov    \n",
       "\n",
       "        Type       shrooms seasons  \n",
       "0     Edible  ['Autumn', 'Summer']  \n",
       "1   Inedible  ['Autumn', 'Summer']  \n",
       "2  Poisonous  ['Autumn', 'Summer']  \n",
       "3  Poisonous  ['Autumn', 'Winter']  \n",
       "4     Edible  ['Autumn', 'Summer']  "
      ]
     },
     "execution_count": 2,
     "metadata": {},
     "output_type": "execute_result"
    }
   ],
   "source": [
    "df = pd.read_csv('Shroom_DB.csv')\n",
    "df.head()"
   ]
  },
  {
   "cell_type": "markdown",
   "id": "b2ed299b-c244-42ab-861a-3c823ad23318",
   "metadata": {},
   "source": [
    "#### Resume downloading from: "
   ]
  },
  {
   "cell_type": "code",
   "execution_count": 3,
   "id": "06128275-19ef-4566-8a25-936d936aca7e",
   "metadata": {},
   "outputs": [
    {
     "data": {
      "text/html": [
       "<div>\n",
       "<style scoped>\n",
       "    .dataframe tbody tr th:only-of-type {\n",
       "        vertical-align: middle;\n",
       "    }\n",
       "\n",
       "    .dataframe tbody tr th {\n",
       "        vertical-align: top;\n",
       "    }\n",
       "\n",
       "    .dataframe thead th {\n",
       "        text-align: right;\n",
       "    }\n",
       "</style>\n",
       "<table border=\"1\" class=\"dataframe\">\n",
       "  <thead>\n",
       "    <tr style=\"text-align: right;\">\n",
       "      <th></th>\n",
       "      <th>scientific</th>\n",
       "      <th>common</th>\n",
       "      <th>season start</th>\n",
       "      <th>season end</th>\n",
       "      <th>Type</th>\n",
       "      <th>shrooms seasons</th>\n",
       "    </tr>\n",
       "  </thead>\n",
       "  <tbody>\n",
       "    <tr>\n",
       "      <th>39</th>\n",
       "      <td>Macrolepiota procera</td>\n",
       "      <td>Parasol</td>\n",
       "      <td>Jun</td>\n",
       "      <td>Sep</td>\n",
       "      <td>Edible</td>\n",
       "      <td>['Autumn', 'Summer']</td>\n",
       "    </tr>\n",
       "  </tbody>\n",
       "</table>\n",
       "</div>"
      ],
      "text/plain": [
       "              scientific   common season start season end    Type  \\\n",
       "39  Macrolepiota procera  Parasol         Jun        Sep   Edible   \n",
       "\n",
       "         shrooms seasons  \n",
       "39  ['Autumn', 'Summer']  "
      ]
     },
     "execution_count": 3,
     "metadata": {},
     "output_type": "execute_result"
    }
   ],
   "source": [
    "df[df['scientific'].str.contains(\"Macrolepiota procera\")]"
   ]
  },
  {
   "cell_type": "code",
   "execution_count": null,
   "id": "1cbd725c-cb31-4db3-9a4e-184f54d451a8",
   "metadata": {},
   "outputs": [
    {
     "data": {
      "application/vnd.jupyter.widget-view+json": {
       "model_id": "3e5fc29d7a4b4bf28920f2ea17db8313",
       "version_major": 2,
       "version_minor": 0
      },
      "text/plain": [
       "Mushroom no:   0%|          | 0/113 [00:00<?, ?it/s]"
      ]
     },
     "metadata": {},
     "output_type": "display_data"
    },
    {
     "data": {
      "application/vnd.jupyter.widget-view+json": {
       "model_id": "a10a7cc63eec46a9a5d50f827c6b8b5c",
       "version_major": 2,
       "version_minor": 0
      },
      "text/plain": [
       "Extracting 200 links from 200 Google results:   0%|          | 0/200 [00:00<?, ?it/s]"
      ]
     },
     "metadata": {},
     "output_type": "display_data"
    },
    {
     "name": "stdout",
     "output_type": "stream",
     "text": [
      "Failed to click thumbnail\n"
     ]
    },
    {
     "data": {
      "application/vnd.jupyter.widget-view+json": {
       "model_id": "",
       "version_major": 2,
       "version_minor": 0
      },
      "text/plain": [
       "Saving Images:   0%|          | 0/200 [00:00<?, ?it/s]"
      ]
     },
     "metadata": {},
     "output_type": "display_data"
    },
    {
     "name": "stdout",
     "output_type": "stream",
     "text": [
      "Could not save https://upload.wikimedia.org/wikipedia/commons/thumb/0/09/Handkea_utriformis_G25_lights-shadows.jpg/1280px-Handkea_utriformis_G25_lights-shadows.jpg - cannot identify image file <_io.BytesIO object at 0x0000025F35ECF900>\n",
      "Could not save https://upload.wikimedia.org/wikipedia/commons/7/7d/P1040077_Calvatia_utriformis.JPG - cannot identify image file <_io.BytesIO object at 0x0000025F35DD3B80>\n"
     ]
    },
    {
     "name": "stderr",
     "output_type": "stream",
     "text": [
      "C:\\Users\\danie\\anaconda3\\lib\\site-packages\\PIL\\Image.py:2966: UserWarning: image file could not be identified because WEBP support not installed\n",
      "  warnings.warn(message)\n"
     ]
    },
    {
     "name": "stdout",
     "output_type": "stream",
     "text": [
      "Could not save https://data09.123doks.com/thumbv2/9libnet/000/095/95325/cover.webp - cannot identify image file <_io.BytesIO object at 0x0000025F35F7ED60>\n",
      "Could not save https://ameisenstadt.de/wp-content/uploads/2017/11/HansPeterHorn_DSC_1202.jpg - cannot identify image file <_io.BytesIO object at 0x0000025F35F7ED60>\n"
     ]
    },
    {
     "data": {
      "application/vnd.jupyter.widget-view+json": {
       "model_id": "",
       "version_major": 2,
       "version_minor": 0
      },
      "text/plain": [
       "Extracting 200 links from 189 Duckduckgo results:   0%|          | 0/189 [00:00<?, ?it/s]"
      ]
     },
     "metadata": {},
     "output_type": "display_data"
    },
    {
     "name": "stdout",
     "output_type": "stream",
     "text": [
      "Failed to click thumbnail\n",
      "Retrieving more results\n"
     ]
    },
    {
     "data": {
      "application/vnd.jupyter.widget-view+json": {
       "model_id": "",
       "version_major": 2,
       "version_minor": 0
      },
      "text/plain": [
       "Saving Images: : 0it [00:00, ?it/s]"
      ]
     },
     "metadata": {},
     "output_type": "display_data"
    },
    {
     "name": "stdout",
     "output_type": "stream",
     "text": [
      "Failed to save images: 'NoneType' object is not iterable\n"
     ]
    },
    {
     "data": {
      "application/vnd.jupyter.widget-view+json": {
       "model_id": "424720e43e0b4c6aab53e5eab7a0c905",
       "version_major": 2,
       "version_minor": 0
      },
      "text/plain": [
       "Extracting 200 links from 200 Google results:   0%|          | 0/200 [00:00<?, ?it/s]"
      ]
     },
     "metadata": {},
     "output_type": "display_data"
    },
    {
     "data": {
      "application/vnd.jupyter.widget-view+json": {
       "model_id": "",
       "version_major": 2,
       "version_minor": 0
      },
      "text/plain": [
       "Saving Images:   0%|          | 0/200 [00:00<?, ?it/s]"
      ]
     },
     "metadata": {},
     "output_type": "display_data"
    },
    {
     "name": "stdout",
     "output_type": "stream",
     "text": [
      "Could not save https://upload.wikimedia.org/wikipedia/commons/7/73/Lycoperdon_pyriforme_B%C5%BB_7.1.jpg - cannot identify image file <_io.BytesIO object at 0x0000025F35E82630>\n",
      "Could not save https://upload.wikimedia.org/wikipedia/commons/f/f7/Lycoperdon_pyriforme%2C%28Pear_shaped_puffball%29_%2833102940730%29.jpg - cannot identify image file <_io.BytesIO object at 0x0000025F3602FF90>\n",
      "Could not save https://www.foxglovecovert.org.uk/images/species/Lycoperdon_pyriforme_Stump_Puffball_P1080877_copy.jpg - cannot identify image file <_io.BytesIO object at 0x0000025F3602FF90>\n",
      "Could not save https://upload.wikimedia.org/wikipedia/commons/thumb/9/9a/Lycoperdon_pyriforme%2C_Stump_Puffball%2C_Hertfordshire%2C_UK.jpg/1280px-Lycoperdon_pyriforme%2C_Stump_Puffball%2C_Hertfordshire%2C_UK.jpg - cannot identify image file <_io.BytesIO object at 0x0000025F3608A8B0>\n",
      "Could not save https://static.wixstatic.com/media/2e0a27_12176f1a06524356b28b488eafa3557b~mv2.jpg/v1/crop/x_180,y_111,w_387,h_283/fill/w_542,h_372,al_c,lg_1,q_80/Stump%20puffball%20600.webp - cannot identify image file <_io.BytesIO object at 0x0000025F36040400>\n"
     ]
    },
    {
     "data": {
      "application/vnd.jupyter.widget-view+json": {
       "model_id": "88e3bf06501b482391eb909c98a91f10",
       "version_major": 2,
       "version_minor": 0
      },
      "text/plain": [
       "Extracting 200 links from 265 Duckduckgo results:   0%|          | 0/265 [00:00<?, ?it/s]"
      ]
     },
     "metadata": {},
     "output_type": "display_data"
    },
    {
     "data": {
      "application/vnd.jupyter.widget-view+json": {
       "model_id": "",
       "version_major": 2,
       "version_minor": 0
      },
      "text/plain": [
       "Saving Images:   0%|          | 0/200 [00:00<?, ?it/s]"
      ]
     },
     "metadata": {},
     "output_type": "display_data"
    },
    {
     "name": "stdout",
     "output_type": "stream",
     "text": [
      "Could not save https://external-content.duckduckgo.com/iu/?u=http%3A%2F%2Fwww.hippocampus-bildarchiv.com%2Fimages%2FPPIFT0270_Lycoperdon_pyriforme.jpg&f=1&nofb=1 - cannot identify image file <_io.BytesIO object at 0x0000025F35ECF860>\n",
      "Could not save https://external-content.duckduckgo.com/iu/?u=https%3A%2F%2Flive.staticflickr.com%2F2366%2F2377316462_41d9b9a4b6.jpg&f=1&nofb=1 - cannot identify image file <_io.BytesIO object at 0x0000025F360407C0>\n",
      "Could not save https://external-content.duckduckgo.com/iu/?u=http%3A%2F%2Fdirle-punti-potevi.icu%2Ftij%2FJgEESw66tFLgKkzPSpKGBwHaE8.jpg&f=1&nofb=1 - cannot identify image file <_io.BytesIO object at 0x0000025F360A0F90>\n",
      "Could not save https://external-content.duckduckgo.com/iu/?u=http%3A%2F%2Fwww.hippocampus-bildarchiv.com%2Fimages%2FPPIFT0272_Lycoperdon_pyriforme.jpg&f=1&nofb=1 - cannot identify image file <_io.BytesIO object at 0x0000025F35ECF860>\n",
      "Could not save https://external-content.duckduckgo.com/iu/?u=http%3A%2F%2Fwww.hippocampus-bildarchiv.com%2Fimages%2FPPIFT0268_Lycoperdon_pyriforme.jpg&f=1&nofb=1 - cannot identify image file <_io.BytesIO object at 0x0000025F35ECF6D0>\n",
      "Could not save https://external-content.duckduckgo.com/iu/?u=http%3A%2F%2Fwww.hippocampus-bildarchiv.com%2Fimages%2FPPIFT0266_Lycoperdon_pyriforme.jpg&f=1&nofb=1 - cannot identify image file <_io.BytesIO object at 0x0000025F35EB46D0>\n"
     ]
    },
    {
     "data": {
      "application/vnd.jupyter.widget-view+json": {
       "model_id": "51b243e57be5488a9ec244732f201aa4",
       "version_major": 2,
       "version_minor": 0
      },
      "text/plain": [
       "Extracting 200 links from 200 Google results:   0%|          | 0/200 [00:00<?, ?it/s]"
      ]
     },
     "metadata": {},
     "output_type": "display_data"
    },
    {
     "name": "stdout",
     "output_type": "stream",
     "text": [
      "Failed to click thumbnail\n"
     ]
    },
    {
     "data": {
      "application/vnd.jupyter.widget-view+json": {
       "model_id": "",
       "version_major": 2,
       "version_minor": 0
      },
      "text/plain": [
       "Saving Images:   0%|          | 0/200 [00:00<?, ?it/s]"
      ]
     },
     "metadata": {},
     "output_type": "display_data"
    },
    {
     "name": "stdout",
     "output_type": "stream",
     "text": [
      "Could not save https://upload.wikimedia.org/wikipedia/commons/a/a8/Lycoperdon_perlatum_100291154.jpg - cannot identify image file <_io.BytesIO object at 0x0000025F35ECF860>\n",
      "Could not save https://upload.wikimedia.org/wikipedia/commons/thumb/9/9f/Lycoperdon_perlatum_09.jpg/1200px-Lycoperdon_perlatum_09.jpg - cannot identify image file <_io.BytesIO object at 0x0000025F360AC360>\n",
      "Could not save https://upload.wikimedia.org/wikipedia/commons/thumb/1/17/Lycoperdon_perlatum_95340.jpg/220px-Lycoperdon_perlatum_95340.jpg - cannot identify image file <_io.BytesIO object at 0x0000025F35EB4810>\n",
      "Could not save https://upload.wikimedia.org/wikipedia/commons/thumb/2/26/Flaschen-St%C3%A4ubling_%28Lycoperdon_perlatum%2C_syn._L._gemmatum%29-RM-20191014-01.jpg/1200px-Flaschen-St%C3%A4ubling_%28Lycoperdon_perlatum%2C_syn._L._gemmatum%29-RM-20191014-01.jpg - cannot identify image file <_io.BytesIO object at 0x0000025F35E8A090>\n",
      "Could not save https://www.foxglovecovert.org.uk/images/species/Lycoperdon_perlatum_P9090005_Common_Puffball_copy.jpg - cannot identify image file <_io.BytesIO object at 0x0000025F35E8A090>\n",
      "Could not save https://static.wixstatic.com/media/2e0a27_fec6587c28c1479f9030a98c564462e8~mv2.jpg/v1/crop/x_73,y_59,w_455,h_331/fill/w_637,h_438,al_c,lg_1,q_80/Common%20puffball%202%20600.webp - cannot identify image file <_io.BytesIO object at 0x0000025F35E8A090>\n",
      "Could not save https://www.mediastorehouse.com/p/491/gem-studded-puffball-mushroom-lycoperdon-6123960.jpg.webp - cannot identify image file <_io.BytesIO object at 0x0000025F35E826D0>\n",
      "Could not save https://upload.wikimedia.org/wikipedia/commons/f/fb/Lycoperdon_perlatum_89470832.jpg - cannot identify image file <_io.BytesIO object at 0x0000025F33515B30>\n",
      "Could not save https://upload.wikimedia.org/wikipedia/commons/a/a5/Lycoperdon_perlatum_99284516.jpg - cannot identify image file <_io.BytesIO object at 0x0000025F33515B30>\n",
      "Could not save https://upload.wikimedia.org/wikipedia/commons/e/e5/Lycoperdon_perlatum%2C_Common_Puffball_%2C_UK.jpg - cannot identify image file <_io.BytesIO object at 0x0000025F35EB4810>\n"
     ]
    },
    {
     "data": {
      "application/vnd.jupyter.widget-view+json": {
       "model_id": "7b47e6d83e544338969d8c2b2eef8927",
       "version_major": 2,
       "version_minor": 0
      },
      "text/plain": [
       "Extracting 200 links from 264 Duckduckgo results:   0%|          | 0/264 [00:00<?, ?it/s]"
      ]
     },
     "metadata": {},
     "output_type": "display_data"
    },
    {
     "name": "stdout",
     "output_type": "stream",
     "text": [
      "Failed to click thumbnail\n"
     ]
    },
    {
     "data": {
      "application/vnd.jupyter.widget-view+json": {
       "model_id": "",
       "version_major": 2,
       "version_minor": 0
      },
      "text/plain": [
       "Saving Images:   0%|          | 0/200 [00:00<?, ?it/s]"
      ]
     },
     "metadata": {},
     "output_type": "display_data"
    },
    {
     "name": "stdout",
     "output_type": "stream",
     "text": [
      "Could not save https://external-content.duckduckgo.com/iu/?u=https%3A%2F%2Fwww.discoverlife.org%2FIM%2FI_MWS%2F0302%2F640%2FLycoperdon_perlatum%2CI_MWS30259.jpg&f=1&nofb=1 - cannot identify image file <_io.BytesIO object at 0x0000025F35E6A950>\n",
      "Could not save https://external-content.duckduckgo.com/iu/?u=https%3A%2F%2Fi1.wp.com%2Fwpamushroomclub.org%2Fwp%2Fwp-content%2Fuploads%2F2016%2F10%2FLycoperdon-perlatum.-By-Richard-Jacob.jpg&f=1&nofb=1 - cannot identify image file <_io.BytesIO object at 0x0000025F360D92C0>\n"
     ]
    },
    {
     "data": {
      "application/vnd.jupyter.widget-view+json": {
       "model_id": "355e3579046343f8ba2cebff8d9a81a0",
       "version_major": 2,
       "version_minor": 0
      },
      "text/plain": [
       "Extracting 200 links from 200 Google results:   0%|          | 0/200 [00:00<?, ?it/s]"
      ]
     },
     "metadata": {},
     "output_type": "display_data"
    },
    {
     "name": "stdout",
     "output_type": "stream",
     "text": [
      "Failed to click thumbnail\n",
      "Failed to click thumbnail\n"
     ]
    },
    {
     "data": {
      "application/vnd.jupyter.widget-view+json": {
       "model_id": "",
       "version_major": 2,
       "version_minor": 0
      },
      "text/plain": [
       "Saving Images:   0%|          | 0/200 [00:00<?, ?it/s]"
      ]
     },
     "metadata": {},
     "output_type": "display_data"
    },
    {
     "name": "stdout",
     "output_type": "stream",
     "text": [
      "Could not save https://upload.wikimedia.org/wikipedia/commons/thumb/2/29/Lycoperdon_nigrescens_%2837576201091%29.jpg/1209px-Lycoperdon_nigrescens_%2837576201091%29.jpg - cannot identify image file <_io.BytesIO object at 0x0000025F3608A6D0>\n",
      "Could not save https://upload.wikimedia.org/wikipedia/commons/7/7e/Lycoperdon_nigrescens_-_Lindsey.jpg - cannot identify image file <_io.BytesIO object at 0x0000025F360A0680>\n",
      "Could not save https://upload.wikimedia.org/wikipedia/commons/5/5a/Lycoperdon_pyriforme.jpg - cannot identify image file <_io.BytesIO object at 0x0000025F360FC180>\n",
      "Could not save https://www.foxglovecovert.org.uk/images/species/Lycoperdon_perlatum_P9090005_Common_Puffball_copy.jpg - cannot identify image file <_io.BytesIO object at 0x0000025F360A0680>\n",
      "Failed to access image url https://www.discoverlife.org/IM/I_MWS/0325/640/Lycoperdon_nigrescens,I_MWS32571.jpg - HTTPSConnectionPool(host='www.discoverlife.org', port=443): Max retries exceeded with url: /IM/I_MWS/0325/640/Lycoperdon_nigrescens,I_MWS32571.jpg (Caused by SSLError(SSLCertVerificationError(1, '[SSL: CERTIFICATE_VERIFY_FAILED] certificate verify failed: unable to get local issuer certificate (_ssl.c:1125)')))\n",
      "Could not save https://www.discoverlife.org/IM/I_MWS/0325/640/Lycoperdon_nigrescens,I_MWS32571.jpg - local variable 'image_content' referenced before assignment\n",
      "Could not save https://www.foxglovecovert.org.uk/images/species/Lycoperdon_nigrescens_Dusky_Puffball_P1040218_copy.jpg - cannot identify image file <_io.BytesIO object at 0x0000025F35DD38B0>\n"
     ]
    },
    {
     "data": {
      "application/vnd.jupyter.widget-view+json": {
       "model_id": "e0c14803621945c68dbe0df7e60b31e3",
       "version_major": 2,
       "version_minor": 0
      },
      "text/plain": [
       "Extracting 200 links from 273 Duckduckgo results:   0%|          | 0/273 [00:00<?, ?it/s]"
      ]
     },
     "metadata": {},
     "output_type": "display_data"
    },
    {
     "data": {
      "application/vnd.jupyter.widget-view+json": {
       "model_id": "",
       "version_major": 2,
       "version_minor": 0
      },
      "text/plain": [
       "Saving Images:   0%|          | 0/200 [00:00<?, ?it/s]"
      ]
     },
     "metadata": {},
     "output_type": "display_data"
    },
    {
     "name": "stdout",
     "output_type": "stream",
     "text": [
      "Could not save https://external-content.duckduckgo.com/iu/?u=http%3A%2F%2Fwww.discoverlife.org%2FIM%2FI_MWS%2F0325%2F320%2FLycoperdon_nigrescens%2CI_MWS32567.jpg&f=1&nofb=1 - cannot identify image file <_io.BytesIO object at 0x0000025F35E824F0>\n",
      "Could not save https://external-content.duckduckgo.com/iu/?u=http%3A%2F%2Fwww.discoverlife.org%2FIM%2FI_MWS%2F0325%2F320%2FLycoperdon_nigrescens%2CI_MWS32571.jpg&f=1&nofb=1 - cannot identify image file <_io.BytesIO object at 0x0000025F36127C20>\n",
      "Could not save https://external-content.duckduckgo.com/iu/?u=http%3A%2F%2Fbioref.lastdragon.org%2FAgaricales%2FLycoperdon_nigrescens_DSCF0035.jpg&f=1&nofb=1 - cannot identify image file <_io.BytesIO object at 0x0000025F35E6A900>\n",
      "Could not save https://external-content.duckduckgo.com/iu/?u=https%3A%2F%2Fwww.discoverlife.org%2FIM%2FI_MWS%2F0325%2F320%2FLycoperdon_nigrescens%2CI_MWS32538.jpg&f=1&nofb=1 - cannot identify image file <_io.BytesIO object at 0x0000025F360A0810>\n"
     ]
    },
    {
     "data": {
      "application/vnd.jupyter.widget-view+json": {
       "model_id": "e69352a026f44a2a980f1452c4febf3c",
       "version_major": 2,
       "version_minor": 0
      },
      "text/plain": [
       "Extracting 200 links from 200 Google results:   0%|          | 0/200 [00:00<?, ?it/s]"
      ]
     },
     "metadata": {},
     "output_type": "display_data"
    },
    {
     "data": {
      "application/vnd.jupyter.widget-view+json": {
       "model_id": "",
       "version_major": 2,
       "version_minor": 0
      },
      "text/plain": [
       "Saving Images:   0%|          | 0/200 [00:00<?, ?it/s]"
      ]
     },
     "metadata": {},
     "output_type": "display_data"
    },
    {
     "name": "stdout",
     "output_type": "stream",
     "text": [
      "Could not save https://upload.wikimedia.org/wikipedia/commons/thumb/2/2c/Lyophyllum_connatum_G4_%281%29.JPG/220px-Lyophyllum_connatum_G4_%281%29.JPG - cannot identify image file <_io.BytesIO object at 0x0000025F37153540>\n",
      "Could not save https://t4.ftcdn.net/jpg/02/26/38/05/360_F_226380536_5dIlne3vVL6ezDsLchzx2ajLjJqxOahK.webp - cannot identify image file <_io.BytesIO object at 0x0000025F37153C70>\n"
     ]
    },
    {
     "data": {
      "application/vnd.jupyter.widget-view+json": {
       "model_id": "eeed068e10a84f0db77284427dce6124",
       "version_major": 2,
       "version_minor": 0
      },
      "text/plain": [
       "Extracting 200 links from 262 Duckduckgo results:   0%|          | 0/262 [00:00<?, ?it/s]"
      ]
     },
     "metadata": {},
     "output_type": "display_data"
    },
    {
     "name": "stdout",
     "output_type": "stream",
     "text": [
      "Failed to click thumbnail\n",
      "Failed to click thumbnail\n"
     ]
    },
    {
     "data": {
      "application/vnd.jupyter.widget-view+json": {
       "model_id": "",
       "version_major": 2,
       "version_minor": 0
      },
      "text/plain": [
       "Saving Images:   0%|          | 0/200 [00:00<?, ?it/s]"
      ]
     },
     "metadata": {},
     "output_type": "display_data"
    },
    {
     "name": "stdout",
     "output_type": "stream",
     "text": [
      "Could not save https://external-content.duckduckgo.com/iu/?u=https%3A%2F%2Fs3.amazonaws.com%2Fmedia.jungledragon.com%2Fimages%2F3043%2F85678_medium.jpg%3FAWSAccessKeyId%3D05GMT0V3GWVNE7GGM1R2%26Expires%3D1625702410%26Signature%3D3MJXPsPxOKYYxkVMD7G3e%252Bn1iDM%253D&f=1&nofb=1 - cannot identify image file <_io.BytesIO object at 0x0000025F37189680>\n",
      "Could not save https://external-content.duckduckgo.com/iu/?u=https%3A%2F%2Fs3.amazonaws.com%2Fmedia.jungledragon.com%2Fimages%2F3314%2F73743_medium.jpg%3FAWSAccessKeyId%3D05GMT0V3GWVNE7GGM1R2%26Expires%3D1625702410%26Signature%3Dx2h4KZiwwUReJijvfaX6IeNVOuw%253D&f=1&nofb=1 - cannot identify image file <_io.BytesIO object at 0x0000025F360A0680>\n",
      "Could not save https://external-content.duckduckgo.com/iu/?u=https%3A%2F%2Fwww.luontoportti.com%2Fsuomi%2Fimages%2F27727.jpg&f=1&nofb=1 - cannot identify image file <_io.BytesIO object at 0x0000025F360FCD10>\n",
      "Could not save https://external-content.duckduckgo.com/iu/?u=https%3A%2F%2Fwww.luontoportti.com%2Fsuomi%2Fimages%2F27509.jpg&f=1&nofb=1 - cannot identify image file <_io.BytesIO object at 0x0000025F360FCD10>\n",
      "Could not save https://external-content.duckduckgo.com/iu/?u=https%3A%2F%2Fwww.luontoportti.com%2Fsuomi%2Fimages%2F27724.jpg&f=1&nofb=1 - cannot identify image file <_io.BytesIO object at 0x0000025F36128E00>\n",
      "Could not save https://external-content.duckduckgo.com/iu/?u=http%3A%2F%2Fwww.luontoportti.com%2Fsuomi%2Fimages%2F27723.jpg&f=1&nofb=1 - cannot identify image file <_io.BytesIO object at 0x0000025F3613CE50>\n",
      "Could not save https://external-content.duckduckgo.com/iu/?u=https%3A%2F%2Fs3.amazonaws.com%2Fmedia.jungledragon.com%2Fimages%2F3231%2F56128_medium.JPG%3FAWSAccessKeyId%3D05GMT0V3GWVNE7GGM1R2%26Expires%3D1625702410%26Signature%3DFx7ttxYkSs8n826A6wvJNfZD444%253D&f=1&nofb=1 - cannot identify image file <_io.BytesIO object at 0x0000025F36128B30>\n",
      "Could not save https://external-content.duckduckgo.com/iu/?u=https%3A%2F%2Fs3.amazonaws.com%2Fmedia.jungledragon.com%2Fimages%2F3314%2F84962_medium.jpg%3FAWSAccessKeyId%3D05GMT0V3GWVNE7GGM1R2%26Expires%3D1625702410%26Signature%3Dq%252BJnnRTzCIKxMu%252FvJ5x7KQRO%252BQM%253D&f=1&nofb=1 - cannot identify image file <_io.BytesIO object at 0x0000025F35EF2270>\n",
      "Could not save https://external-content.duckduckgo.com/iu/?u=https%3A%2F%2Fwww.luontoportti.com%2Fsuomi%2Fimages%2F27728.jpg&f=1&nofb=1 - cannot identify image file <_io.BytesIO object at 0x0000025F36128B30>\n",
      "Could not save https://external-content.duckduckgo.com/iu/?u=https%3A%2F%2Fstatic.inaturalist.org%2Fphotos%2F12720228%2Fmedium.jpg%3F1515115670&f=1&nofb=1 - cannot identify image file <_io.BytesIO object at 0x0000025F3613CE50>\n",
      "Could not save https://external-content.duckduckgo.com/iu/?u=https%3A%2F%2Fs3.amazonaws.com%2Fmedia.jungledragon.com%2Fimages%2F1332%2F87974_small.jpg%3FAWSAccessKeyId%3D05GMT0V3GWVNE7GGM1R2%26Expires%3D1625702410%26Signature%3Dlu5aPY%252BCNQz8wbShU8jx%252FVyN%252BYk%253D&f=1&nofb=1 - cannot identify image file <_io.BytesIO object at 0x0000025F3613CE50>\n",
      "Could not save https://external-content.duckduckgo.com/iu/?u=http%3A%2F%2Fwww.luontoportti.com%2Fsuomi%2Fimages%2F27730.jpg&f=1&nofb=1 - cannot identify image file <_io.BytesIO object at 0x0000025F3613CE50>\n",
      "Could not save https://external-content.duckduckgo.com/iu/?u=http%3A%2F%2Fwww.luontoportti.com%2Fsuomi%2Fimages%2F27725.jpg&f=1&nofb=1 - cannot identify image file <_io.BytesIO object at 0x0000025F35EF2270>\n",
      "Could not save https://external-content.duckduckgo.com/iu/?u=https%3A%2F%2Fwww.luontoportti.com%2Fsuomi%2Fimages%2F27510.jpg&f=1&nofb=1 - cannot identify image file <_io.BytesIO object at 0x0000025F360D9450>\n",
      "Could not save https://external-content.duckduckgo.com/iu/?u=http%3A%2F%2Fwww.asergeev.com%2Fp%2Fxl-2016-1909-18%2Fkomarovo_kavgolovo_russia-young_white_domecap_mushrooms_leucocybe.jpg&f=1&nofb=1 - cannot identify image file <_io.BytesIO object at 0x0000025F3613CE50>\n",
      "Could not save https://external-content.duckduckgo.com/iu/?u=https%3A%2F%2Fwww.luontoportti.com%2Fsuomi%2Fimages%2F27729.jpg&f=1&nofb=1 - cannot identify image file <_io.BytesIO object at 0x0000025F35E6A900>\n",
      "Could not save https://external-content.duckduckgo.com/iu/?u=https%3A%2F%2Fwww.luontoportti.com%2Fsuomi%2Fimages%2F27726.jpg&f=1&nofb=1 - cannot identify image file <_io.BytesIO object at 0x0000025F3613CE50>\n"
     ]
    },
    {
     "data": {
      "application/vnd.jupyter.widget-view+json": {
       "model_id": "2b44c8bfb0b14df089bf5dce6a498dcf",
       "version_major": 2,
       "version_minor": 0
      },
      "text/plain": [
       "Extracting 200 links from 200 Google results:   0%|          | 0/200 [00:00<?, ?it/s]"
      ]
     },
     "metadata": {},
     "output_type": "display_data"
    },
    {
     "name": "stdout",
     "output_type": "stream",
     "text": [
      "Failed to click thumbnail\n"
     ]
    },
    {
     "data": {
      "application/vnd.jupyter.widget-view+json": {
       "model_id": "",
       "version_major": 2,
       "version_minor": 0
      },
      "text/plain": [
       "Saving Images:   0%|          | 0/201 [00:00<?, ?it/s]"
      ]
     },
     "metadata": {},
     "output_type": "display_data"
    },
    {
     "name": "stdout",
     "output_type": "stream",
     "text": [
      "Could not save https://upload.wikimedia.org/wikipedia/commons/3/30/Lepista_personata.JPG - cannot identify image file <_io.BytesIO object at 0x0000025F35E6A950>\n",
      "Could not save https://upload.wikimedia.org/wikipedia/commons/a/a8/2009-04-22_Lepista_saeva_%28Fr.%29_P.D._Orton_41666_crop.jpg - cannot identify image file <_io.BytesIO object at 0x0000025F3719E810>\n",
      "Could not save https://static.wixstatic.com/media/2e0a27_7a5d340c9eb54f8ba3695042e24320f7~mv2.jpg/v1/crop/x_105,y_79,w_392,h_286/fill/w_549,h_377,al_c,lg_1,q_80/Field%20Blewit.webp - cannot identify image file <_io.BytesIO object at 0x0000025F360D9180>\n",
      "Could not save https://static.wixstatic.com/media/2e0a27_59e836d65c49439ba548a63b90eed524~mv2.jpg/v1/crop/x_0,y_5,w_600,h_440/fill/w_640,h_440,al_c,lg_1,q_80/Field%20Blewit%20gills.webp - cannot identify image file <_io.BytesIO object at 0x0000025F36128B30>\n",
      "Failed to access image url https://www.discoverlife.org/IM/I_MWS/0306/640/Lepista_saeva,I_MWS30612.jpg - HTTPSConnectionPool(host='www.discoverlife.org', port=443): Max retries exceeded with url: /IM/I_MWS/0306/640/Lepista_saeva,I_MWS30612.jpg (Caused by SSLError(SSLCertVerificationError(1, '[SSL: CERTIFICATE_VERIFY_FAILED] certificate verify failed: unable to get local issuer certificate (_ssl.c:1125)')))\n",
      "Could not save https://www.discoverlife.org/IM/I_MWS/0306/640/Lepista_saeva,I_MWS30612.jpg - local variable 'image_content' referenced before assignment\n",
      "Could not save https://upload.wikimedia.org/wikipedia/en/4/4b/Lepista_saeva.jpg - cannot identify image file <_io.BytesIO object at 0x0000025F35E6A950>\n"
     ]
    },
    {
     "data": {
      "application/vnd.jupyter.widget-view+json": {
       "model_id": "212530bc511440bbb3b713cb6fa85d5b",
       "version_major": 2,
       "version_minor": 0
      },
      "text/plain": [
       "Extracting 200 links from 273 Duckduckgo results:   0%|          | 0/273 [00:00<?, ?it/s]"
      ]
     },
     "metadata": {},
     "output_type": "display_data"
    },
    {
     "data": {
      "application/vnd.jupyter.widget-view+json": {
       "model_id": "",
       "version_major": 2,
       "version_minor": 0
      },
      "text/plain": [
       "Saving Images:   0%|          | 0/200 [00:00<?, ?it/s]"
      ]
     },
     "metadata": {},
     "output_type": "display_data"
    },
    {
     "name": "stdout",
     "output_type": "stream",
     "text": [
      "Could not save https://external-content.duckduckgo.com/iu/?u=http%3A%2F%2Fwww.montalegre-do-cercal.info%2FPilze%2FImages%2FLepista_saeva2.JPG&f=1&nofb=1 - cannot identify image file <_io.BytesIO object at 0x0000025F36128E00>\n",
      "Could not save https://external-content.duckduckgo.com/iu/?u=http%3A%2F%2Fmushrooms-guide.com%2Fassets%2Fimages%2Fcontent%2F106%2Flepista-saeva-4.jpg&f=1&nofb=1 - cannot identify image file <_io.BytesIO object at 0x0000025F371F67C0>\n"
     ]
    },
    {
     "data": {
      "application/vnd.jupyter.widget-view+json": {
       "model_id": "1e7a5dc0ac4047348f669c871637d62c",
       "version_major": 2,
       "version_minor": 0
      },
      "text/plain": [
       "Extracting 200 links from 200 Google results:   0%|          | 0/200 [00:00<?, ?it/s]"
      ]
     },
     "metadata": {},
     "output_type": "display_data"
    },
    {
     "name": "stdout",
     "output_type": "stream",
     "text": [
      "Failed to click thumbnail\n"
     ]
    },
    {
     "data": {
      "application/vnd.jupyter.widget-view+json": {
       "model_id": "",
       "version_major": 2,
       "version_minor": 0
      },
      "text/plain": [
       "Saving Images:   0%|          | 0/200 [00:00<?, ?it/s]"
      ]
     },
     "metadata": {},
     "output_type": "display_data"
    },
    {
     "name": "stdout",
     "output_type": "stream",
     "text": [
      "Could not save https://static.wixstatic.com/media/2e0a27_940051fab618411a8f91acf7bfae42d6~mv2.jpg/v1/crop/x_62,y_42,w_513,h_375/fill/w_616,h_423,al_c,lg_1,q_80/Wood%20Blewit.webp - cannot identify image file <_io.BytesIO object at 0x0000025F37153540>\n",
      "Could not save https://selbyshrooms.com.au/wp-content/uploads/2014/08/IMG_72181.jpg - cannot identify image file <_io.BytesIO object at 0x0000025F371CB360>\n",
      "Could not save https://upload.wikimedia.org/wikipedia/en/thumb/9/91/Lepista_nuda_041022w.jpg/1024px-Lepista_nuda_041022w.jpg - cannot identify image file <_io.BytesIO object at 0x0000025F35ECF360>\n",
      "Could not save https://upload.wikimedia.org/wikipedia/commons/6/6f/Lepista_nuda_07.jpg - cannot identify image file <_io.BytesIO object at 0x0000025F37153540>\n",
      "Could not save https://static.wixstatic.com/media/562348_7515250568774380862ec3acc6e1aa19~mv2.jpg/v1/fill/w_656,h_498,al_c,q_80,usm_0.66_1.00_0.01/Image-empty-state_edited.webp - cannot identify image file <_io.BytesIO object at 0x0000025F3719EF90>\n",
      "Failed to access image url https://i.colnect.net/f/1849/594/Lepista-Nuda.jpg - ('Connection aborted.', RemoteDisconnected('Remote end closed connection without response'))\n",
      "Could not save https://i.colnect.net/f/1849/594/Lepista-Nuda.jpg - local variable 'image_content' referenced before assignment\n",
      "Could not save https://mushroommountain.com/wp-content/uploads/2020/08/blewitblog1.jpg - cannot identify image file <_io.BytesIO object at 0x0000025F37189E50>\n"
     ]
    },
    {
     "data": {
      "application/vnd.jupyter.widget-view+json": {
       "model_id": "ceb5c7b0c2ba4362b6c79a265d3b1c8d",
       "version_major": 2,
       "version_minor": 0
      },
      "text/plain": [
       "Extracting 200 links from 266 Duckduckgo results:   0%|          | 0/266 [00:00<?, ?it/s]"
      ]
     },
     "metadata": {},
     "output_type": "display_data"
    },
    {
     "data": {
      "application/vnd.jupyter.widget-view+json": {
       "model_id": "",
       "version_major": 2,
       "version_minor": 0
      },
      "text/plain": [
       "Saving Images:   0%|          | 0/200 [00:00<?, ?it/s]"
      ]
     },
     "metadata": {},
     "output_type": "display_data"
    },
    {
     "name": "stdout",
     "output_type": "stream",
     "text": [
      "Could not save https://external-content.duckduckgo.com/iu/?u=http%3A%2F%2Fwww.discoverlife.org%2FIM%2FI_MWS%2F0538%2F640%2FLepista_nuda%2CI_MWS53874.jpg&f=1&nofb=1 - cannot identify image file <_io.BytesIO object at 0x0000025F37240BD0>\n",
      "Could not save https://external-content.duckduckgo.com/iu/?u=https%3A%2F%2Fs3.amazonaws.com%2Fmedia.jungledragon.com%2Fimages%2F3125%2F66713_medium.jpeg%3FAWSAccessKeyId%3D05GMT0V3GWVNE7GGM1R2%26Expires%3D1611187210%26Signature%3DeUXDVMA6TCNMFJkDRVnbtC%252F2IN0%253D&f=1&nofb=1 - cannot identify image file <_io.BytesIO object at 0x0000025F37223950>\n",
      "Could not save https://external-content.duckduckgo.com/iu/?u=http%3A%2F%2Fwww.plantactions.com%2Fvar%2Falbums%2FBotanical_Images%2FPlants%2FFungi%2FLepista_nuda1727.jpg%3Fm%3D1341051667&f=1&nofb=1 - cannot identify image file <_io.BytesIO object at 0x0000025F37189680>\n",
      "Could not save https://external-content.duckduckgo.com/iu/?u=https%3A%2F%2Fwww.discoverlife.org%2FIM%2FI_MWS%2F0050%2F640%2FLepista_nuda%2CI_MWS5012.jpg&f=1&nofb=1 - cannot identify image file <_io.BytesIO object at 0x0000025F371F6AE0>\n"
     ]
    },
    {
     "name": "stderr",
     "output_type": "stream",
     "text": [
      "C:\\Users\\danie\\anaconda3\\lib\\site-packages\\PIL\\Image.py:962: UserWarning: Palette images with Transparency expressed in bytes should be converted to RGBA images\n",
      "  warnings.warn(\n"
     ]
    },
    {
     "name": "stdout",
     "output_type": "stream",
     "text": [
      "Could not save https://external-content.duckduckgo.com/iu/?u=http%3A%2F%2Fwww.discoverlife.org%2FIM%2FI_MWS%2F0051%2F320%2FLepista_nuda%2CI_MWS5145.jpg&f=1&nofb=1 - cannot identify image file <_io.BytesIO object at 0x0000025F371CB590>\n"
     ]
    },
    {
     "data": {
      "application/vnd.jupyter.widget-view+json": {
       "model_id": "cd053bfba5c149c4adb1b8142847fe26",
       "version_major": 2,
       "version_minor": 0
      },
      "text/plain": [
       "Extracting 200 links from 200 Google results:   0%|          | 0/200 [00:00<?, ?it/s]"
      ]
     },
     "metadata": {},
     "output_type": "display_data"
    },
    {
     "data": {
      "application/vnd.jupyter.widget-view+json": {
       "model_id": "",
       "version_major": 2,
       "version_minor": 0
      },
      "text/plain": [
       "Saving Images:   0%|          | 0/201 [00:00<?, ?it/s]"
      ]
     },
     "metadata": {},
     "output_type": "display_data"
    },
    {
     "name": "stdout",
     "output_type": "stream",
     "text": [
      "Could not save https://upload.wikimedia.org/wikipedia/commons/thumb/7/7b/Coloured_Figures_of_English_Fungi_or_Mushrooms_-_t._185.jpg/440px-Coloured_Figures_of_English_Fungi_or_Mushrooms_-_t._185.jpg - cannot identify image file <_io.BytesIO object at 0x0000025F35ECF360>\n",
      "Could not save https://www.mushroomdiary.co.uk/wp-content/uploads/2016/01/Tawny-Funnel-Lepista-flaccida.jpg - cannot identify image file <_io.BytesIO object at 0x0000025F35ECF360>\n",
      "Could not save https://upload.wikimedia.org/wikipedia/commons/4/4e/Lepista_flaccida_60558505.jpg - cannot identify image file <_io.BytesIO object at 0x0000025F360FC180>\n",
      "Failed to access image url https://www.discoverlife.org/IM/I_MWS/0302/320/Lepista_flaccida,I_MWS30225.jpg - HTTPSConnectionPool(host='www.discoverlife.org', port=443): Max retries exceeded with url: /IM/I_MWS/0302/320/Lepista_flaccida,I_MWS30225.jpg (Caused by SSLError(SSLCertVerificationError(1, '[SSL: CERTIFICATE_VERIFY_FAILED] certificate verify failed: unable to get local issuer certificate (_ssl.c:1125)')))\n",
      "Could not save https://www.discoverlife.org/IM/I_MWS/0302/320/Lepista_flaccida,I_MWS30225.jpg - local variable 'image_content' referenced before assignment\n",
      "Could not save https://upload.wikimedia.org/wikipedia/commons/thumb/2/2a/Lepista_flaccida_20081122wb.JPG/250px-Lepista_flaccida_20081122wb.JPG - cannot identify image file <_io.BytesIO object at 0x0000025F35ECF360>\n",
      "Failed to access image url https://www.discoverlife.org/IM/I_MWS/0302/320/Lepista_flaccida,I_MWS30223.jpg - HTTPSConnectionPool(host='www.discoverlife.org', port=443): Max retries exceeded with url: /IM/I_MWS/0302/320/Lepista_flaccida,I_MWS30223.jpg (Caused by SSLError(SSLCertVerificationError(1, '[SSL: CERTIFICATE_VERIFY_FAILED] certificate verify failed: unable to get local issuer certificate (_ssl.c:1125)')))\n",
      "Could not save https://www.discoverlife.org/IM/I_MWS/0302/320/Lepista_flaccida,I_MWS30223.jpg - local variable 'image_content' referenced before assignment\n"
     ]
    },
    {
     "data": {
      "application/vnd.jupyter.widget-view+json": {
       "model_id": "9500793b6180458eb74181b62dec5e42",
       "version_major": 2,
       "version_minor": 0
      },
      "text/plain": [
       "Extracting 200 links from 264 Duckduckgo results:   0%|          | 0/264 [00:00<?, ?it/s]"
      ]
     },
     "metadata": {},
     "output_type": "display_data"
    },
    {
     "data": {
      "application/vnd.jupyter.widget-view+json": {
       "model_id": "25e3c08a633348f78d6cf5bb7d21e6cc",
       "version_major": 2,
       "version_minor": 0
      },
      "text/plain": [
       "Saving Images:   0%|          | 0/200 [00:00<?, ?it/s]"
      ]
     },
     "metadata": {},
     "output_type": "display_data"
    }
   ],
   "source": [
    "number_images = 200\n",
    "start_from = 40\n",
    "\n",
    "image_scraper = ImageScrapper(save_path='\\\\images2')\n",
    "\n",
    "for idx, shroom in enumerate(tqdm(df['scientific'][start_from:], desc='Mushroom no: ', position=0, leave=False)):\n",
    "    \n",
    "    image_scraper.configure_engine('Google')\n",
    "\n",
    "    image_scraper.search_and_download(search_term=shroom, number_images=number_images, exact_match=True)\n",
    "\n",
    "    image_scraper.configure_engine('Duckduckgo')\n",
    "\n",
    "    image_scraper.search_and_download(search_term=shroom, number_images=number_images, exact_match=True)"
   ]
  },
  {
   "cell_type": "code",
   "execution_count": null,
   "id": "57a69899-7304-44ec-a72d-4d6482e09987",
   "metadata": {},
   "outputs": [],
   "source": []
  }
 ],
 "metadata": {
  "kernelspec": {
   "display_name": "Python 3",
   "language": "python",
   "name": "python3"
  },
  "language_info": {
   "codemirror_mode": {
    "name": "ipython",
    "version": 3
   },
   "file_extension": ".py",
   "mimetype": "text/x-python",
   "name": "python",
   "nbconvert_exporter": "python",
   "pygments_lexer": "ipython3",
   "version": "3.8.8"
  }
 },
 "nbformat": 4,
 "nbformat_minor": 5
}
