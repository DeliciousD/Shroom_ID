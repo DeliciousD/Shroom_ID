{
 "cells": [
  {
   "cell_type": "code",
   "execution_count": 1,
   "id": "d9a4abd7-f596-41f5-aaa4-a95a17bb442f",
   "metadata": {},
   "outputs": [],
   "source": [
    "from Image_scraper.image_scraper import ImageScrapper\n",
    "import pandas as pd\n",
    "from tqdm.notebook import tqdm"
   ]
  },
  {
   "cell_type": "code",
   "execution_count": 2,
   "id": "279cc8a2-6d19-433c-94dc-66039cfa69aa",
   "metadata": {},
   "outputs": [
    {
     "data": {
      "text/html": [
       "<div>\n",
       "<style scoped>\n",
       "    .dataframe tbody tr th:only-of-type {\n",
       "        vertical-align: middle;\n",
       "    }\n",
       "\n",
       "    .dataframe tbody tr th {\n",
       "        vertical-align: top;\n",
       "    }\n",
       "\n",
       "    .dataframe thead th {\n",
       "        text-align: right;\n",
       "    }\n",
       "</style>\n",
       "<table border=\"1\" class=\"dataframe\">\n",
       "  <thead>\n",
       "    <tr style=\"text-align: right;\">\n",
       "      <th></th>\n",
       "      <th>scientific</th>\n",
       "      <th>common</th>\n",
       "      <th>season start</th>\n",
       "      <th>season end</th>\n",
       "      <th>Type</th>\n",
       "      <th>shrooms seasons</th>\n",
       "    </tr>\n",
       "  </thead>\n",
       "  <tbody>\n",
       "    <tr>\n",
       "      <th>0</th>\n",
       "      <td>Tuber aestivum</td>\n",
       "      <td>Truffles</td>\n",
       "      <td>Aug</td>\n",
       "      <td>Nov</td>\n",
       "      <td>Edible</td>\n",
       "      <td>['Autumn', 'Summer']</td>\n",
       "    </tr>\n",
       "    <tr>\n",
       "      <th>1</th>\n",
       "      <td>Tricholomopsis rutilans</td>\n",
       "      <td>Plums And Custard</td>\n",
       "      <td>Jul</td>\n",
       "      <td>Nov</td>\n",
       "      <td>Inedible</td>\n",
       "      <td>['Autumn', 'Summer']</td>\n",
       "    </tr>\n",
       "    <tr>\n",
       "      <th>2</th>\n",
       "      <td>Tricholoma terreum</td>\n",
       "      <td>The Grey Knight</td>\n",
       "      <td>Aug</td>\n",
       "      <td>Oct</td>\n",
       "      <td>Poisonous</td>\n",
       "      <td>['Autumn', 'Summer']</td>\n",
       "    </tr>\n",
       "    <tr>\n",
       "      <th>3</th>\n",
       "      <td>Stropharia caerulea</td>\n",
       "      <td>Blue Roundhead</td>\n",
       "      <td>Aug</td>\n",
       "      <td>Dec</td>\n",
       "      <td>Poisonous</td>\n",
       "      <td>['Autumn', 'Winter']</td>\n",
       "    </tr>\n",
       "    <tr>\n",
       "      <th>4</th>\n",
       "      <td>Sparassis crispa</td>\n",
       "      <td>Cauliflower Fungus</td>\n",
       "      <td>Aug</td>\n",
       "      <td>Nov</td>\n",
       "      <td>Edible</td>\n",
       "      <td>['Autumn', 'Summer']</td>\n",
       "    </tr>\n",
       "  </tbody>\n",
       "</table>\n",
       "</div>"
      ],
      "text/plain": [
       "                scientific              common season start season end  \\\n",
       "0           Tuber aestivum            Truffles         Aug        Nov    \n",
       "1  Tricholomopsis rutilans   Plums And Custard         Jul        Nov    \n",
       "2       Tricholoma terreum     The Grey Knight         Aug        Oct    \n",
       "3      Stropharia caerulea      Blue Roundhead         Aug        Dec    \n",
       "4         Sparassis crispa  Cauliflower Fungus         Aug        Nov    \n",
       "\n",
       "        Type       shrooms seasons  \n",
       "0     Edible  ['Autumn', 'Summer']  \n",
       "1   Inedible  ['Autumn', 'Summer']  \n",
       "2  Poisonous  ['Autumn', 'Summer']  \n",
       "3  Poisonous  ['Autumn', 'Winter']  \n",
       "4     Edible  ['Autumn', 'Summer']  "
      ]
     },
     "execution_count": 2,
     "metadata": {},
     "output_type": "execute_result"
    }
   ],
   "source": [
    "df = pd.read_csv('Shroom_DB.csv')\n",
    "df.head()"
   ]
  },
  {
   "cell_type": "markdown",
   "id": "b2ed299b-c244-42ab-861a-3c823ad23318",
   "metadata": {},
   "source": [
    "#### Resume downloading from: "
   ]
  },
  {
   "cell_type": "code",
   "execution_count": 3,
   "id": "06128275-19ef-4566-8a25-936d936aca7e",
   "metadata": {},
   "outputs": [
    {
     "data": {
      "text/html": [
       "<div>\n",
       "<style scoped>\n",
       "    .dataframe tbody tr th:only-of-type {\n",
       "        vertical-align: middle;\n",
       "    }\n",
       "\n",
       "    .dataframe tbody tr th {\n",
       "        vertical-align: top;\n",
       "    }\n",
       "\n",
       "    .dataframe thead th {\n",
       "        text-align: right;\n",
       "    }\n",
       "</style>\n",
       "<table border=\"1\" class=\"dataframe\">\n",
       "  <thead>\n",
       "    <tr style=\"text-align: right;\">\n",
       "      <th></th>\n",
       "      <th>scientific</th>\n",
       "      <th>common</th>\n",
       "      <th>season start</th>\n",
       "      <th>season end</th>\n",
       "      <th>Type</th>\n",
       "      <th>shrooms seasons</th>\n",
       "    </tr>\n",
       "  </thead>\n",
       "  <tbody>\n",
       "    <tr>\n",
       "      <th>39</th>\n",
       "      <td>Macrolepiota procera</td>\n",
       "      <td>Parasol</td>\n",
       "      <td>Jun</td>\n",
       "      <td>Sep</td>\n",
       "      <td>Edible</td>\n",
       "      <td>['Autumn', 'Summer']</td>\n",
       "    </tr>\n",
       "  </tbody>\n",
       "</table>\n",
       "</div>"
      ],
      "text/plain": [
       "              scientific   common season start season end    Type  \\\n",
       "39  Macrolepiota procera  Parasol         Jun        Sep   Edible   \n",
       "\n",
       "         shrooms seasons  \n",
       "39  ['Autumn', 'Summer']  "
      ]
     },
     "execution_count": 3,
     "metadata": {},
     "output_type": "execute_result"
    }
   ],
   "source": [
    "df[df['scientific'].str.contains(\"Macrolepiota procera\")]"
   ]
  },
  {
   "cell_type": "code",
   "execution_count": null,
   "id": "1cbd725c-cb31-4db3-9a4e-184f54d451a8",
   "metadata": {},
   "outputs": [
    {
     "data": {
      "application/vnd.jupyter.widget-view+json": {
       "model_id": "3e5fc29d7a4b4bf28920f2ea17db8313",
       "version_major": 2,
       "version_minor": 0
      },
      "text/plain": [
       "Mushroom no:   0%|          | 0/113 [00:00<?, ?it/s]"
      ]
     },
     "metadata": {},
     "output_type": "display_data"
    },
    {
     "data": {
      "application/vnd.jupyter.widget-view+json": {
       "model_id": "a10a7cc63eec46a9a5d50f827c6b8b5c",
       "version_major": 2,
       "version_minor": 0
      },
      "text/plain": [
       "Extracting 200 links from 200 Google results:   0%|          | 0/200 [00:00<?, ?it/s]"
      ]
     },
     "metadata": {},
     "output_type": "display_data"
    },
    {
     "name": "stdout",
     "output_type": "stream",
     "text": [
      "Failed to click thumbnail\n"
     ]
    },
    {
     "data": {
      "application/vnd.jupyter.widget-view+json": {
       "model_id": "",
       "version_major": 2,
       "version_minor": 0
      },
      "text/plain": [
       "Saving Images:   0%|          | 0/200 [00:00<?, ?it/s]"
      ]
     },
     "metadata": {},
     "output_type": "display_data"
    },
    {
     "name": "stdout",
     "output_type": "stream",
     "text": [
      "Could not save https://upload.wikimedia.org/wikipedia/commons/thumb/0/09/Handkea_utriformis_G25_lights-shadows.jpg/1280px-Handkea_utriformis_G25_lights-shadows.jpg - cannot identify image file <_io.BytesIO object at 0x0000025F35ECF900>\n",
      "Could not save https://upload.wikimedia.org/wikipedia/commons/7/7d/P1040077_Calvatia_utriformis.JPG - cannot identify image file <_io.BytesIO object at 0x0000025F35DD3B80>\n"
     ]
    },
    {
     "name": "stderr",
     "output_type": "stream",
     "text": [
      "C:\\Users\\danie\\anaconda3\\lib\\site-packages\\PIL\\Image.py:2966: UserWarning: image file could not be identified because WEBP support not installed\n",
      "  warnings.warn(message)\n"
     ]
    },
    {
     "name": "stdout",
     "output_type": "stream",
     "text": [
      "Could not save https://data09.123doks.com/thumbv2/9libnet/000/095/95325/cover.webp - cannot identify image file <_io.BytesIO object at 0x0000025F35F7ED60>\n",
      "Could not save https://ameisenstadt.de/wp-content/uploads/2017/11/HansPeterHorn_DSC_1202.jpg - cannot identify image file <_io.BytesIO object at 0x0000025F35F7ED60>\n"
     ]
    },
    {
     "data": {
      "application/vnd.jupyter.widget-view+json": {
       "model_id": "",
       "version_major": 2,
       "version_minor": 0
      },
      "text/plain": [
       "Extracting 200 links from 189 Duckduckgo results:   0%|          | 0/189 [00:00<?, ?it/s]"
      ]
     },
     "metadata": {},
     "output_type": "display_data"
    },
    {
     "name": "stdout",
     "output_type": "stream",
     "text": [
      "Failed to click thumbnail\n",
      "Retrieving more results\n"
     ]
    },
    {
     "data": {
      "application/vnd.jupyter.widget-view+json": {
       "model_id": "",
       "version_major": 2,
       "version_minor": 0
      },
      "text/plain": [
       "Saving Images: : 0it [00:00, ?it/s]"
      ]
     },
     "metadata": {},
     "output_type": "display_data"
    },
    {
     "name": "stdout",
     "output_type": "stream",
     "text": [
      "Failed to save images: 'NoneType' object is not iterable\n"
     ]
    },
    {
     "data": {
      "application/vnd.jupyter.widget-view+json": {
       "model_id": "424720e43e0b4c6aab53e5eab7a0c905",
       "version_major": 2,
       "version_minor": 0
      },
      "text/plain": [
       "Extracting 200 links from 200 Google results:   0%|          | 0/200 [00:00<?, ?it/s]"
      ]
     },
     "metadata": {},
     "output_type": "display_data"
    },
    {
     "data": {
      "application/vnd.jupyter.widget-view+json": {
       "model_id": "",
       "version_major": 2,
       "version_minor": 0
      },
      "text/plain": [
       "Saving Images:   0%|          | 0/200 [00:00<?, ?it/s]"
      ]
     },
     "metadata": {},
     "output_type": "display_data"
    },
    {
     "name": "stdout",
     "output_type": "stream",
     "text": [
      "Could not save https://upload.wikimedia.org/wikipedia/commons/7/73/Lycoperdon_pyriforme_B%C5%BB_7.1.jpg - cannot identify image file <_io.BytesIO object at 0x0000025F35E82630>\n",
      "Could not save https://upload.wikimedia.org/wikipedia/commons/f/f7/Lycoperdon_pyriforme%2C%28Pear_shaped_puffball%29_%2833102940730%29.jpg - cannot identify image file <_io.BytesIO object at 0x0000025F3602FF90>\n",
      "Could not save https://www.foxglovecovert.org.uk/images/species/Lycoperdon_pyriforme_Stump_Puffball_P1080877_copy.jpg - cannot identify image file <_io.BytesIO object at 0x0000025F3602FF90>\n",
      "Could not save https://upload.wikimedia.org/wikipedia/commons/thumb/9/9a/Lycoperdon_pyriforme%2C_Stump_Puffball%2C_Hertfordshire%2C_UK.jpg/1280px-Lycoperdon_pyriforme%2C_Stump_Puffball%2C_Hertfordshire%2C_UK.jpg - cannot identify image file <_io.BytesIO object at 0x0000025F3608A8B0>\n",
      "Could not save https://static.wixstatic.com/media/2e0a27_12176f1a06524356b28b488eafa3557b~mv2.jpg/v1/crop/x_180,y_111,w_387,h_283/fill/w_542,h_372,al_c,lg_1,q_80/Stump%20puffball%20600.webp - cannot identify image file <_io.BytesIO object at 0x0000025F36040400>\n"
     ]
    },
    {
     "data": {
      "application/vnd.jupyter.widget-view+json": {
       "model_id": "88e3bf06501b482391eb909c98a91f10",
       "version_major": 2,
       "version_minor": 0
      },
      "text/plain": [
       "Extracting 200 links from 265 Duckduckgo results:   0%|          | 0/265 [00:00<?, ?it/s]"
      ]
     },
     "metadata": {},
     "output_type": "display_data"
    },
    {
     "data": {
      "application/vnd.jupyter.widget-view+json": {
       "model_id": "",
       "version_major": 2,
       "version_minor": 0
      },
      "text/plain": [
       "Saving Images:   0%|          | 0/200 [00:00<?, ?it/s]"
      ]
     },
     "metadata": {},
     "output_type": "display_data"
    },
    {
     "name": "stdout",
     "output_type": "stream",
     "text": [
      "Could not save https://external-content.duckduckgo.com/iu/?u=http%3A%2F%2Fwww.hippocampus-bildarchiv.com%2Fimages%2FPPIFT0270_Lycoperdon_pyriforme.jpg&f=1&nofb=1 - cannot identify image file <_io.BytesIO object at 0x0000025F35ECF860>\n",
      "Could not save https://external-content.duckduckgo.com/iu/?u=https%3A%2F%2Flive.staticflickr.com%2F2366%2F2377316462_41d9b9a4b6.jpg&f=1&nofb=1 - cannot identify image file <_io.BytesIO object at 0x0000025F360407C0>\n",
      "Could not save https://external-content.duckduckgo.com/iu/?u=http%3A%2F%2Fdirle-punti-potevi.icu%2Ftij%2FJgEESw66tFLgKkzPSpKGBwHaE8.jpg&f=1&nofb=1 - cannot identify image file <_io.BytesIO object at 0x0000025F360A0F90>\n",
      "Could not save https://external-content.duckduckgo.com/iu/?u=http%3A%2F%2Fwww.hippocampus-bildarchiv.com%2Fimages%2FPPIFT0272_Lycoperdon_pyriforme.jpg&f=1&nofb=1 - cannot identify image file <_io.BytesIO object at 0x0000025F35ECF860>\n",
      "Could not save https://external-content.duckduckgo.com/iu/?u=http%3A%2F%2Fwww.hippocampus-bildarchiv.com%2Fimages%2FPPIFT0268_Lycoperdon_pyriforme.jpg&f=1&nofb=1 - cannot identify image file <_io.BytesIO object at 0x0000025F35ECF6D0>\n",
      "Could not save https://external-content.duckduckgo.com/iu/?u=http%3A%2F%2Fwww.hippocampus-bildarchiv.com%2Fimages%2FPPIFT0266_Lycoperdon_pyriforme.jpg&f=1&nofb=1 - cannot identify image file <_io.BytesIO object at 0x0000025F35EB46D0>\n"
     ]
    },
    {
     "data": {
      "application/vnd.jupyter.widget-view+json": {
       "model_id": "51b243e57be5488a9ec244732f201aa4",
       "version_major": 2,
       "version_minor": 0
      },
      "text/plain": [
       "Extracting 200 links from 200 Google results:   0%|          | 0/200 [00:00<?, ?it/s]"
      ]
     },
     "metadata": {},
     "output_type": "display_data"
    },
    {
     "name": "stdout",
     "output_type": "stream",
     "text": [
      "Failed to click thumbnail\n"
     ]
    },
    {
     "data": {
      "application/vnd.jupyter.widget-view+json": {
       "model_id": "",
       "version_major": 2,
       "version_minor": 0
      },
      "text/plain": [
       "Saving Images:   0%|          | 0/200 [00:00<?, ?it/s]"
      ]
     },
     "metadata": {},
     "output_type": "display_data"
    },
    {
     "name": "stdout",
     "output_type": "stream",
     "text": [
      "Could not save https://upload.wikimedia.org/wikipedia/commons/a/a8/Lycoperdon_perlatum_100291154.jpg - cannot identify image file <_io.BytesIO object at 0x0000025F35ECF860>\n",
      "Could not save https://upload.wikimedia.org/wikipedia/commons/thumb/9/9f/Lycoperdon_perlatum_09.jpg/1200px-Lycoperdon_perlatum_09.jpg - cannot identify image file <_io.BytesIO object at 0x0000025F360AC360>\n",
      "Could not save https://upload.wikimedia.org/wikipedia/commons/thumb/1/17/Lycoperdon_perlatum_95340.jpg/220px-Lycoperdon_perlatum_95340.jpg - cannot identify image file <_io.BytesIO object at 0x0000025F35EB4810>\n",
      "Could not save https://upload.wikimedia.org/wikipedia/commons/thumb/2/26/Flaschen-St%C3%A4ubling_%28Lycoperdon_perlatum%2C_syn._L._gemmatum%29-RM-20191014-01.jpg/1200px-Flaschen-St%C3%A4ubling_%28Lycoperdon_perlatum%2C_syn._L._gemmatum%29-RM-20191014-01.jpg - cannot identify image file <_io.BytesIO object at 0x0000025F35E8A090>\n",
      "Could not save https://www.foxglovecovert.org.uk/images/species/Lycoperdon_perlatum_P9090005_Common_Puffball_copy.jpg - cannot identify image file <_io.BytesIO object at 0x0000025F35E8A090>\n",
      "Could not save https://static.wixstatic.com/media/2e0a27_fec6587c28c1479f9030a98c564462e8~mv2.jpg/v1/crop/x_73,y_59,w_455,h_331/fill/w_637,h_438,al_c,lg_1,q_80/Common%20puffball%202%20600.webp - cannot identify image file <_io.BytesIO object at 0x0000025F35E8A090>\n",
      "Could not save https://www.mediastorehouse.com/p/491/gem-studded-puffball-mushroom-lycoperdon-6123960.jpg.webp - cannot identify image file <_io.BytesIO object at 0x0000025F35E826D0>\n",
      "Could not save https://upload.wikimedia.org/wikipedia/commons/f/fb/Lycoperdon_perlatum_89470832.jpg - cannot identify image file <_io.BytesIO object at 0x0000025F33515B30>\n",
      "Could not save https://upload.wikimedia.org/wikipedia/commons/a/a5/Lycoperdon_perlatum_99284516.jpg - cannot identify image file <_io.BytesIO object at 0x0000025F33515B30>\n",
      "Could not save https://upload.wikimedia.org/wikipedia/commons/e/e5/Lycoperdon_perlatum%2C_Common_Puffball_%2C_UK.jpg - cannot identify image file <_io.BytesIO object at 0x0000025F35EB4810>\n"
     ]
    },
    {
     "data": {
      "application/vnd.jupyter.widget-view+json": {
       "model_id": "7b47e6d83e544338969d8c2b2eef8927",
       "version_major": 2,
       "version_minor": 0
      },
      "text/plain": [
       "Extracting 200 links from 264 Duckduckgo results:   0%|          | 0/264 [00:00<?, ?it/s]"
      ]
     },
     "metadata": {},
     "output_type": "display_data"
    },
    {
     "name": "stdout",
     "output_type": "stream",
     "text": [
      "Failed to click thumbnail\n"
     ]
    },
    {
     "data": {
      "application/vnd.jupyter.widget-view+json": {
       "model_id": "6ebc4e86f5ef407e9e3533370920f9b9",
       "version_major": 2,
       "version_minor": 0
      },
      "text/plain": [
       "Saving Images:   0%|          | 0/200 [00:00<?, ?it/s]"
      ]
     },
     "metadata": {},
     "output_type": "display_data"
    },
    {
     "name": "stdout",
     "output_type": "stream",
     "text": [
      "Could not save https://external-content.duckduckgo.com/iu/?u=https%3A%2F%2Fwww.discoverlife.org%2FIM%2FI_MWS%2F0302%2F640%2FLycoperdon_perlatum%2CI_MWS30259.jpg&f=1&nofb=1 - cannot identify image file <_io.BytesIO object at 0x0000025F35E6A950>\n",
      "Could not save https://external-content.duckduckgo.com/iu/?u=https%3A%2F%2Fi1.wp.com%2Fwpamushroomclub.org%2Fwp%2Fwp-content%2Fuploads%2F2016%2F10%2FLycoperdon-perlatum.-By-Richard-Jacob.jpg&f=1&nofb=1 - cannot identify image file <_io.BytesIO object at 0x0000025F360D92C0>\n"
     ]
    }
   ],
   "source": [
    "number_images = 200\n",
    "start_from = 40\n",
    "\n",
    "image_scraper = ImageScrapper(save_path='\\\\images2')\n",
    "\n",
    "for idx, shroom in enumerate(tqdm(df['scientific'][start_from:], desc='Mushroom no: ', position=0, leave=False)):\n",
    "    \n",
    "    image_scraper.configure_engine('Google')\n",
    "\n",
    "    image_scraper.search_and_download(search_term=shroom, number_images=number_images, exact_match=True)\n",
    "\n",
    "    image_scraper.configure_engine('Duckduckgo')\n",
    "\n",
    "    image_scraper.search_and_download(search_term=shroom, number_images=number_images, exact_match=True)"
   ]
  },
  {
   "cell_type": "code",
   "execution_count": null,
   "id": "57a69899-7304-44ec-a72d-4d6482e09987",
   "metadata": {},
   "outputs": [],
   "source": []
  }
 ],
 "metadata": {
  "kernelspec": {
   "display_name": "Python 3",
   "language": "python",
   "name": "python3"
  },
  "language_info": {
   "codemirror_mode": {
    "name": "ipython",
    "version": 3
   },
   "file_extension": ".py",
   "mimetype": "text/x-python",
   "name": "python",
   "nbconvert_exporter": "python",
   "pygments_lexer": "ipython3",
   "version": "3.8.8"
  }
 },
 "nbformat": 4,
 "nbformat_minor": 5
}
