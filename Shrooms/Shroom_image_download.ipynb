{
 "cells": [
  {
   "cell_type": "code",
   "execution_count": 28,
   "id": "d9a4abd7-f596-41f5-aaa4-a95a17bb442f",
   "metadata": {},
   "outputs": [],
   "source": [
    "from Image_scraper.image_scraper import ImageScrapper\n",
    "import pandas as pd\n",
    "from tqdm.notebook import tqdm"
   ]
  },
  {
   "cell_type": "code",
   "execution_count": 25,
   "id": "279cc8a2-6d19-433c-94dc-66039cfa69aa",
   "metadata": {},
   "outputs": [
    {
     "data": {
      "text/html": [
       "<div>\n",
       "<style scoped>\n",
       "    .dataframe tbody tr th:only-of-type {\n",
       "        vertical-align: middle;\n",
       "    }\n",
       "\n",
       "    .dataframe tbody tr th {\n",
       "        vertical-align: top;\n",
       "    }\n",
       "\n",
       "    .dataframe thead th {\n",
       "        text-align: right;\n",
       "    }\n",
       "</style>\n",
       "<table border=\"1\" class=\"dataframe\">\n",
       "  <thead>\n",
       "    <tr style=\"text-align: right;\">\n",
       "      <th></th>\n",
       "      <th>scientific</th>\n",
       "      <th>common</th>\n",
       "      <th>season start</th>\n",
       "      <th>season end</th>\n",
       "      <th>Type</th>\n",
       "      <th>shrooms seasons</th>\n",
       "    </tr>\n",
       "  </thead>\n",
       "  <tbody>\n",
       "    <tr>\n",
       "      <th>0</th>\n",
       "      <td>Tuber aestivum</td>\n",
       "      <td>Truffles</td>\n",
       "      <td>Aug</td>\n",
       "      <td>Nov</td>\n",
       "      <td>Edible</td>\n",
       "      <td>['Autumn', 'Summer']</td>\n",
       "    </tr>\n",
       "    <tr>\n",
       "      <th>1</th>\n",
       "      <td>Tricholomopsis rutilans</td>\n",
       "      <td>Plums And Custard</td>\n",
       "      <td>Jul</td>\n",
       "      <td>Nov</td>\n",
       "      <td>Inedible</td>\n",
       "      <td>['Autumn', 'Summer']</td>\n",
       "    </tr>\n",
       "    <tr>\n",
       "      <th>2</th>\n",
       "      <td>Tricholoma terreum</td>\n",
       "      <td>The Grey Knight</td>\n",
       "      <td>Aug</td>\n",
       "      <td>Oct</td>\n",
       "      <td>Poisonous</td>\n",
       "      <td>['Autumn', 'Summer']</td>\n",
       "    </tr>\n",
       "    <tr>\n",
       "      <th>3</th>\n",
       "      <td>Stropharia caerulea</td>\n",
       "      <td>Blue Roundhead</td>\n",
       "      <td>Aug</td>\n",
       "      <td>Dec</td>\n",
       "      <td>Poisonous</td>\n",
       "      <td>['Autumn', 'Winter']</td>\n",
       "    </tr>\n",
       "    <tr>\n",
       "      <th>4</th>\n",
       "      <td>Sparassis crispa</td>\n",
       "      <td>Cauliflower Fungus</td>\n",
       "      <td>Aug</td>\n",
       "      <td>Nov</td>\n",
       "      <td>Edible</td>\n",
       "      <td>['Autumn', 'Summer']</td>\n",
       "    </tr>\n",
       "  </tbody>\n",
       "</table>\n",
       "</div>"
      ],
      "text/plain": [
       "                scientific              common season start season end  \\\n",
       "0           Tuber aestivum            Truffles         Aug        Nov    \n",
       "1  Tricholomopsis rutilans   Plums And Custard         Jul        Nov    \n",
       "2       Tricholoma terreum     The Grey Knight         Aug        Oct    \n",
       "3      Stropharia caerulea      Blue Roundhead         Aug        Dec    \n",
       "4         Sparassis crispa  Cauliflower Fungus         Aug        Nov    \n",
       "\n",
       "        Type       shrooms seasons  \n",
       "0     Edible  ['Autumn', 'Summer']  \n",
       "1   Inedible  ['Autumn', 'Summer']  \n",
       "2  Poisonous  ['Autumn', 'Summer']  \n",
       "3  Poisonous  ['Autumn', 'Winter']  \n",
       "4     Edible  ['Autumn', 'Summer']  "
      ]
     },
     "execution_count": 25,
     "metadata": {},
     "output_type": "execute_result"
    }
   ],
   "source": [
    "df = pd.read_csv('Shroom_DB.csv')\n",
    "df.head()"
   ]
  },
  {
   "cell_type": "markdown",
   "id": "b2ed299b-c244-42ab-861a-3c823ad23318",
   "metadata": {},
   "source": [
    "#### Resume downloading from: "
   ]
  },
  {
   "cell_type": "code",
   "execution_count": 44,
   "id": "06128275-19ef-4566-8a25-936d936aca7e",
   "metadata": {},
   "outputs": [
    {
     "data": {
      "text/html": [
       "<div>\n",
       "<style scoped>\n",
       "    .dataframe tbody tr th:only-of-type {\n",
       "        vertical-align: middle;\n",
       "    }\n",
       "\n",
       "    .dataframe tbody tr th {\n",
       "        vertical-align: top;\n",
       "    }\n",
       "\n",
       "    .dataframe thead th {\n",
       "        text-align: right;\n",
       "    }\n",
       "</style>\n",
       "<table border=\"1\" class=\"dataframe\">\n",
       "  <thead>\n",
       "    <tr style=\"text-align: right;\">\n",
       "      <th></th>\n",
       "      <th>scientific</th>\n",
       "      <th>common</th>\n",
       "      <th>season start</th>\n",
       "      <th>season end</th>\n",
       "      <th>Type</th>\n",
       "      <th>shrooms seasons</th>\n",
       "    </tr>\n",
       "  </thead>\n",
       "  <tbody>\n",
       "    <tr>\n",
       "      <th>39</th>\n",
       "      <td>Macrolepiota procera</td>\n",
       "      <td>Parasol</td>\n",
       "      <td>Jun</td>\n",
       "      <td>Sep</td>\n",
       "      <td>Edible</td>\n",
       "      <td>['Autumn', 'Summer']</td>\n",
       "    </tr>\n",
       "  </tbody>\n",
       "</table>\n",
       "</div>"
      ],
      "text/plain": [
       "              scientific   common season start season end    Type  \\\n",
       "39  Macrolepiota procera  Parasol         Jun        Sep   Edible   \n",
       "\n",
       "         shrooms seasons  \n",
       "39  ['Autumn', 'Summer']  "
      ]
     },
     "execution_count": 44,
     "metadata": {},
     "output_type": "execute_result"
    }
   ],
   "source": [
    "df[df['scientific'].str.contains(\"Macrolepiota procera\")]"
   ]
  },
  {
   "cell_type": "code",
   "execution_count": null,
   "id": "1cbd725c-cb31-4db3-9a4e-184f54d451a8",
   "metadata": {},
   "outputs": [
    {
     "data": {
      "application/vnd.jupyter.widget-view+json": {
       "model_id": "7b8aff6fc4cb479691a001b62067d801",
       "version_major": 2,
       "version_minor": 0
      },
      "text/plain": [
       "Mushroom no:   0%|          | 0/114 [00:00<?, ?it/s]"
      ]
     },
     "metadata": {},
     "output_type": "display_data"
    },
    {
     "data": {
      "application/vnd.jupyter.widget-view+json": {
       "model_id": "7aaf81f87062489cb549eacc2db4ec23",
       "version_major": 2,
       "version_minor": 0
      },
      "text/plain": [
       "Extracting 200 links from 200 Google results:   0%|          | 0/200 [00:00<?, ?it/s]"
      ]
     },
     "metadata": {},
     "output_type": "display_data"
    },
    {
     "data": {
      "application/vnd.jupyter.widget-view+json": {
       "model_id": "",
       "version_major": 2,
       "version_minor": 0
      },
      "text/plain": [
       "Saving Images:   0%|          | 0/200 [00:00<?, ?it/s]"
      ]
     },
     "metadata": {},
     "output_type": "display_data"
    },
    {
     "name": "stderr",
     "output_type": "stream",
     "text": [
      "C:\\Users\\danie\\anaconda3\\lib\\site-packages\\PIL\\Image.py:2966: UserWarning: image file could not be identified because WEBP support not installed\n",
      "  warnings.warn(message)\n"
     ]
    },
    {
     "name": "stdout",
     "output_type": "stream",
     "text": [
      "Could not save https://www.mediastorehouse.com.au/p/251/parasol-mushroom-macrolepiota-procera-20928572.jpg.webp - cannot identify image file <_io.BytesIO object at 0x000001D80409EAE0>\n",
      "Could not save https://static.wixstatic.com/media/2e0a27_35364a5315c244b98175c89c4aff2bf5~mv2.jpg/v1/crop/x_7,y_83,w_454,h_332/fill/w_636,h_437,al_c,lg_1,q_80/Parasol%20600.webp - cannot identify image file <_io.BytesIO object at 0x000001D87865B7C0>\n",
      "Could not save https://www.mediastorehouse.com/p/629/parasol-mushroom-macrolepiota-procera-12556457.jpg.webp - cannot identify image file <_io.BytesIO object at 0x000001D803FB4BD0>\n",
      "Could not save https://upload.wikimedia.org/wikipedia/commons/d/d3/Macrolepiota_procera_fungus%2C_Woodfidley%2C_New_Forest_-_geograph.org.uk_-_261237.jpg - cannot identify image file <_io.BytesIO object at 0x000001D80000FF40>\n",
      "Could not save https://upload.wikimedia.org/wikipedia/commons/thumb/6/6a/Macrolepiota_procera_2013_G1.jpg/1200px-Macrolepiota_procera_2013_G1.jpg - cannot identify image file <_io.BytesIO object at 0x000001D8786AC770>\n"
     ]
    },
    {
     "data": {
      "application/vnd.jupyter.widget-view+json": {
       "model_id": "50c673be641742b68110765c2f102243",
       "version_major": 2,
       "version_minor": 0
      },
      "text/plain": [
       "Extracting 200 links from 281 Duckduckgo results:   0%|          | 0/281 [00:00<?, ?it/s]"
      ]
     },
     "metadata": {},
     "output_type": "display_data"
    },
    {
     "name": "stdout",
     "output_type": "stream",
     "text": [
      "Failed to click thumbnail\n",
      "Failed to click thumbnail\n"
     ]
    },
    {
     "data": {
      "application/vnd.jupyter.widget-view+json": {
       "model_id": "",
       "version_major": 2,
       "version_minor": 0
      },
      "text/plain": [
       "Saving Images:   0%|          | 0/200 [00:00<?, ?it/s]"
      ]
     },
     "metadata": {},
     "output_type": "display_data"
    },
    {
     "name": "stdout",
     "output_type": "stream",
     "text": [
      "Could not save https://external-content.duckduckgo.com/iu/?u=http%3A%2F%2Fwww.hippocampus-bildarchiv.com%2Fimages%2FPPIFT00064_Macrolepiota_procera.jpg&f=1&nofb=1 - cannot identify image file <_io.BytesIO object at 0x000001D878516810>\n",
      "Could not save https://external-content.duckduckgo.com/iu/?u=https%3A%2F%2Fwww.hypocolius.se%2Fjalbums%2Ffungi%2FMacrolepiota%2520procera%2520-%2520Parasol%2520Mushroom%2520-%2520stolt%2520fj%25C3%25A4llskivling%2Fslides%2FMacrolepiota_procera-6201.jpg&f=1&nofb=1 - cannot identify image file <_io.BytesIO object at 0x000001D80409EA40>\n",
      "Could not save https://external-content.duckduckgo.com/iu/?u=http%3A%2F%2Fwww.hippocampus-bildarchiv.com%2Fimages%2FPPIFT0277_Macrolepiota_procera.jpg&f=1&nofb=1 - cannot identify image file <_io.BytesIO object at 0x000001D8041DBC20>\n",
      "Could not save https://external-content.duckduckgo.com/iu/?u=http%3A%2F%2Fmushroom-collecting.com%2F08_27_0.jpg&f=1&nofb=1 - cannot identify image file <_io.BytesIO object at 0x000001D8784DEE50>\n"
     ]
    },
    {
     "data": {
      "application/vnd.jupyter.widget-view+json": {
       "model_id": "4915d845097245cd838b8b7e48f27f91",
       "version_major": 2,
       "version_minor": 0
      },
      "text/plain": [
       "Extracting 200 links from 200 Google results:   0%|          | 0/200 [00:00<?, ?it/s]"
      ]
     },
     "metadata": {},
     "output_type": "display_data"
    }
   ],
   "source": [
    "number_images = 200\n",
    "start_from = 40\n",
    "\n",
    "image_scraper = ImageScrapper(save_path='\\\\images2')\n",
    "\n",
    "for idx, shroom in enumerate(tqdm(df['scientific'][start_from:], desc='Mushroom no: ', position=0, leave=False)):\n",
    "    \n",
    "    image_scraper.configure_engine('Google')\n",
    "\n",
    "    image_scraper.search_and_download(search_term=shroom, number_images=number_images, exact_match=True)\n",
    "\n",
    "    image_scraper.configure_engine('Duckduckgo')\n",
    "\n",
    "    image_scraper.search_and_download(search_term=shroom, number_images=number_images, exact_match=True)"
   ]
  },
  {
   "cell_type": "code",
   "execution_count": null,
   "id": "57a69899-7304-44ec-a72d-4d6482e09987",
   "metadata": {},
   "outputs": [],
   "source": []
  }
 ],
 "metadata": {
  "kernelspec": {
   "display_name": "Python 3",
   "language": "python",
   "name": "python3"
  },
  "language_info": {
   "codemirror_mode": {
    "name": "ipython",
    "version": 3
   },
   "file_extension": ".py",
   "mimetype": "text/x-python",
   "name": "python",
   "nbconvert_exporter": "python",
   "pygments_lexer": "ipython3",
   "version": "3.8.8"
  }
 },
 "nbformat": 4,
 "nbformat_minor": 5
}
