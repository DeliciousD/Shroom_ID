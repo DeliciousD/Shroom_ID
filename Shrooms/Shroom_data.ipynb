{
 "cells": [
  {
   "cell_type": "markdown",
   "id": "c8ede23a-9149-41f3-b4a7-9c706dd88dcc",
   "metadata": {},
   "source": [
    "# Creates a database of mushrooms from scraping www.wildfooduk.com"
   ]
  },
  {
   "cell_type": "code",
   "execution_count": 59,
   "id": "b117c50c-953b-4c2b-b24e-ad754473e5a6",
   "metadata": {},
   "outputs": [],
   "source": [
    "import pandas as pd\n",
    "import numpy as np\n",
    "import requests\n",
    "from bs4 import BeautifulSoup\n",
    "import os"
   ]
  },
  {
   "cell_type": "code",
   "execution_count": 60,
   "id": "f3e4a403-d879-4e5d-9aa6-f3da864e47b8",
   "metadata": {},
   "outputs": [],
   "source": [
    "shroom_DB = \"https://www.wildfooduk.com/mushroom-guide/?mushroom_orderby=latin_name&mushroom_order=DESC\"\n",
    "\n",
    "result = requests.get(shroom_DB)\n",
    "\n",
    "soup = BeautifulSoup(result.content, \"html.parser\")\n",
    "\n",
    "table = soup.find('table', class_='mushroom-table')\n",
    "\n",
    "shrooms_scientific = []; shrooms_common = []\n",
    "shrooms_start = []; shrooms_end = []\n",
    "shrooms_edible = []; shrooms_seasons = []\n",
    "\n",
    "for row in table.tbody.find_all('tr'):\n",
    "    \n",
    "    shroom_image, shroom_common, shroom_scientific, shroom_info, shroom_season_start, shroom_season_end = row.find_all('td')\n",
    "        \n",
    "    info = [info['alt'] for info in shroom_info.find_all('img')]    \n",
    "    \n",
    "    shrooms_edible.append(info[0])\n",
    "    shrooms_seasons.append(info[1:])\n",
    "    \n",
    "    shrooms_start.append(shroom_season_start.text.replace('\\nSeason Start : ', ''))\n",
    "    shrooms_end.append(shroom_season_end.text.replace('\\nSeason End : ', ''))\n",
    "    \n",
    "    shrooms_scientific.append(shroom_scientific.get_text().strip())\n",
    "    shrooms_common.append(shroom_common.get_text().strip())"
   ]
  },
  {
   "cell_type": "markdown",
   "id": "3924a655-d19a-4cc5-9791-b6abaf4d1c6e",
   "metadata": {},
   "source": [
    "#### Renaming Boletus and Hygrocybe varieties classes"
   ]
  },
  {
   "cell_type": "code",
   "execution_count": 61,
   "id": "b0b83727-ff61-4b93-8d3a-36c9e8b58b43",
   "metadata": {},
   "outputs": [],
   "source": [
    "shrooms_scientific = [shroom.replace('Boletus / ', '') for shroom in shrooms_scientific]\n",
    "shrooms_scientific = [shroom.replace('Hygrocybe / ', '') for shroom in shrooms_scientific]"
   ]
  },
  {
   "cell_type": "markdown",
   "id": "1c0c973c-a02a-4b4b-98e1-882803108595",
   "metadata": {},
   "source": [
    "#### Removing other varieties of species from search, may cause issues elsewhere"
   ]
  },
  {
   "cell_type": "markdown",
   "id": "4964b43b-e6d3-476c-97b5-c0fd2dabd7c9",
   "metadata": {},
   "source": [
    "#### Create dataframe"
   ]
  },
  {
   "cell_type": "code",
   "execution_count": 62,
   "id": "eaa87c7c-e783-4256-a791-7bb140a7b512",
   "metadata": {},
   "outputs": [
    {
     "data": {
      "text/html": [
       "<div>\n",
       "<style scoped>\n",
       "    .dataframe tbody tr th:only-of-type {\n",
       "        vertical-align: middle;\n",
       "    }\n",
       "\n",
       "    .dataframe tbody tr th {\n",
       "        vertical-align: top;\n",
       "    }\n",
       "\n",
       "    .dataframe thead th {\n",
       "        text-align: right;\n",
       "    }\n",
       "</style>\n",
       "<table border=\"1\" class=\"dataframe\">\n",
       "  <thead>\n",
       "    <tr style=\"text-align: right;\">\n",
       "      <th></th>\n",
       "      <th>scientific</th>\n",
       "      <th>common</th>\n",
       "      <th>season start</th>\n",
       "      <th>season end</th>\n",
       "      <th>Type</th>\n",
       "      <th>shrooms seasons</th>\n",
       "    </tr>\n",
       "  </thead>\n",
       "  <tbody>\n",
       "    <tr>\n",
       "      <th>0</th>\n",
       "      <td>Tuber aestivum</td>\n",
       "      <td>Truffles</td>\n",
       "      <td>Aug</td>\n",
       "      <td>Nov</td>\n",
       "      <td>Edible</td>\n",
       "      <td>[Autumn, Summer]</td>\n",
       "    </tr>\n",
       "    <tr>\n",
       "      <th>1</th>\n",
       "      <td>Tricholomopsis rutilans</td>\n",
       "      <td>Plums And Custard</td>\n",
       "      <td>Jul</td>\n",
       "      <td>Nov</td>\n",
       "      <td>Inedible</td>\n",
       "      <td>[Autumn, Summer]</td>\n",
       "    </tr>\n",
       "    <tr>\n",
       "      <th>2</th>\n",
       "      <td>Tricholoma terreum</td>\n",
       "      <td>The Grey Knight</td>\n",
       "      <td>Aug</td>\n",
       "      <td>Oct</td>\n",
       "      <td>Poisonous</td>\n",
       "      <td>[Autumn, Summer]</td>\n",
       "    </tr>\n",
       "    <tr>\n",
       "      <th>3</th>\n",
       "      <td>Stropharia caerulea</td>\n",
       "      <td>Blue Roundhead</td>\n",
       "      <td>Aug</td>\n",
       "      <td>Dec</td>\n",
       "      <td>Poisonous</td>\n",
       "      <td>[Autumn, Winter]</td>\n",
       "    </tr>\n",
       "    <tr>\n",
       "      <th>4</th>\n",
       "      <td>Sparassis crispa</td>\n",
       "      <td>Cauliflower Fungus</td>\n",
       "      <td>Aug</td>\n",
       "      <td>Nov</td>\n",
       "      <td>Edible</td>\n",
       "      <td>[Autumn, Summer]</td>\n",
       "    </tr>\n",
       "  </tbody>\n",
       "</table>\n",
       "</div>"
      ],
      "text/plain": [
       "                scientific              common season start season end  \\\n",
       "0           Tuber aestivum            Truffles         Aug        Nov    \n",
       "1  Tricholomopsis rutilans   Plums And Custard         Jul        Nov    \n",
       "2       Tricholoma terreum     The Grey Knight         Aug        Oct    \n",
       "3      Stropharia caerulea      Blue Roundhead         Aug        Dec    \n",
       "4         Sparassis crispa  Cauliflower Fungus         Aug        Nov    \n",
       "\n",
       "        Type   shrooms seasons  \n",
       "0     Edible  [Autumn, Summer]  \n",
       "1   Inedible  [Autumn, Summer]  \n",
       "2  Poisonous  [Autumn, Summer]  \n",
       "3  Poisonous  [Autumn, Winter]  \n",
       "4     Edible  [Autumn, Summer]  "
      ]
     },
     "execution_count": 62,
     "metadata": {},
     "output_type": "execute_result"
    }
   ],
   "source": [
    "d = {'scientific': shrooms_scientific, \n",
    "     'common': shrooms_common, \n",
    "     'season start': shrooms_start, \n",
    "     'season end': shrooms_end, \n",
    "     'Type': shrooms_edible,\n",
    "     'shrooms seasons': shrooms_seasons}\n",
    "\n",
    "df = pd.DataFrame(data=d)\n",
    "df.head(5)"
   ]
  },
  {
   "cell_type": "code",
   "execution_count": 63,
   "id": "14901c5c-585e-4dd8-9ada-e08e0bdf1b40",
   "metadata": {},
   "outputs": [],
   "source": [
    "df = df.replace('Scleroderma citrinum, areolatum, verrucosum', \n",
    "                          'Scleroderma citrinum')\n",
    "\n",
    "df = df.replace('Inocybe geophylla', \n",
    "                          'Inocybe geophylla\"  -\"lilacina')\n",
    "\n",
    "df = df.replace('Cantherellus tubaeformis', \n",
    "                          'Cantharellus tubaeformis')\n",
    "\n",
    "df = df.replace('Boletus / Leccinum versipellis', \n",
    "                          'Leccinum versipelle')\n",
    "\n",
    "df = df.replace('Amanita citrina var citrina', 'Amanita citrina')\n",
    "\n",
    "df = df[df.scientific != 'Amanita citrina var alba']"
   ]
  },
  {
   "cell_type": "code",
   "execution_count": 64,
   "id": "cf38629b-0e21-4fab-8483-423b6ae4acbd",
   "metadata": {},
   "outputs": [],
   "source": [
    "df.to_csv(os.getcwd() + '\\\\Shroom_DB.csv')"
   ]
  },
  {
   "cell_type": "code",
   "execution_count": 65,
   "id": "d4655dfd-638d-4d8d-93cf-655a1d7759df",
   "metadata": {},
   "outputs": [
    {
     "data": {
      "text/html": [
       "<div>\n",
       "<style scoped>\n",
       "    .dataframe tbody tr th:only-of-type {\n",
       "        vertical-align: middle;\n",
       "    }\n",
       "\n",
       "    .dataframe tbody tr th {\n",
       "        vertical-align: top;\n",
       "    }\n",
       "\n",
       "    .dataframe thead th {\n",
       "        text-align: right;\n",
       "    }\n",
       "</style>\n",
       "<table border=\"1\" class=\"dataframe\">\n",
       "  <thead>\n",
       "    <tr style=\"text-align: right;\">\n",
       "      <th></th>\n",
       "      <th>scientific</th>\n",
       "      <th>common</th>\n",
       "      <th>season start</th>\n",
       "      <th>season end</th>\n",
       "      <th>Type</th>\n",
       "      <th>shrooms seasons</th>\n",
       "    </tr>\n",
       "  </thead>\n",
       "  <tbody>\n",
       "    <tr>\n",
       "      <th>0</th>\n",
       "      <td>Tuber aestivum</td>\n",
       "      <td>Truffles</td>\n",
       "      <td>Aug</td>\n",
       "      <td>Nov</td>\n",
       "      <td>Edible</td>\n",
       "      <td>[Autumn, Summer]</td>\n",
       "    </tr>\n",
       "    <tr>\n",
       "      <th>1</th>\n",
       "      <td>Tricholomopsis rutilans</td>\n",
       "      <td>Plums And Custard</td>\n",
       "      <td>Jul</td>\n",
       "      <td>Nov</td>\n",
       "      <td>Inedible</td>\n",
       "      <td>[Autumn, Summer]</td>\n",
       "    </tr>\n",
       "    <tr>\n",
       "      <th>2</th>\n",
       "      <td>Tricholoma terreum</td>\n",
       "      <td>The Grey Knight</td>\n",
       "      <td>Aug</td>\n",
       "      <td>Oct</td>\n",
       "      <td>Poisonous</td>\n",
       "      <td>[Autumn, Summer]</td>\n",
       "    </tr>\n",
       "    <tr>\n",
       "      <th>3</th>\n",
       "      <td>Stropharia caerulea</td>\n",
       "      <td>Blue Roundhead</td>\n",
       "      <td>Aug</td>\n",
       "      <td>Dec</td>\n",
       "      <td>Poisonous</td>\n",
       "      <td>[Autumn, Winter]</td>\n",
       "    </tr>\n",
       "    <tr>\n",
       "      <th>4</th>\n",
       "      <td>Sparassis crispa</td>\n",
       "      <td>Cauliflower Fungus</td>\n",
       "      <td>Aug</td>\n",
       "      <td>Nov</td>\n",
       "      <td>Edible</td>\n",
       "      <td>[Autumn, Summer]</td>\n",
       "    </tr>\n",
       "  </tbody>\n",
       "</table>\n",
       "</div>"
      ],
      "text/plain": [
       "                scientific              common season start season end  \\\n",
       "0           Tuber aestivum            Truffles         Aug        Nov    \n",
       "1  Tricholomopsis rutilans   Plums And Custard         Jul        Nov    \n",
       "2       Tricholoma terreum     The Grey Knight         Aug        Oct    \n",
       "3      Stropharia caerulea      Blue Roundhead         Aug        Dec    \n",
       "4         Sparassis crispa  Cauliflower Fungus         Aug        Nov    \n",
       "\n",
       "        Type   shrooms seasons  \n",
       "0     Edible  [Autumn, Summer]  \n",
       "1   Inedible  [Autumn, Summer]  \n",
       "2  Poisonous  [Autumn, Summer]  \n",
       "3  Poisonous  [Autumn, Winter]  \n",
       "4     Edible  [Autumn, Summer]  "
      ]
     },
     "execution_count": 65,
     "metadata": {},
     "output_type": "execute_result"
    }
   ],
   "source": [
    "df.head()"
   ]
  },
  {
   "cell_type": "code",
   "execution_count": 78,
   "id": "a2f07f49-ea29-4908-b4c2-7966495845a8",
   "metadata": {},
   "outputs": [
    {
     "data": {
      "text/html": [
       "<div>\n",
       "<style scoped>\n",
       "    .dataframe tbody tr th:only-of-type {\n",
       "        vertical-align: middle;\n",
       "    }\n",
       "\n",
       "    .dataframe tbody tr th {\n",
       "        vertical-align: top;\n",
       "    }\n",
       "\n",
       "    .dataframe thead th {\n",
       "        text-align: right;\n",
       "    }\n",
       "</style>\n",
       "<table border=\"1\" class=\"dataframe\">\n",
       "  <thead>\n",
       "    <tr style=\"text-align: right;\">\n",
       "      <th></th>\n",
       "      <th>scientific</th>\n",
       "      <th>common</th>\n",
       "      <th>season start</th>\n",
       "      <th>season end</th>\n",
       "      <th>Type</th>\n",
       "      <th>shrooms seasons</th>\n",
       "    </tr>\n",
       "  </thead>\n",
       "  <tbody>\n",
       "    <tr>\n",
       "      <th>96</th>\n",
       "      <td>Clitopilus prunulus</td>\n",
       "      <td>The Miller</td>\n",
       "      <td>Jun</td>\n",
       "      <td>Nov</td>\n",
       "      <td>Edible</td>\n",
       "      <td>[Autumn, Summer]</td>\n",
       "    </tr>\n",
       "  </tbody>\n",
       "</table>\n",
       "</div>"
      ],
      "text/plain": [
       "             scientific      common season start season end    Type  \\\n",
       "96  Clitopilus prunulus  The Miller         Jun        Nov   Edible   \n",
       "\n",
       "     shrooms seasons  \n",
       "96  [Autumn, Summer]  "
      ]
     },
     "execution_count": 78,
     "metadata": {},
     "output_type": "execute_result"
    }
   ],
   "source": [
    "df[df.scientific == 'clitopilus_prunulus'.capitalize().replace('_', ' ')]"
   ]
  },
  {
   "cell_type": "code",
   "execution_count": 83,
   "id": "a69902dc-2209-44b8-a23e-423abe7c16c9",
   "metadata": {},
   "outputs": [
    {
     "data": {
      "text/plain": [
       "'Aug '"
      ]
     },
     "execution_count": 83,
     "metadata": {},
     "output_type": "execute_result"
    }
   ],
   "source": [
    "prediction = 140\n",
    "\n",
    "df.iloc[prediction]['season start']"
   ]
  },
  {
   "cell_type": "code",
   "execution_count": 117,
   "id": "0bc70ca3-91fd-4d8c-b63a-1caae1948a13",
   "metadata": {},
   "outputs": [
    {
     "name": "stdout",
     "output_type": "stream",
     "text": [
      "Aleuria aurantia\n",
      "Common name: Orange Peel Fungus\n",
      "Edible\n",
      "Season: Aug  - Nov \n"
     ]
    }
   ],
   "source": [
    "scientific = df.iloc[prediction]['scientific']\n",
    "common = str(df.iloc[prediction]['common'])\n",
    "start = str(df.iloc[prediction]['season start'])\n",
    "end = str(df.iloc[prediction]['season end'])\n",
    "edible = str(df.iloc[prediction]['Type'])\n",
    "\n",
    "caption = f'{scientific}\\nCommon name: {common}\\n{edible}\\nSeason: {start} - {end}'\n",
    "\n",
    "print(caption)"
   ]
  },
  {
   "cell_type": "code",
   "execution_count": 118,
   "id": "4e4b7e3d-0188-4429-b617-983054eb6db2",
   "metadata": {},
   "outputs": [
    {
     "data": {
      "text/plain": [
       "'Aleuria aurantia'"
      ]
     },
     "execution_count": 118,
     "metadata": {},
     "output_type": "execute_result"
    }
   ],
   "source": [
    "scientific"
   ]
  },
  {
   "cell_type": "code",
   "execution_count": null,
   "id": "91db91f6-bbb9-4903-a49e-2a0250479a93",
   "metadata": {},
   "outputs": [],
   "source": []
  }
 ],
 "metadata": {
  "kernelspec": {
   "display_name": "Python 3",
   "language": "python",
   "name": "python3"
  },
  "language_info": {
   "codemirror_mode": {
    "name": "ipython",
    "version": 3
   },
   "file_extension": ".py",
   "mimetype": "text/x-python",
   "name": "python",
   "nbconvert_exporter": "python",
   "pygments_lexer": "ipython3",
   "version": "3.8.8"
  }
 },
 "nbformat": 4,
 "nbformat_minor": 5
}
