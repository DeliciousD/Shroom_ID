{
 "cells": [
  {
   "cell_type": "markdown",
   "id": "c8ede23a-9149-41f3-b4a7-9c706dd88dcc",
   "metadata": {},
   "source": [
    "# Creates a database of mushrooms from scraping www.wildfooduk.com"
   ]
  },
  {
   "cell_type": "code",
   "execution_count": 185,
   "id": "b117c50c-953b-4c2b-b24e-ad754473e5a6",
   "metadata": {},
   "outputs": [],
   "source": [
    "import pandas as pd\n",
    "import numpy as np\n",
    "import requests\n",
    "from bs4 import BeautifulSoup\n",
    "import os"
   ]
  },
  {
   "cell_type": "code",
   "execution_count": 179,
   "id": "f3e4a403-d879-4e5d-9aa6-f3da864e47b8",
   "metadata": {},
   "outputs": [],
   "source": [
    "shroom_DB = \"https://www.wildfooduk.com/mushroom-guide/?mushroom_orderby=latin_name&mushroom_order=DESC\"\n",
    "\n",
    "result = requests.get(shroom_DB)\n",
    "\n",
    "soup = BeautifulSoup(result.content, \"html.parser\")\n",
    "\n",
    "table = soup.find('table', class_='mushroom-table')\n",
    "\n",
    "shrooms_scientific = []; shrooms_common = []\n",
    "shrooms_start = []; shrooms_end = []\n",
    "shrooms_edible = []; shrooms_seasons = []\n",
    "\n",
    "for row in table.tbody.find_all('tr'):\n",
    "    \n",
    "    shroom_image, shroom_common, shroom_scientific, shroom_info, shroom_season_start, shroom_season_end = row.find_all('td')\n",
    "        \n",
    "    info = [info['alt'] for info in shroom_info.find_all('img')]    \n",
    "    \n",
    "    shrooms_edible.append(info[0])\n",
    "    shrooms_seasons.append(info[1:])\n",
    "    \n",
    "    shrooms_start.append(shroom_season_start.text.replace('\\nSeason Start : ', ''))\n",
    "    shrooms_end.append(shroom_season_end.text.replace('\\nSeason End : ', ''))\n",
    "    \n",
    "    shrooms_scientific.append(shroom_scientific.get_text().strip())\n",
    "    shrooms_common.append(shroom_common.get_text().strip())"
   ]
  },
  {
   "cell_type": "markdown",
   "id": "713af3d9-4e4c-4e8d-96cd-4300da3f2bf1",
   "metadata": {},
   "source": [
    "#### There are a few misspelt scientific names"
   ]
  },
  {
   "cell_type": "code",
   "execution_count": null,
   "id": "03145e25-2f9a-448e-9838-cd0e1d17b969",
   "metadata": {},
   "outputs": [],
   "source": [
    "# misspelt scientific names\n",
    "shrooms_scientific[5] = 'Scleroderma citrinum'\n",
    "shrooms_scientific[101] = \"cantharellus tubaeformis\"\n",
    "shrooms_scientific[115] = \"leccinum versipelle\""
   ]
  },
  {
   "cell_type": "markdown",
   "id": "3924a655-d19a-4cc5-9791-b6abaf4d1c6e",
   "metadata": {},
   "source": [
    "#### Renaming Boletus and Hygrocybe varieties classes"
   ]
  },
  {
   "cell_type": "code",
   "execution_count": 184,
   "id": "b0b83727-ff61-4b93-8d3a-36c9e8b58b43",
   "metadata": {},
   "outputs": [],
   "source": [
    "shrooms_scientific = [shroom.replace('Boletus / ', '') for shroom in shrooms_scientific]\n",
    "shrooms_scientific = [shroom.replace('Hygrocybe / ', '') for shroom in shrooms_scientific]"
   ]
  },
  {
   "cell_type": "markdown",
   "id": "1c0c973c-a02a-4b4b-98e1-882803108595",
   "metadata": {},
   "source": [
    "#### Removing other varieties of species from search, may cause issues elsewhere"
   ]
  },
  {
   "cell_type": "code",
   "execution_count": null,
   "id": "1094d29d-56c0-4c8b-9fba-115c06dbc158",
   "metadata": {},
   "outputs": [],
   "source": [
    "shrooms_scientific[60] = 'Inocybe geophylla\"  -\"var. lilacina'"
   ]
  },
  {
   "cell_type": "markdown",
   "id": "4964b43b-e6d3-476c-97b5-c0fd2dabd7c9",
   "metadata": {},
   "source": [
    "#### Create dataframe"
   ]
  },
  {
   "cell_type": "code",
   "execution_count": 182,
   "id": "eaa87c7c-e783-4256-a791-7bb140a7b512",
   "metadata": {},
   "outputs": [
    {
     "data": {
      "text/html": [
       "<div>\n",
       "<style scoped>\n",
       "    .dataframe tbody tr th:only-of-type {\n",
       "        vertical-align: middle;\n",
       "    }\n",
       "\n",
       "    .dataframe tbody tr th {\n",
       "        vertical-align: top;\n",
       "    }\n",
       "\n",
       "    .dataframe thead th {\n",
       "        text-align: right;\n",
       "    }\n",
       "</style>\n",
       "<table border=\"1\" class=\"dataframe\">\n",
       "  <thead>\n",
       "    <tr style=\"text-align: right;\">\n",
       "      <th></th>\n",
       "      <th>scientific</th>\n",
       "      <th>common</th>\n",
       "      <th>season start</th>\n",
       "      <th>season end</th>\n",
       "      <th>Type</th>\n",
       "      <th>shrooms seasons</th>\n",
       "    </tr>\n",
       "  </thead>\n",
       "  <tbody>\n",
       "    <tr>\n",
       "      <th>0</th>\n",
       "      <td>Tuber aestivum</td>\n",
       "      <td>Truffles</td>\n",
       "      <td>Aug</td>\n",
       "      <td>Nov</td>\n",
       "      <td>Edible</td>\n",
       "      <td>[Autumn, Summer]</td>\n",
       "    </tr>\n",
       "    <tr>\n",
       "      <th>1</th>\n",
       "      <td>Tricholomopsis rutilans</td>\n",
       "      <td>Plums And Custard</td>\n",
       "      <td>Jul</td>\n",
       "      <td>Nov</td>\n",
       "      <td>Inedible</td>\n",
       "      <td>[Autumn, Summer]</td>\n",
       "    </tr>\n",
       "    <tr>\n",
       "      <th>2</th>\n",
       "      <td>Tricholoma terreum</td>\n",
       "      <td>The Grey Knight</td>\n",
       "      <td>Aug</td>\n",
       "      <td>Oct</td>\n",
       "      <td>Poisonous</td>\n",
       "      <td>[Autumn, Summer]</td>\n",
       "    </tr>\n",
       "    <tr>\n",
       "      <th>3</th>\n",
       "      <td>Stropharia caerulea</td>\n",
       "      <td>Blue Roundhead</td>\n",
       "      <td>Aug</td>\n",
       "      <td>Dec</td>\n",
       "      <td>Poisonous</td>\n",
       "      <td>[Autumn, Winter]</td>\n",
       "    </tr>\n",
       "    <tr>\n",
       "      <th>4</th>\n",
       "      <td>Sparassis crispa</td>\n",
       "      <td>Cauliflower Fungus</td>\n",
       "      <td>Aug</td>\n",
       "      <td>Nov</td>\n",
       "      <td>Edible</td>\n",
       "      <td>[Autumn, Summer]</td>\n",
       "    </tr>\n",
       "  </tbody>\n",
       "</table>\n",
       "</div>"
      ],
      "text/plain": [
       "                scientific              common season start season end  \\\n",
       "0           Tuber aestivum            Truffles         Aug        Nov    \n",
       "1  Tricholomopsis rutilans   Plums And Custard         Jul        Nov    \n",
       "2       Tricholoma terreum     The Grey Knight         Aug        Oct    \n",
       "3      Stropharia caerulea      Blue Roundhead         Aug        Dec    \n",
       "4         Sparassis crispa  Cauliflower Fungus         Aug        Nov    \n",
       "\n",
       "        Type   shrooms seasons  \n",
       "0     Edible  [Autumn, Summer]  \n",
       "1   Inedible  [Autumn, Summer]  \n",
       "2  Poisonous  [Autumn, Summer]  \n",
       "3  Poisonous  [Autumn, Winter]  \n",
       "4     Edible  [Autumn, Summer]  "
      ]
     },
     "execution_count": 182,
     "metadata": {},
     "output_type": "execute_result"
    }
   ],
   "source": [
    "d = {'scientific': shrooms_scientific, \n",
    "     'common': shrooms_common, \n",
    "     'season start': shrooms_start, \n",
    "     'season end': shrooms_end, \n",
    "     'Type': shrooms_edible,\n",
    "     'shrooms seasons': shrooms_seasons}\n",
    "\n",
    "df = pd.DataFrame(data=d)\n",
    "df.head(5)"
   ]
  },
  {
   "cell_type": "code",
   "execution_count": 190,
   "id": "cf38629b-0e21-4fab-8483-423b6ae4acbd",
   "metadata": {},
   "outputs": [],
   "source": [
    "df.to_csv(os.getcwd() + '\\\\Shroom_DB.csv')"
   ]
  }
 ],
 "metadata": {
  "kernelspec": {
   "display_name": "Python 3",
   "language": "python",
   "name": "python3"
  },
  "language_info": {
   "codemirror_mode": {
    "name": "ipython",
    "version": 3
   },
   "file_extension": ".py",
   "mimetype": "text/x-python",
   "name": "python",
   "nbconvert_exporter": "python",
   "pygments_lexer": "ipython3",
   "version": "3.8.8"
  }
 },
 "nbformat": 4,
 "nbformat_minor": 5
}
