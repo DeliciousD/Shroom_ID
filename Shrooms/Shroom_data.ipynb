{
 "cells": [
  {
   "cell_type": "markdown",
   "id": "c8ede23a-9149-41f3-b4a7-9c706dd88dcc",
   "metadata": {},
   "source": [
    "# Creates a database of mushrooms from scraping www.wildfooduk.com"
   ]
  },
  {
   "cell_type": "code",
   "execution_count": 27,
   "id": "b117c50c-953b-4c2b-b24e-ad754473e5a6",
   "metadata": {},
   "outputs": [],
   "source": [
    "import pandas as pd\n",
    "import numpy as np\n",
    "import requests\n",
    "from bs4 import BeautifulSoup\n",
    "import os"
   ]
  },
  {
   "cell_type": "code",
   "execution_count": 28,
   "id": "f3e4a403-d879-4e5d-9aa6-f3da864e47b8",
   "metadata": {},
   "outputs": [],
   "source": [
    "shroom_DB = \"https://www.wildfooduk.com/mushroom-guide/?mushroom_orderby=latin_name&mushroom_order=DESC\"\n",
    "\n",
    "result = requests.get(shroom_DB)\n",
    "\n",
    "soup = BeautifulSoup(result.content, \"html.parser\")\n",
    "\n",
    "table = soup.find('table', class_='mushroom-table')\n",
    "\n",
    "shrooms_scientific = []; shrooms_common = []\n",
    "shrooms_start = []; shrooms_end = []\n",
    "shrooms_edible = []; shrooms_seasons = []\n",
    "\n",
    "for row in table.tbody.find_all('tr'):\n",
    "    \n",
    "    shroom_image, shroom_common, shroom_scientific, shroom_info, shroom_season_start, shroom_season_end = row.find_all('td')\n",
    "        \n",
    "    info = [info['alt'] for info in shroom_info.find_all('img')]    \n",
    "    \n",
    "    shrooms_edible.append(info[0])\n",
    "    shrooms_seasons.append(info[1:])\n",
    "    \n",
    "    shrooms_start.append(shroom_season_start.text.replace('\\nSeason Start : ', ''))\n",
    "    shrooms_end.append(shroom_season_end.text.replace('\\nSeason End : ', ''))\n",
    "    \n",
    "    shrooms_scientific.append(shroom_scientific.get_text().strip())\n",
    "    shrooms_common.append(shroom_common.get_text().strip())"
   ]
  },
  {
   "cell_type": "markdown",
   "id": "3924a655-d19a-4cc5-9791-b6abaf4d1c6e",
   "metadata": {},
   "source": [
    "#### Renaming Boletus and Hygrocybe varieties classes"
   ]
  },
  {
   "cell_type": "code",
   "execution_count": 29,
   "id": "b0b83727-ff61-4b93-8d3a-36c9e8b58b43",
   "metadata": {},
   "outputs": [],
   "source": [
    "shrooms_scientific = [shroom.replace('Boletus / ', '') for shroom in shrooms_scientific]\n",
    "shrooms_scientific = [shroom.replace('Hygrocybe / ', '') for shroom in shrooms_scientific]"
   ]
  },
  {
   "cell_type": "markdown",
   "id": "4964b43b-e6d3-476c-97b5-c0fd2dabd7c9",
   "metadata": {},
   "source": [
    "#### Create dataframe"
   ]
  },
  {
   "cell_type": "code",
   "execution_count": 30,
   "id": "eaa87c7c-e783-4256-a791-7bb140a7b512",
   "metadata": {},
   "outputs": [
    {
     "data": {
      "text/html": [
       "<div>\n",
       "<style scoped>\n",
       "    .dataframe tbody tr th:only-of-type {\n",
       "        vertical-align: middle;\n",
       "    }\n",
       "\n",
       "    .dataframe tbody tr th {\n",
       "        vertical-align: top;\n",
       "    }\n",
       "\n",
       "    .dataframe thead th {\n",
       "        text-align: right;\n",
       "    }\n",
       "</style>\n",
       "<table border=\"1\" class=\"dataframe\">\n",
       "  <thead>\n",
       "    <tr style=\"text-align: right;\">\n",
       "      <th></th>\n",
       "      <th>scientific</th>\n",
       "      <th>common</th>\n",
       "      <th>season start</th>\n",
       "      <th>season end</th>\n",
       "      <th>Type</th>\n",
       "      <th>shrooms seasons</th>\n",
       "    </tr>\n",
       "  </thead>\n",
       "  <tbody>\n",
       "    <tr>\n",
       "      <th>0</th>\n",
       "      <td>Tuber aestivum</td>\n",
       "      <td>Truffles</td>\n",
       "      <td>Aug</td>\n",
       "      <td>Nov</td>\n",
       "      <td>Edible</td>\n",
       "      <td>[Autumn, Summer]</td>\n",
       "    </tr>\n",
       "    <tr>\n",
       "      <th>1</th>\n",
       "      <td>Tricholomopsis rutilans</td>\n",
       "      <td>Plums And Custard</td>\n",
       "      <td>Jul</td>\n",
       "      <td>Nov</td>\n",
       "      <td>Inedible</td>\n",
       "      <td>[Autumn, Summer]</td>\n",
       "    </tr>\n",
       "    <tr>\n",
       "      <th>2</th>\n",
       "      <td>Tricholoma terreum</td>\n",
       "      <td>The Grey Knight</td>\n",
       "      <td>Aug</td>\n",
       "      <td>Oct</td>\n",
       "      <td>Poisonous</td>\n",
       "      <td>[Autumn, Summer]</td>\n",
       "    </tr>\n",
       "    <tr>\n",
       "      <th>3</th>\n",
       "      <td>Stropharia caerulea</td>\n",
       "      <td>Blue Roundhead</td>\n",
       "      <td>Aug</td>\n",
       "      <td>Dec</td>\n",
       "      <td>Poisonous</td>\n",
       "      <td>[Autumn, Winter]</td>\n",
       "    </tr>\n",
       "    <tr>\n",
       "      <th>4</th>\n",
       "      <td>Sparassis crispa</td>\n",
       "      <td>Cauliflower Fungus</td>\n",
       "      <td>Aug</td>\n",
       "      <td>Nov</td>\n",
       "      <td>Edible</td>\n",
       "      <td>[Autumn, Summer]</td>\n",
       "    </tr>\n",
       "  </tbody>\n",
       "</table>\n",
       "</div>"
      ],
      "text/plain": [
       "                scientific              common season start season end  \\\n",
       "0           Tuber aestivum            Truffles         Aug        Nov    \n",
       "1  Tricholomopsis rutilans   Plums And Custard         Jul        Nov    \n",
       "2       Tricholoma terreum     The Grey Knight         Aug        Oct    \n",
       "3      Stropharia caerulea      Blue Roundhead         Aug        Dec    \n",
       "4         Sparassis crispa  Cauliflower Fungus         Aug        Nov    \n",
       "\n",
       "        Type   shrooms seasons  \n",
       "0     Edible  [Autumn, Summer]  \n",
       "1   Inedible  [Autumn, Summer]  \n",
       "2  Poisonous  [Autumn, Summer]  \n",
       "3  Poisonous  [Autumn, Winter]  \n",
       "4     Edible  [Autumn, Summer]  "
      ]
     },
     "execution_count": 30,
     "metadata": {},
     "output_type": "execute_result"
    }
   ],
   "source": [
    "d = {'scientific': shrooms_scientific, \n",
    "     'common': shrooms_common, \n",
    "     'season start': shrooms_start, \n",
    "     'season end': shrooms_end, \n",
    "     'Type': shrooms_edible,\n",
    "     'shrooms seasons': shrooms_seasons}\n",
    "\n",
    "df = pd.DataFrame(data=d)\n",
    "df.head(5)"
   ]
  },
  {
   "cell_type": "code",
   "execution_count": 33,
   "id": "14901c5c-585e-4dd8-9ada-e08e0bdf1b40",
   "metadata": {},
   "outputs": [],
   "source": [
    "df = df.replace('Scleroderma citrinum, areolatum, verrucosum', \n",
    "                          'Scleroderma citrinum')\n",
    "\n",
    "df = df.replace('Inocybe geophylla', \n",
    "                          'Inocybe geophylla\"  -\"lilacina')\n",
    "\n",
    "df = df.replace('Cantherellus tubaeformis', \n",
    "                          'Cantharellus tubaeformis')\n",
    "\n",
    "df = df.replace('Boletus / Leccinum versipellis', \n",
    "                          'Leccinum versipelle')\n",
    "\n",
    "df = df.replace('Amanita citrina var citrina', \n",
    "                'Amanita citrina')\n",
    "\n",
    "df = df.replace('Hygrocybe miniata', \n",
    "                'Hygrocybe miniata-punicea')\n",
    "\n",
    "df = df[df.scientific != 'Hygrocybe punicea']\n",
    "df = df[df.scientific != 'Amanita citrina var alba']\n",
    "df = df[df.scientific != 'Cordyceps militaris']"
   ]
  },
  {
   "cell_type": "code",
   "execution_count": 35,
   "id": "cf38629b-0e21-4fab-8483-423b6ae4acbd",
   "metadata": {},
   "outputs": [],
   "source": [
    "df.to_csv(os.getcwd() + '\\\\Shroom_DB.csv')"
   ]
  },
  {
   "cell_type": "code",
   "execution_count": 34,
   "id": "d4655dfd-638d-4d8d-93cf-655a1d7759df",
   "metadata": {},
   "outputs": [
    {
     "name": "stdout",
     "output_type": "stream",
     "text": [
      "150\n"
     ]
    }
   ],
   "source": [
    "df.head()\n",
    "print(len(df))"
   ]
  },
  {
   "cell_type": "code",
   "execution_count": 11,
   "id": "4e4b7e3d-0188-4429-b617-983054eb6db2",
   "metadata": {},
   "outputs": [],
   "source": [
    "df.to_csv(os.getcwd() + '\\\\Shroom_DB.csv')"
   ]
  },
  {
   "cell_type": "code",
   "execution_count": 36,
   "id": "91db91f6-bbb9-4903-a49e-2a0250479a93",
   "metadata": {},
   "outputs": [
    {
     "data": {
      "text/html": [
       "<div>\n",
       "<style scoped>\n",
       "    .dataframe tbody tr th:only-of-type {\n",
       "        vertical-align: middle;\n",
       "    }\n",
       "\n",
       "    .dataframe tbody tr th {\n",
       "        vertical-align: top;\n",
       "    }\n",
       "\n",
       "    .dataframe thead th {\n",
       "        text-align: right;\n",
       "    }\n",
       "</style>\n",
       "<table border=\"1\" class=\"dataframe\">\n",
       "  <thead>\n",
       "    <tr style=\"text-align: right;\">\n",
       "      <th></th>\n",
       "      <th>Unnamed: 0</th>\n",
       "      <th>scientific</th>\n",
       "      <th>common</th>\n",
       "      <th>season start</th>\n",
       "      <th>season end</th>\n",
       "      <th>Type</th>\n",
       "      <th>shrooms seasons</th>\n",
       "    </tr>\n",
       "  </thead>\n",
       "  <tbody>\n",
       "    <tr>\n",
       "      <th>0</th>\n",
       "      <td>0</td>\n",
       "      <td>Tuber aestivum</td>\n",
       "      <td>Truffles</td>\n",
       "      <td>Aug</td>\n",
       "      <td>Nov</td>\n",
       "      <td>Edible</td>\n",
       "      <td>['Autumn', 'Summer']</td>\n",
       "    </tr>\n",
       "    <tr>\n",
       "      <th>1</th>\n",
       "      <td>1</td>\n",
       "      <td>Tricholomopsis rutilans</td>\n",
       "      <td>Plums And Custard</td>\n",
       "      <td>Jul</td>\n",
       "      <td>Nov</td>\n",
       "      <td>Inedible</td>\n",
       "      <td>['Autumn', 'Summer']</td>\n",
       "    </tr>\n",
       "    <tr>\n",
       "      <th>2</th>\n",
       "      <td>2</td>\n",
       "      <td>Tricholoma terreum</td>\n",
       "      <td>The Grey Knight</td>\n",
       "      <td>Aug</td>\n",
       "      <td>Oct</td>\n",
       "      <td>Poisonous</td>\n",
       "      <td>['Autumn', 'Summer']</td>\n",
       "    </tr>\n",
       "    <tr>\n",
       "      <th>3</th>\n",
       "      <td>3</td>\n",
       "      <td>Stropharia caerulea</td>\n",
       "      <td>Blue Roundhead</td>\n",
       "      <td>Aug</td>\n",
       "      <td>Dec</td>\n",
       "      <td>Poisonous</td>\n",
       "      <td>['Autumn', 'Winter']</td>\n",
       "    </tr>\n",
       "    <tr>\n",
       "      <th>4</th>\n",
       "      <td>4</td>\n",
       "      <td>Sparassis crispa</td>\n",
       "      <td>Cauliflower Fungus</td>\n",
       "      <td>Aug</td>\n",
       "      <td>Nov</td>\n",
       "      <td>Edible</td>\n",
       "      <td>['Autumn', 'Summer']</td>\n",
       "    </tr>\n",
       "  </tbody>\n",
       "</table>\n",
       "</div>"
      ],
      "text/plain": [
       "   Unnamed: 0               scientific              common season start  \\\n",
       "0           0           Tuber aestivum            Truffles         Aug    \n",
       "1           1  Tricholomopsis rutilans   Plums And Custard         Jul    \n",
       "2           2       Tricholoma terreum     The Grey Knight         Aug    \n",
       "3           3      Stropharia caerulea      Blue Roundhead         Aug    \n",
       "4           4         Sparassis crispa  Cauliflower Fungus         Aug    \n",
       "\n",
       "  season end       Type       shrooms seasons  \n",
       "0       Nov      Edible  ['Autumn', 'Summer']  \n",
       "1       Nov    Inedible  ['Autumn', 'Summer']  \n",
       "2       Oct   Poisonous  ['Autumn', 'Summer']  \n",
       "3       Dec   Poisonous  ['Autumn', 'Winter']  \n",
       "4       Nov      Edible  ['Autumn', 'Summer']  "
      ]
     },
     "execution_count": 36,
     "metadata": {},
     "output_type": "execute_result"
    }
   ],
   "source": [
    "df = pd.read_csv('Shroom_DB.csv')\n",
    "df.head()"
   ]
  },
  {
   "cell_type": "code",
   "execution_count": 26,
   "id": "b3612409-e3ba-431c-992b-9cfe2eed7f8d",
   "metadata": {},
   "outputs": [
    {
     "data": {
      "text/plain": [
       "151"
      ]
     },
     "execution_count": 26,
     "metadata": {},
     "output_type": "execute_result"
    }
   ],
   "source": [
    "len(df)"
   ]
  },
  {
   "cell_type": "code",
   "execution_count": null,
   "id": "568b2c05-47d3-4294-92ee-8b18c3a27871",
   "metadata": {},
   "outputs": [],
   "source": []
  }
 ],
 "metadata": {
  "kernelspec": {
   "display_name": "Python 3",
   "language": "python",
   "name": "python3"
  },
  "language_info": {
   "codemirror_mode": {
    "name": "ipython",
    "version": 3
   },
   "file_extension": ".py",
   "mimetype": "text/x-python",
   "name": "python",
   "nbconvert_exporter": "python",
   "pygments_lexer": "ipython3",
   "version": "3.8.8"
  }
 },
 "nbformat": 4,
 "nbformat_minor": 5
}
