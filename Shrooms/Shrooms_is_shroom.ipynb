{
 "cells": [
  {
   "cell_type": "markdown",
   "id": "c8ab5d4d-8d1d-448c-81ba-12ccf965b463",
   "metadata": {},
   "source": [
    "# Check whether each image in dataset is a mushroom"
   ]
  },
  {
   "cell_type": "code",
   "execution_count": null,
   "id": "2c293446-8c2b-4725-9daf-9e97978a253c",
   "metadata": {},
   "outputs": [],
   "source": [
    "from tensorflow.keras.applications import EfficientNetB3\n",
    "\n",
    "model = EfficientNetB3(weights='imagenet')"
   ]
  },
  {
   "cell_type": "code",
   "execution_count": null,
   "id": "1775ea3a-f3b9-409f-8fd1-00c19ae20062",
   "metadata": {},
   "outputs": [],
   "source": [
    "img_sample = './images_test/lepista_nuda/017cb8589e.jpg' # flow from image directory\n",
    "\n",
    "img = Image.open(img_sample)\n",
    "image = img.resize((300, 300))\n",
    "image = np.expand_dims(image, axis=0)\n",
    "\n",
    "preprocess_input_mobilenet_v2 = tf.keras.applications.EfficientNetB3.preprocess_input\n",
    "\n",
    "prediction = model.predict(image)\n",
    "\n",
    "with open('imagenet-simple-labels.json') as f:\n",
    "    labels = json.load(f)\n",
    "    \n",
    "prediction = labels[prediction.argmax()]\n",
    "\n",
    "plt.figure()\n",
    "_ = plt.imshow(img)\n",
    "\n",
    "print(f'Prediction: {prediction}')"
   ]
  },
  {
   "cell_type": "code",
   "execution_count": null,
   "id": "991d9772-5d34-4856-86c2-325ba2a6d82a",
   "metadata": {},
   "outputs": [],
   "source": [
    "# todo: if mushroom is not is top 5 predictions, delete file"
   ]
  },
  {
   "cell_type": "code",
   "execution_count": null,
   "id": "a5aadbbf-5e61-4b6f-9128-2cb58c032ce2",
   "metadata": {},
   "outputs": [],
   "source": []
  }
 ],
 "metadata": {
  "kernelspec": {
   "display_name": "Python 3",
   "language": "python",
   "name": "python3"
  },
  "language_info": {
   "codemirror_mode": {
    "name": "ipython",
    "version": 3
   },
   "file_extension": ".py",
   "mimetype": "text/x-python",
   "name": "python",
   "nbconvert_exporter": "python",
   "pygments_lexer": "ipython3",
   "version": "3.8.8"
  }
 },
 "nbformat": 4,
 "nbformat_minor": 5
}
