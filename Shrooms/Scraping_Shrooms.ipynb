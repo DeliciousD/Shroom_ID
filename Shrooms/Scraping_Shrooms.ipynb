{
 "cells": [
  {
   "cell_type": "code",
   "execution_count": 1,
   "metadata": {},
   "outputs": [],
   "source": [
    "import numpy as np\n",
    "import matplotlib.pyplot as plt\n",
    "import pandas as pd\n",
    "from PIL import Image\n",
    "import json\n",
    "# from tensorflow.keras.applications import EfficientNetB0\n",
    "# import tensorflow as tf\n",
    "import tarfile\n",
    "import glob\n",
    "import os\n",
    "import time\n",
    "from tqdm.notebook import tqdm"
   ]
  },
  {
   "cell_type": "markdown",
   "metadata": {},
   "source": [
    "### Junk code"
   ]
  },
  {
   "cell_type": "markdown",
   "metadata": {},
   "source": [
    "with open(data_dir + dataset + '.json') as f:\n",
    "      df.append(json.load(f))"
   ]
  },
  {
   "cell_type": "markdown",
   "metadata": {},
   "source": [
    "### Notes"
   ]
  },
  {
   "cell_type": "markdown",
   "metadata": {},
   "source": [
    "##### when searching google use \"scientific name\" in extra quotes to avoid confusion with latin derivates"
   ]
  },
  {
   "cell_type": "markdown",
   "metadata": {},
   "source": [
    "## Loading and tarzing dataset"
   ]
  },
  {
   "cell_type": "code",
   "execution_count": 2,
   "metadata": {},
   "outputs": [],
   "source": [
    "directory = 'C://Users//danie//Documents//DW//Shrooms//shroom_comp//'\n",
    "\n",
    "\n",
    "data = [\"train_val_annotations\", \"test_information\", \"fungi_test\", \"fungi_train_val\"]\n",
    "\n",
    "errors = 'fungi_train_val\\\\images\\\\12665_Cortinarius_uliginosus f. uliginosus \\\\JM2009PIC22142605.JPG'"
   ]
  },
  {
   "cell_type": "code",
   "execution_count": 3,
   "metadata": {},
   "outputs": [],
   "source": [
    "tarsefiles = False\n",
    "\n",
    "if tarsefiles is True:\n",
    "    for idx, dataset in enumerate(data):\n",
    "\n",
    "        data_dir = directory + dataset\n",
    "\n",
    "        print(data_dir)\n",
    "\n",
    "        with tarfile.open(data_dir + '.tgz', 'r:gz') as opened_targz_file:\n",
    "            try:\n",
    "                opened_targz_file.extractall(data_dir)\n",
    "            except FileNotFoundError as error:\n",
    "                errors.append(error)\n",
    "                print(error)"
   ]
  },
  {
   "cell_type": "markdown",
   "metadata": {},
   "source": [
    "### Images"
   ]
  },
  {
   "cell_type": "code",
   "execution_count": 4,
   "metadata": {},
   "outputs": [],
   "source": [
    "image_directory = directory + data[-1] + '//images//'\n",
    "\n",
    "shroom_folder_size = []\n",
    "shroom_folder = None\n",
    "\n",
    "for dirpath, dirnames, filenames in os.walk(image_directory):\n",
    "    \n",
    "    if shroom_folder is None:\n",
    "        shroom_folder = dirnames\n",
    "    \n",
    "    shroom_folder_size.append(len(filenames))\n",
    "    \n",
    "# shroom_folder_size.pop(0)"
   ]
  },
  {
   "cell_type": "code",
   "execution_count": 5,
   "metadata": {},
   "outputs": [
    {
     "data": {
      "text/plain": [
       "14435_Gymnopus_dryophilus          342\n",
       "14069_Fuligo_leviderma             329\n",
       "14963_Hymenoscyphus_fructigenus    219\n",
       "14454_Gyromitra_esculenta          197\n",
       "47767_Schizophyllum_amplum         196\n",
       "dtype: int64"
      ]
     },
     "execution_count": 5,
     "metadata": {},
     "output_type": "execute_result"
    }
   ],
   "source": [
    "df_images = pd.Series(dict(zip(shroom_folder, shroom_folder_size))).sort_values(ascending=False)\n",
    "df_images.head()"
   ]
  },
  {
   "cell_type": "markdown",
   "metadata": {},
   "source": [
    "### Very little chance model will perform well for classes with fewer than 100 images"
   ]
  },
  {
   "cell_type": "code",
   "execution_count": 6,
   "metadata": {},
   "outputs": [
    {
     "data": {
      "image/png": "[encoded data removed]",
      "text/plain": [
       "<Figure size 648x360 with 1 Axes>"
      ]
     },
     "metadata": {
      "needs_background": "light"
     },
     "output_type": "display_data"
    }
   ],
   "source": [
    "plt.figure(figsize=(9,5))\n",
    "_ = df_images.hist(bins=25)"
   ]
  },
  {
   "cell_type": "markdown",
   "metadata": {},
   "source": [
    "### We could attempt for the 27 classes with 100+ images"
   ]
  },
  {
   "cell_type": "code",
   "execution_count": 7,
   "metadata": {},
   "outputs": [
    {
     "data": {
      "image/png": "[encoded data removed]",
      "text/plain": [
       "<Figure size 648x360 with 1 Axes>"
      ]
     },
     "metadata": {
      "needs_background": "light"
     },
     "output_type": "display_data"
    }
   ],
   "source": [
    "df_images = df_images[df_images > 100]\n",
    "\n",
    "plt.figure(figsize=(9,5))\n",
    "_ = df_images.hist(bins=25)"
   ]
  },
  {
   "cell_type": "markdown",
   "metadata": {},
   "source": [
    "### Perhaps a better way is to use images from search engines for each class and add those images to our dataset"
   ]
  },
  {
   "cell_type": "markdown",
   "metadata": {},
   "source": [
    "### I will instead scrape a database from www.wildfooduk.com"
   ]
  },
  {
   "cell_type": "code",
   "execution_count": 8,
   "metadata": {},
   "outputs": [],
   "source": [
    "import requests\n",
    "from bs4 import BeautifulSoup"
   ]
  },
  {
   "cell_type": "code",
   "execution_count": 9,
   "metadata": {},
   "outputs": [],
   "source": [
    "# # would be nice to use:\n",
    "# df_pandas = pd.read_html(url, attrs = {'class': 'wikitable sortable'},  flavor='bs4', thousands ='.')"
   ]
  },
  {
   "cell_type": "code",
   "execution_count": 10,
   "metadata": {},
   "outputs": [],
   "source": [
    "shroom_DB = \"https://www.wildfooduk.com/mushroom-guide/?mushroom_orderby=latin_name&mushroom_order=DESC\"\n",
    "result = requests.get(shroom_DB)\n",
    "\n",
    "# if successful parse the download into a BeautifulSoup object, which allows easy manipulation \n",
    "if result.status_code == 200:\n",
    "    soup = BeautifulSoup(result.content, \"html.parser\")\n",
    "    \n",
    "table = soup.find('table', class_='mushroom-table')\n",
    "\n",
    "shrooms_scientific = []\n",
    "\n",
    "for row in table.tbody.find_all('tr'):\n",
    "    shroom_image, shroom_common, shroom_scientific, shroom_type, shroom_season_start, shroom_season_end = row.find_all('td')\n",
    "    \n",
    "    shroom_common.get_text().strip()\n",
    "    shroom_scientific.get_text().strip()\n",
    "    'Edible' in str(shroom_type)        # mushroom type is icons i.e <img alt='sping' height='30'... > could record edible/poisonous, spring, summer, autumn, winter or just use icons \n",
    "    shroom_season_start.get_text().strip().replace('Season Start : ', '')\n",
    "    shroom_season_end.get_text().strip().replace('Season End : ', '')\n",
    "    \n",
    "    shrooms_scientific.append(shroom_scientific.get_text().strip())\n",
    "\n",
    "# cleaning various classes\n",
    "shrooms_scientific = [shroom.replace('Boletus / ', '') for shroom in shrooms_scientific]\n",
    "shrooms_scientific = [shroom.replace('Hygrocybe / ', '') for shroom in shrooms_scientific]\n",
    "shrooms_scientific[5] = 'Scleroderma citrinum'\n",
    "# shrooms_scientific[60] = \"Inocybe geophylla\"  -\"var. lilacina\"       # would be good to remove this from search but causes problems with string\n",
    "shrooms_scientific[101] = \"cantharellus tubaeformis\"\n",
    "shrooms_scientific[115] = \"leccinum versipelle\""
   ]
  },
  {
   "cell_type": "code",
   "execution_count": 11,
   "metadata": {},
   "outputs": [],
   "source": [
    "test = dict(zip(shrooms_scientific, np.arange(len(shrooms_scientific))))\n",
    "# test"
   ]
  },
  {
   "cell_type": "markdown",
   "metadata": {},
   "source": [
    "### Now I just need to search Google for each mushroom\n",
    "#### I use the Image_scrapping tool developed on my github repo"
   ]
  },
  {
   "cell_type": "code",
   "execution_count": 12,
   "metadata": {},
   "outputs": [],
   "source": [
    "from Image_scraper import ImageScrapper"
   ]
  },
  {
   "cell_type": "code",
   "execution_count": 13,
   "metadata": {},
   "outputs": [
    {
     "data": {
      "application/vnd.jupyter.widget-view+json": {
       "model_id": "c6b6c2f29d4645de8e50686427942f93",
       "version_major": 2,
       "version_minor": 0
      },
      "text/plain": [
       "Extracting 2 links from 200 Google results:   0%|          | 0/200 [00:00<?, ?it/s]"
      ]
     },
     "metadata": {},
     "output_type": "display_data"
    },
    {
     "data": {
      "application/vnd.jupyter.widget-view+json": {
       "model_id": "",
       "version_major": 2,
       "version_minor": 0
      },
      "text/plain": [
       "Saving Images:   0%|          | 0/2 [00:00<?, ?it/s]"
      ]
     },
     "metadata": {},
     "output_type": "display_data"
    },
    {
     "data": {
      "application/vnd.jupyter.widget-view+json": {
       "model_id": "51df3111d2974ef9bbd1f95d252e1fb3",
       "version_major": 2,
       "version_minor": 0
      },
      "text/plain": [
       "Extracting 2 links from 262 Duckduckgo results:   0%|          | 0/262 [00:00<?, ?it/s]"
      ]
     },
     "metadata": {},
     "output_type": "display_data"
    },
    {
     "data": {
      "application/vnd.jupyter.widget-view+json": {
       "model_id": "",
       "version_major": 2,
       "version_minor": 0
      },
      "text/plain": [
       "Saving Images:   0%|          | 0/2 [00:00<?, ?it/s]"
      ]
     },
     "metadata": {},
     "output_type": "display_data"
    }
   ],
   "source": [
    "image_scraper = ImageScrapper(save_path='\\\\images_test', engine='Google')\n",
    "\n",
    "image_scraper.search_and_download(search_term='Cat in wig', number_images=2, exact_match=True)\n",
    "\n",
    "image_scraper.configure_engine('Duckduckgo')\n",
    "\n",
    "image_scraper.search_and_download(search_term='Cat in wig', number_images=2, exact_match=True)"
   ]
  },
  {
   "cell_type": "code",
   "execution_count": null,
   "metadata": {},
   "outputs": [],
   "source": []
  },
  {
   "cell_type": "markdown",
   "metadata": {},
   "source": [
    "#### Use search term with the number of desired images and the directory we wish to store the images in"
   ]
  },
  {
   "cell_type": "code",
   "execution_count": 14,
   "metadata": {},
   "outputs": [
    {
     "data": {
      "text/plain": [
       "153"
      ]
     },
     "execution_count": 14,
     "metadata": {},
     "output_type": "execute_result"
    }
   ],
   "source": [
    "len(shrooms_scientific)"
   ]
  },
  {
   "cell_type": "code",
   "execution_count": 20,
   "metadata": {},
   "outputs": [
    {
     "data": {
      "text/plain": [
       "'Russula fellea'"
      ]
     },
     "execution_count": 20,
     "metadata": {},
     "output_type": "execute_result"
    }
   ],
   "source": [
    "shrooms_scientific[11]"
   ]
  },
  {
   "cell_type": "code",
   "execution_count": null,
   "metadata": {},
   "outputs": [
    {
     "data": {
      "application/vnd.jupyter.widget-view+json": {
       "model_id": "7dc978f0ac244c7ebb15e0a49eeb1160",
       "version_major": 2,
       "version_minor": 0
      },
      "text/plain": [
       "Mushroom no:   0%|          | 0/142 [00:00<?, ?it/s]"
      ]
     },
     "metadata": {},
     "output_type": "display_data"
    },
    {
     "data": {
      "application/vnd.jupyter.widget-view+json": {
       "model_id": "cc74d816f9a7425b8b5b02e26a92d5d7",
       "version_major": 2,
       "version_minor": 0
      },
      "text/plain": [
       "Extracting 200 links from 200 Google results:   0%|          | 0/200 [00:00<?, ?it/s]"
      ]
     },
     "metadata": {},
     "output_type": "display_data"
    },
    {
     "name": "stdout",
     "output_type": "stream",
     "text": [
      "Failed to click thumbnail\n"
     ]
    },
    {
     "data": {
      "application/vnd.jupyter.widget-view+json": {
       "model_id": "",
       "version_major": 2,
       "version_minor": 0
      },
      "text/plain": [
       "Saving Images:   0%|          | 0/200 [00:00<?, ?it/s]"
      ]
     },
     "metadata": {},
     "output_type": "display_data"
    },
    {
     "name": "stdout",
     "output_type": "stream",
     "text": [
      "Could not save https://upload.wikimedia.org/wikipedia/commons/1/12/Russula_fellea_G3.jpg - cannot identify image file <_io.BytesIO object at 0x000001BEB2A01F40>\n",
      "Failed to access image url https://www.discoverlife.org/IM/I_MWS/1293/320/Russula_fellea,I_MWS129385.jpg - HTTPSConnectionPool(host='www.discoverlife.org', port=443): Max retries exceeded with url: /IM/I_MWS/1293/320/Russula_fellea,I_MWS129385.jpg (Caused by SSLError(SSLCertVerificationError(1, '[SSL: CERTIFICATE_VERIFY_FAILED] certificate verify failed: unable to get local issuer certificate (_ssl.c:1125)')))\n",
      "Could not save https://www.discoverlife.org/IM/I_MWS/1293/320/Russula_fellea,I_MWS129385.jpg - local variable 'image_content' referenced before assignment\n",
      "Could not save https://upload.wikimedia.org/wikipedia/commons/thumb/8/87/Russula_caerulea.jpg/440px-Russula_caerulea.jpg - cannot identify image file <_io.BytesIO object at 0x000001BEB2A91D10>\n",
      "Could not save https://upload.wikimedia.org/wikipedia/commons/0/05/Russ.fell.jpg - cannot identify image file <_io.BytesIO object at 0x000001BEB16B0180>\n",
      "Could not save https://www.delta-intkey.com/britfu/images/lh1991.jpg - cannot identify image file <_io.BytesIO object at 0x000001BEB2A0E720>\n",
      "Failed to access image url https://www.discoverlife.org/IM/I_MWS/1293/320/Russula_fellea,I_MWS129386.jpg - HTTPSConnectionPool(host='www.discoverlife.org', port=443): Max retries exceeded with url: /IM/I_MWS/1293/320/Russula_fellea,I_MWS129386.jpg (Caused by SSLError(SSLCertVerificationError(1, '[SSL: CERTIFICATE_VERIFY_FAILED] certificate verify failed: unable to get local issuer certificate (_ssl.c:1125)')))\n",
      "Could not save https://www.discoverlife.org/IM/I_MWS/1293/320/Russula_fellea,I_MWS129386.jpg - local variable 'image_content' referenced before assignment\n",
      "Could not save https://www.delta-intkey.com/britfu/images/berkf13.jpg - cannot identify image file <_io.BytesIO object at 0x000001BEB0ADCC70>\n",
      "Could not save https://upload.wikimedia.org/wikipedia/commons/9/98/Russula_fellea-Cooke.jpg - cannot identify image file <_io.BytesIO object at 0x000001BEB0A1E180>\n",
      "Could not save https://upload.wikimedia.org/wikipedia/commons/5/52/Russula.fellea.-.lindsey.jpg - cannot identify image file <_io.BytesIO object at 0x000001BEB2A01EA0>\n",
      "Could not save https://upload.wikimedia.org/wikipedia/commons/c/c0/Russula_fellea_G2.jpg - cannot identify image file <_io.BytesIO object at 0x000001BEB2AD10E0>\n",
      "Could not save https://www.gobice.com/pic/russula_fellea_spore_print_01.jpg - [Errno 22] Invalid argument: 'C:\\\\Users\\\\danie\\\\Documents\\\\DW\\\\Shrooms\\\\images2\\\\russula_fellea\\\\59ed86ed1b.jpg'\n",
      "Could not save https://www.delta-intkey.com/britfu/images/lh1971.jpg - cannot identify image file <_io.BytesIO object at 0x000001BEB16B0180>\n",
      "Could not save https://static.wixstatic.com/media/1048fe_ed3432a15be140f9bd4bbbdea58f022a~mv2.jpg/v1/fill/w_416,h_382,al_c,q_80,usm_0.66_1.00_0.01/rose%20russ_JPG.webp - cannot identify image file <_io.BytesIO object at 0x000001BEB2AD10E0>\n",
      "Could not save https://upload.wikimedia.org/wikipedia/commons/thumb/1/12/Russula.fellea2.-.lindsey.jpg/250px-Russula.fellea2.-.lindsey.jpg - cannot identify image file <_io.BytesIO object at 0x000001BEB0A1E180>\n"
     ]
    },
    {
     "data": {
      "application/vnd.jupyter.widget-view+json": {
       "model_id": "c2ba30f9e69d4241a4d4d2761dc4cb24",
       "version_major": 2,
       "version_minor": 0
      },
      "text/plain": [
       "Extracting 200 links from 344 Duckduckgo results:   0%|          | 0/344 [00:00<?, ?it/s]"
      ]
     },
     "metadata": {},
     "output_type": "display_data"
    },
    {
     "data": {
      "application/vnd.jupyter.widget-view+json": {
       "model_id": "",
       "version_major": 2,
       "version_minor": 0
      },
      "text/plain": [
       "Saving Images:   0%|          | 0/200 [00:00<?, ?it/s]"
      ]
     },
     "metadata": {},
     "output_type": "display_data"
    },
    {
     "name": "stdout",
     "output_type": "stream",
     "text": [
      "Could not save https://external-content.duckduckgo.com/iu/?u=http%3A%2F%2Fwww.discoverlife.org%2FIM%2FI_MWS%2F1294%2F320%2FRussula_fellea%2CI_MWS129428.jpg&f=1&nofb=1 - cannot identify image file <_io.BytesIO object at 0x000001BEB0ADCC70>\n",
      "Could not save https://external-content.duckduckgo.com/iu/?u=http%3A%2F%2Fwww.discoverlife.org%2FIM%2FI_MWS%2F1294%2F320%2FRussula_fellea%2CI_MWS129433.jpg&f=1&nofb=1 - cannot identify image file <_io.BytesIO object at 0x000001BEB2ADD4F0>\n",
      "Could not save https://external-content.duckduckgo.com/iu/?u=http%3A%2F%2Fwww.discoverlife.org%2FIM%2FI_MWS%2F1294%2F320%2FRussula_fellea%2CI_MWS129427.jpg&f=1&nofb=1 - cannot identify image file <_io.BytesIO object at 0x000001BEB0ADCC70>\n",
      "Could not save https://external-content.duckduckgo.com/iu/?u=http%3A%2F%2Fwww.discoverlife.org%2FIM%2FI_MWS%2F1294%2F320%2FRussula_fellea%2CI_MWS129429.jpg&f=1&nofb=1 - cannot identify image file <_io.BytesIO object at 0x000001BEAFA8FF90>\n",
      "Could not save https://external-content.duckduckgo.com/iu/?u=http%3A%2F%2Fwww.discoverlife.org%2FIM%2FI_MWS%2F1293%2F320%2FRussula_fellea%2CI_MWS129388.jpg&f=1&nofb=1 - cannot identify image file <_io.BytesIO object at 0x000001BEAFA8FF90>\n",
      "Could not save https://external-content.duckduckgo.com/iu/?u=https%3A%2F%2Fwww.biolib.cz%2FIMG%2FGAL%2F332720.jpg&f=1&nofb=1 - cannot identify image file <_io.BytesIO object at 0x000001BEB2AD1AE0>\n",
      "Could not save https://external-content.duckduckgo.com/iu/?u=http%3A%2F%2Fwww.discoverlife.org%2FIM%2FI_MWS%2F1293%2F320%2FRussula_fellea%2CI_MWS129389.jpg&f=1&nofb=1 - cannot identify image file <_io.BytesIO object at 0x000001BEB0B031D0>\n",
      "Could not save https://external-content.duckduckgo.com/iu/?u=http%3A%2F%2Fwww.discoverlife.org%2FIM%2FI_MWS%2F1294%2F320%2FRussula_fellea%2CI_MWS129430.jpg&f=1&nofb=1 - cannot identify image file <_io.BytesIO object at 0x000001BEB2ADD4F0>\n",
      "Could not save https://external-content.duckduckgo.com/iu/?u=https%3A%2F%2Fwww.biolib.cz%2FIMG%2FGAL%2FBIG%2F332720.jpg&f=1&nofb=1 - cannot identify image file <_io.BytesIO object at 0x000001BEB0A1E180>\n",
      "Could not save https://external-content.duckduckgo.com/iu/?u=http%3A%2F%2Fwww.discoverlife.org%2FIM%2FI_MWS%2F1294%2F320%2FRussula_fellea%2CI_MWS129426.jpg&f=1&nofb=1 - cannot identify image file <_io.BytesIO object at 0x000001BEB0ADCC70>\n",
      "Could not save https://external-content.duckduckgo.com/iu/?u=http%3A%2F%2Fwww.discoverlife.org%2FIM%2FI_MWS%2F1294%2F320%2FRussula_fellea%2CI_MWS129431.jpg&f=1&nofb=1 - cannot identify image file <_io.BytesIO object at 0x000001BEB0ADCC70>\n",
      "Could not save https://external-content.duckduckgo.com/iu/?u=http%3A%2F%2Fwww.discoverlife.org%2FIM%2FI_MWS%2F1294%2F320%2FRussula_fellea%2CI_MWS129425.jpg&f=1&nofb=1 - cannot identify image file <_io.BytesIO object at 0x000001BEB1660720>\n",
      "Could not save https://external-content.duckduckgo.com/iu/?u=http%3A%2F%2Fwww.discoverlife.org%2FIM%2FI_MWS%2F1294%2F320%2FRussula_fellea%2CI_MWS129469.jpg&f=1&nofb=1 - cannot identify image file <_io.BytesIO object at 0x000001BEAFA8FF90>\n",
      "Could not save https://external-content.duckduckgo.com/iu/?u=http%3A%2F%2Fwww.discoverlife.org%2FIM%2FI_MWS%2F1293%2F320%2FRussula_fellea%2CI_MWS129387.jpg&f=1&nofb=1 - cannot identify image file <_io.BytesIO object at 0x000001BEB15F8C20>\n"
     ]
    },
    {
     "data": {
      "application/vnd.jupyter.widget-view+json": {
       "model_id": "081ab93775524302b4bc3cac41783bb9",
       "version_major": 2,
       "version_minor": 0
      },
      "text/plain": [
       "Extracting 200 links from 200 Google results:   0%|          | 0/200 [00:00<?, ?it/s]"
      ]
     },
     "metadata": {},
     "output_type": "display_data"
    },
    {
     "data": {
      "application/vnd.jupyter.widget-view+json": {
       "model_id": "",
       "version_major": 2,
       "version_minor": 0
      },
      "text/plain": [
       "Saving Images:   0%|          | 0/200 [00:00<?, ?it/s]"
      ]
     },
     "metadata": {},
     "output_type": "display_data"
    },
    {
     "name": "stdout",
     "output_type": "stream",
     "text": [
      "Could not save https://upload.wikimedia.org/wikipedia/commons/thumb/0/0f/Russula_emetica_in_Poland.jpg/1200px-Russula_emetica_in_Poland.jpg - cannot identify image file <_io.BytesIO object at 0x000001BEB2ADD860>\n",
      "Could not save https://upload.wikimedia.org/wikipedia/commons/c/c1/Russula_emetica_%2829778155110%29.jpg - cannot identify image file <_io.BytesIO object at 0x000001BEB0B5C4F0>\n",
      "Failed to access image url https://www.discoverlife.org/IM/I_LJM/0317/320/Russula_emetica,I_LJM31709.jpg - HTTPSConnectionPool(host='www.discoverlife.org', port=443): Max retries exceeded with url: /IM/I_LJM/0317/320/Russula_emetica,I_LJM31709.jpg (Caused by SSLError(SSLCertVerificationError(1, '[SSL: CERTIFICATE_VERIFY_FAILED] certificate verify failed: unable to get local issuer certificate (_ssl.c:1125)')))\n",
      "Could not save https://www.discoverlife.org/IM/I_LJM/0317/320/Russula_emetica,I_LJM31709.jpg - local variable 'image_content' referenced before assignment\n",
      "Could not save https://upload.wikimedia.org/wikipedia/commons/thumb/0/02/Russula_emetica_117475.jpg/250px-Russula_emetica_117475.jpg - cannot identify image file <_io.BytesIO object at 0x000001BEB16B0180>\n",
      "Could not save https://upload.wikimedia.org/wikipedia/commons/f/fa/Vomiting_Russula_emetica.jpg - cannot identify image file <_io.BytesIO object at 0x000001BEB16B0180>\n",
      "Could not save https://upload.wikimedia.org/wikipedia/commons/f/f2/Russula_emetica2.jpg - cannot identify image file <_io.BytesIO object at 0x000001BEB15F8B80>\n",
      "Could not save https://upload.wikimedia.org/wikipedia/commons/3/37/Russula-emetica-gramberg-1913-pilzederheimatei00gram_0073.jpg - cannot identify image file <_io.BytesIO object at 0x000001BEB16B0180>\n"
     ]
    },
    {
     "data": {
      "application/vnd.jupyter.widget-view+json": {
       "model_id": "a7ab3484a36a489bb41b1fce8112515e",
       "version_major": 2,
       "version_minor": 0
      },
      "text/plain": [
       "Extracting 200 links from 265 Duckduckgo results:   0%|          | 0/265 [00:00<?, ?it/s]"
      ]
     },
     "metadata": {},
     "output_type": "display_data"
    },
    {
     "data": {
      "application/vnd.jupyter.widget-view+json": {
       "model_id": "",
       "version_major": 2,
       "version_minor": 0
      },
      "text/plain": [
       "Saving Images:   0%|          | 0/200 [00:00<?, ?it/s]"
      ]
     },
     "metadata": {},
     "output_type": "display_data"
    },
    {
     "name": "stdout",
     "output_type": "stream",
     "text": [
      "Could not save https://external-content.duckduckgo.com/iu/?u=http%3A%2F%2Fstatic.panoramio.com%2Fphotos%2Flarge%2F27435555.jpg&f=1&nofb=1 - cannot identify image file <_io.BytesIO object at 0x000001BEB2AD1AE0>\n",
      "Could not save https://external-content.duckduckgo.com/iu/?u=http%3A%2F%2Fwww.discoverlife.org%2Fmp%2F20p%3Fimg%3DI_MWS123507%26res%3Dmx&f=1&nofb=1 - cannot identify image file <_io.BytesIO object at 0x000001BEB2AAC220>\n",
      "Could not save https://external-content.duckduckgo.com/iu/?u=https%3A%2F%2Fwww.discoverlife.org%2FIM%2FI_MWS%2F1235%2F320%2FRussula_emetica%2CI_MWS123503.jpg&f=1&nofb=1 - cannot identify image file <_io.BytesIO object at 0x000001BEB2AD1AE0>\n",
      "Could not save https://external-content.duckduckgo.com/iu/?u=https%3A%2F%2Fwww.discoverlife.org%2FIM%2FI_MWS%2F1235%2F320%2FRussula_emetica%2CI_MWS123509.jpg&f=1&nofb=1 - cannot identify image file <_io.BytesIO object at 0x000001BEB2AACDB0>\n",
      "Could not save https://external-content.duckduckgo.com/iu/?u=https%3A%2F%2Fwildmushroomhunting.org%2Fuploads%2Fmonthly_2018_09%2F7AAB4549-8EE4-4378-AD94-0CEE269D556B.jpeg.2f0f021736cbd116e1bad705ca92145b.jpeg&f=1&nofb=1 - cannot identify image file <_io.BytesIO object at 0x000001BEB2ADDA40>\n"
     ]
    },
    {
     "data": {
      "application/vnd.jupyter.widget-view+json": {
       "model_id": "2f5c87bfbe21453e865a71b0367a161f",
       "version_major": 2,
       "version_minor": 0
      },
      "text/plain": [
       "Extracting 200 links from 200 Google results:   0%|          | 0/200 [00:00<?, ?it/s]"
      ]
     },
     "metadata": {},
     "output_type": "display_data"
    },
    {
     "name": "stdout",
     "output_type": "stream",
     "text": [
      "Failed to click thumbnail\n"
     ]
    },
    {
     "data": {
      "application/vnd.jupyter.widget-view+json": {
       "model_id": "",
       "version_major": 2,
       "version_minor": 0
      },
      "text/plain": [
       "Saving Images:   0%|          | 0/200 [00:00<?, ?it/s]"
      ]
     },
     "metadata": {},
     "output_type": "display_data"
    },
    {
     "name": "stdout",
     "output_type": "stream",
     "text": [
      "Could not save https://upload.wikimedia.org/wikipedia/commons/thumb/f/f6/2010-09-29_Russula_cyanoxantha_cropped.jpg/1200px-2010-09-29_Russula_cyanoxantha_cropped.jpg - cannot identify image file <_io.BytesIO object at 0x000001BEB1660720>\n",
      "Could not save https://upload.wikimedia.org/wikipedia/commons/5/5e/Russula_cyanoxantha_G1.jpg - cannot identify image file <_io.BytesIO object at 0x000001BEB2ADD860>\n",
      "Could not save https://upload.wikimedia.org/wikipedia/commons/b/b1/Russulamexicana.jpg - cannot identify image file <_io.BytesIO object at 0x000001BEB15F8B80>\n",
      "Could not save https://upload.wikimedia.org/wikipedia/commons/5/56/Frauen-T%C3%A4ubling_Russula_cyanoxantha.jpg - cannot identify image file <_io.BytesIO object at 0x000001BEB15F8B80>\n",
      "Could not save https://upload.wikimedia.org/wikipedia/commons/f/f2/Russula_cyanoxantha.JPG - cannot identify image file <_io.BytesIO object at 0x000001BEAFA8FF90>\n"
     ]
    },
    {
     "data": {
      "application/vnd.jupyter.widget-view+json": {
       "model_id": "10097f443cfb458eb661283c8881757a",
       "version_major": 2,
       "version_minor": 0
      },
      "text/plain": [
       "Extracting 200 links from 265 Duckduckgo results:   0%|          | 0/265 [00:00<?, ?it/s]"
      ]
     },
     "metadata": {},
     "output_type": "display_data"
    },
    {
     "name": "stdout",
     "output_type": "stream",
     "text": [
      "Failed to click thumbnail\n"
     ]
    },
    {
     "data": {
      "application/vnd.jupyter.widget-view+json": {
       "model_id": "",
       "version_major": 2,
       "version_minor": 0
      },
      "text/plain": [
       "Saving Images:   0%|          | 0/200 [00:00<?, ?it/s]"
      ]
     },
     "metadata": {},
     "output_type": "display_data"
    },
    {
     "name": "stdout",
     "output_type": "stream",
     "text": [
      "Could not save https://external-content.duckduckgo.com/iu/?u=http%3A%2F%2Fwww.discoverlife.org%2FIM%2FI_MWS%2F1018%2F320%2FRussula_cyanoxantha%2CI_MWS101875.jpg&f=1&nofb=1 - cannot identify image file <_io.BytesIO object at 0x000001BEAFAA4310>\n"
     ]
    },
    {
     "data": {
      "application/vnd.jupyter.widget-view+json": {
       "model_id": "894d9e12c3d148519ade6dd11cf2b5c2",
       "version_major": 2,
       "version_minor": 0
      },
      "text/plain": [
       "Extracting 200 links from 200 Google results:   0%|          | 0/200 [00:00<?, ?it/s]"
      ]
     },
     "metadata": {},
     "output_type": "display_data"
    },
    {
     "name": "stdout",
     "output_type": "stream",
     "text": [
      "Failed to click thumbnail\n",
      "Failed to click thumbnail\n",
      "Failed to click thumbnail\n",
      "Failed to click thumbnail\n",
      "Failed to click thumbnail\n",
      "Failed to click thumbnail\n",
      "Failed to click thumbnail\n",
      "Failed to click thumbnail\n",
      "Failed to click thumbnail\n",
      "Failed to click thumbnail\n",
      "Failed to click thumbnail\n",
      "Failed to click thumbnail\n",
      "Failed to click thumbnail\n",
      "Failed to click thumbnail\n",
      "Failed to click thumbnail\n",
      "Failed to click thumbnail\n",
      "Failed to click thumbnail\n",
      "Failed to click thumbnail\n",
      "Failed to click thumbnail\n",
      "Failed to click thumbnail\n",
      "Failed to click thumbnail\n",
      "Failed to click thumbnail\n",
      "Failed to click thumbnail\n",
      "Failed to click thumbnail\n",
      "Failed to click thumbnail\n",
      "Failed to click thumbnail\n",
      "Failed to click thumbnail\n",
      "Failed to click thumbnail\n",
      "Failed to click thumbnail\n",
      "Failed to click thumbnail\n",
      "Failed to click thumbnail\n",
      "Failed to click thumbnail\n",
      "Failed to click thumbnail\n",
      "Failed to click thumbnail\n",
      "Failed to click thumbnail\n",
      "Failed to click thumbnail\n",
      "Failed to click thumbnail\n",
      "Failed to click thumbnail\n",
      "Failed to click thumbnail\n",
      "Failed to click thumbnail\n",
      "Failed to click thumbnail\n",
      "Failed to click thumbnail\n",
      "Failed to click thumbnail\n",
      "Failed to click thumbnail\n",
      "Failed to click thumbnail\n",
      "Failed to click thumbnail\n",
      "Failed to click thumbnail\n",
      "Failed to click thumbnail\n",
      "Failed to click thumbnail\n",
      "Failed to click thumbnail\n",
      "Failed to click thumbnail\n",
      "Failed to click thumbnail\n",
      "Failed to click thumbnail\n",
      "Failed to click thumbnail\n",
      "Failed to click thumbnail\n",
      "Failed to click thumbnail\n"
     ]
    },
    {
     "data": {
      "application/vnd.jupyter.widget-view+json": {
       "model_id": "",
       "version_major": 2,
       "version_minor": 0
      },
      "text/plain": [
       "Saving Images:   0%|          | 0/201 [00:00<?, ?it/s]"
      ]
     },
     "metadata": {},
     "output_type": "display_data"
    },
    {
     "name": "stdout",
     "output_type": "stream",
     "text": [
      "Could not save https://upload.wikimedia.org/wikipedia/commons/b/b6/Russula_claroflava_trio.jpg - cannot identify image file <_io.BytesIO object at 0x000001BEAFB19090>\n",
      "Could not save https://upload.wikimedia.org/wikipedia/commons/1/1f/Russula_ochroleuca_ch%C3%A2taigne.JPG - cannot identify image file <_io.BytesIO object at 0x000001BEAFB19090>\n",
      "Could not save https://upload.wikimedia.org/wikipedia/commons/3/31/Gelber_Graustiel-T%C3%A4ubling2.jpg - cannot identify image file <_io.BytesIO object at 0x000001BEB2ADDA40>\n",
      "Could not save https://upload.wikimedia.org/wikipedia/commons/9/95/2010-08-11_Russula_claroflava_Grove._ss._Melz%2C_%26_Zv.%2C_J._Schff_98988.jpg - cannot identify image file <_io.BytesIO object at 0x000001BEAFB64B30>\n"
     ]
    },
    {
     "data": {
      "application/vnd.jupyter.widget-view+json": {
       "model_id": "0d27a03883eb4135b498276d5dabe2a3",
       "version_major": 2,
       "version_minor": 0
      },
      "text/plain": [
       "Extracting 200 links from 276 Duckduckgo results:   0%|          | 0/276 [00:00<?, ?it/s]"
      ]
     },
     "metadata": {},
     "output_type": "display_data"
    },
    {
     "name": "stdout",
     "output_type": "stream",
     "text": [
      "Failed to click thumbnail\n"
     ]
    },
    {
     "data": {
      "application/vnd.jupyter.widget-view+json": {
       "model_id": "",
       "version_major": 2,
       "version_minor": 0
      },
      "text/plain": [
       "Saving Images:   0%|          | 0/200 [00:00<?, ?it/s]"
      ]
     },
     "metadata": {},
     "output_type": "display_data"
    },
    {
     "name": "stdout",
     "output_type": "stream",
     "text": [
      "Could not save https://external-content.duckduckgo.com/iu/?u=http%3A%2F%2Fwww.discoverlife.org%2FIM%2FI_MWS%2F1152%2F320%2FRussula_claroflava%2CI_MWS115253.jpg&f=1&nofb=1 - cannot identify image file <_io.BytesIO object at 0x000001BEB2ADD130>\n",
      "Could not save https://external-content.duckduckgo.com/iu/?u=http%3A%2F%2Fwww.discoverlife.org%2FIM%2FI_MWS%2F1152%2F320%2FRussula_claroflava%2CI_MWS115278.jpg&f=1&nofb=1 - cannot identify image file <_io.BytesIO object at 0x000001BEAFB25950>\n",
      "Could not save https://external-content.duckduckgo.com/iu/?u=http%3A%2F%2Fwww.discoverlife.org%2FIM%2FI_MWS%2F0160%2F320%2FRussula_claroflava%2CI_MWS16061.jpg&f=1&nofb=1 - cannot identify image file <_io.BytesIO object at 0x000001BEAFAEC090>\n",
      "Could not save https://external-content.duckduckgo.com/iu/?u=http%3A%2F%2Fwww.discoverlife.org%2FIM%2FI_MWS%2F0160%2F320%2FRussula_claroflava%2CI_MWS16030.jpg&f=1&nofb=1 - cannot identify image file <_io.BytesIO object at 0x000001BEAFB258B0>\n",
      "Could not save https://external-content.duckduckgo.com/iu/?u=http%3A%2F%2Fwww.discoverlife.org%2FIM%2FI_MWS%2F0160%2F320%2FRussula_claroflava%2CI_MWS16033.jpg&f=1&nofb=1 - cannot identify image file <_io.BytesIO object at 0x000001BEAFAC64F0>\n",
      "Could not save https://external-content.duckduckgo.com/iu/?u=http%3A%2F%2Fwww.discoverlife.org%2FIM%2FI_MWS%2F1152%2F320%2FRussula_claroflava%2CI_MWS115252.jpg&f=1&nofb=1 - cannot identify image file <_io.BytesIO object at 0x000001BEAFB19270>\n",
      "Could not save https://external-content.duckduckgo.com/iu/?u=http%3A%2F%2Fwww.discoverlife.org%2FIM%2FI_MWS%2F0160%2F320%2FRussula_claroflava%2CI_MWS16029.jpg&f=1&nofb=1 - cannot identify image file <_io.BytesIO object at 0x000001BEAFAC64F0>\n",
      "Could not save https://external-content.duckduckgo.com/iu/?u=http%3A%2F%2Fwww.discoverlife.org%2FIM%2FI_MWS%2F0160%2F320%2FRussula_claroflava%2CI_MWS16000.jpg&f=1&nofb=1 - cannot identify image file <_io.BytesIO object at 0x000001BEAFB19270>\n",
      "Could not save https://external-content.duckduckgo.com/iu/?u=http%3A%2F%2Fwww.discoverlife.org%2FIM%2FI_MWS%2F0160%2F320%2FRussula_claroflava%2CI_MWS16034.jpg&f=1&nofb=1 - cannot identify image file <_io.BytesIO object at 0x000001BEAFAEC090>\n",
      "Could not save https://external-content.duckduckgo.com/iu/?u=http%3A%2F%2Fwww.discoverlife.org%2FIM%2FI_MWS%2F0160%2F320%2FRussula_claroflava%2CI_MWS16001.jpg&f=1&nofb=1 - cannot identify image file <_io.BytesIO object at 0x000001BEB2A01F40>\n"
     ]
    },
    {
     "data": {
      "application/vnd.jupyter.widget-view+json": {
       "model_id": "28190a4133cd4006a06db52e6f911061",
       "version_major": 2,
       "version_minor": 0
      },
      "text/plain": [
       "Extracting 200 links from 200 Google results:   0%|          | 0/200 [00:00<?, ?it/s]"
      ]
     },
     "metadata": {},
     "output_type": "display_data"
    },
    {
     "data": {
      "application/vnd.jupyter.widget-view+json": {
       "model_id": "",
       "version_major": 2,
       "version_minor": 0
      },
      "text/plain": [
       "Saving Images:   0%|          | 0/200 [00:00<?, ?it/s]"
      ]
     },
     "metadata": {},
     "output_type": "display_data"
    },
    {
     "name": "stdout",
     "output_type": "stream",
     "text": [
      "Could not save https://upload.wikimedia.org/wikipedia/commons/f/f9/Russula_atropurpurea_BS11.jpg - cannot identify image file <_io.BytesIO object at 0x000001BEAFB64A90>\n",
      "Could not save https://upload.wikimedia.org/wikipedia/commons/thumb/c/c6/Zwartpurperen_russula_%28Russula_atropurpurea%29_%28d.j.b.%29_01.jpg/1200px-Zwartpurperen_russula_%28Russula_atropurpurea%29_%28d.j.b.%29_01.jpg - cannot identify image file <_io.BytesIO object at 0x000001BEAFB19770>\n",
      "Failed to access image url data:image/jpeg;base64,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 - No connection adapters were found for 'data:image/jpeg;base64,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'\n",
      "Could not save data:image/jpeg;base64,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 - local variable 'image_content' referenced before assignment\n",
      "Could not save https://www.geoffdann.co.uk/wp-content/uploads/2013/03/b2.jpg - cannot identify image file <_io.BytesIO object at 0x000001BEAFB7C900>\n",
      "Could not save https://upload.wikimedia.org/wikipedia/commons/thumb/4/49/Two_views_of_a_mature_Purple_Brittlegill_on_Kaien_Island.png/440px-Two_views_of_a_mature_Purple_Brittlegill_on_Kaien_Island.png - cannot identify image file <_io.BytesIO object at 0x000001BEAFB25040>\n",
      "Failed to access image url https://i.colnect.net/f/3855/471/Russula-atropurpurea.jpg - ('Connection aborted.', RemoteDisconnected('Remote end closed connection without response'))\n",
      "Could not save https://i.colnect.net/f/3855/471/Russula-atropurpurea.jpg - local variable 'image_content' referenced before assignment\n",
      "Could not save https://upload.wikimedia.org/wikipedia/commons/3/37/Russ.caer.jpg - cannot identify image file <_io.BytesIO object at 0x000001BEAFB19770>\n",
      "Could not save https://upload.wikimedia.org/wikipedia/commons/thumb/9/92/Russ.atro.jpg/1200px-Russ.atro.jpg - cannot identify image file <_io.BytesIO object at 0x000001BEAFB7C2C0>\n"
     ]
    },
    {
     "data": {
      "application/vnd.jupyter.widget-view+json": {
       "model_id": "0f34b4c9e980456c94b40bca95a42f41",
       "version_major": 2,
       "version_minor": 0
      },
      "text/plain": [
       "Extracting 200 links from 269 Duckduckgo results:   0%|          | 0/269 [00:00<?, ?it/s]"
      ]
     },
     "metadata": {},
     "output_type": "display_data"
    },
    {
     "data": {
      "application/vnd.jupyter.widget-view+json": {
       "model_id": "",
       "version_major": 2,
       "version_minor": 0
      },
      "text/plain": [
       "Saving Images:   0%|          | 0/200 [00:00<?, ?it/s]"
      ]
     },
     "metadata": {},
     "output_type": "display_data"
    },
    {
     "name": "stdout",
     "output_type": "stream",
     "text": [
      "Could not save https://external-content.duckduckgo.com/iu/?u=https%3A%2F%2Fi.redd.it%2Fa638ubwzq2951.jpg&f=1&nofb=1 - cannot identify image file <_io.BytesIO object at 0x000001BEAFB64900>\n",
      "Could not save https://external-content.duckduckgo.com/iu/?u=http%3A%2F%2Fwww.discoverlife.org%2FIM%2FI_MWS%2F1294%2F320%2FRussula_atropurpurea%2CI_MWS129488.jpg&f=1&nofb=1 - cannot identify image file <_io.BytesIO object at 0x000001BEAFB640E0>\n",
      "Could not save https://external-content.duckduckgo.com/iu/?u=https%3A%2F%2Fwww.biolib.cz%2FIMG%2FGAL%2FBIG%2F136244.jpg&f=1&nofb=1 - cannot identify image file <_io.BytesIO object at 0x000001BEAFB25C20>\n",
      "Could not save https://external-content.duckduckgo.com/iu/?u=https%3A%2F%2Fwww.biolib.cz%2FIMG%2FGAL%2F136240.jpg&f=1&nofb=1 - cannot identify image file <_io.BytesIO object at 0x000001BEAFB25C20>\n",
      "Could not save https://external-content.duckduckgo.com/iu/?u=http%3A%2F%2Fwww.discoverlife.org%2FIM%2FI_MWS%2F1294%2F320%2FRussula_atropurpurea%2CI_MWS129491.jpg&f=1&nofb=1 - cannot identify image file <_io.BytesIO object at 0x000001BEB2ADDA40>\n"
     ]
    },
    {
     "data": {
      "application/vnd.jupyter.widget-view+json": {
       "model_id": "21a56c658c5746ce8df0c792da6eb189",
       "version_major": 2,
       "version_minor": 0
      },
      "text/plain": [
       "Extracting 200 links from 200 Google results:   0%|          | 0/200 [00:00<?, ?it/s]"
      ]
     },
     "metadata": {},
     "output_type": "display_data"
    },
    {
     "name": "stdout",
     "output_type": "stream",
     "text": [
      "Failed to click thumbnail\n",
      "Failed to click thumbnail\n",
      "Failed to click thumbnail\n"
     ]
    },
    {
     "data": {
      "application/vnd.jupyter.widget-view+json": {
       "model_id": "",
       "version_major": 2,
       "version_minor": 0
      },
      "text/plain": [
       "Saving Images:   0%|          | 0/200 [00:00<?, ?it/s]"
      ]
     },
     "metadata": {},
     "output_type": "display_data"
    },
    {
     "name": "stdout",
     "output_type": "stream",
     "text": [
      "Could not save https://upload.wikimedia.org/wikipedia/commons/1/19/Rhodotus_palmatus_41540150.jpg - cannot identify image file <_io.BytesIO object at 0x000001BEAFB19A40>\n",
      "Could not save https://upload.wikimedia.org/wikipedia/commons/thumb/a/a1/Rhodotus_palmatus_46170_crop.jpg/220px-Rhodotus_palmatus_46170_crop.jpg - cannot identify image file <_io.BytesIO object at 0x000001BEAFB64EF0>\n",
      "Could not save https://upload.wikimedia.org/wikipedia/commons/thumb/c/c1/Rhodotus_palmatus2.jpg/1200px-Rhodotus_palmatus2.jpg - cannot identify image file <_io.BytesIO object at 0x000001BEAFB19770>\n",
      "Could not save https://upload.wikimedia.org/wikipedia/commons/b/bc/Rhodotus_palmatus_41540148.jpg - cannot identify image file <_io.BytesIO object at 0x000001BEB2FF7180>\n",
      "Could not save https://upload.wikimedia.org/wikipedia/commons/b/bf/Rhodotus_palmatus_40169722.jpg - cannot identify image file <_io.BytesIO object at 0x000001BEB2FF7180>\n",
      "Could not save https://learn.freshcap.com/wp-content/uploads/2019/07/rhodotus-palmatus.jpg - cannot identify image file <_io.BytesIO object at 0x000001BEB2FF7220>\n",
      "Could not save https://upload.wikimedia.org/wikipedia/commons/c/c8/Rhodotus_palmatus_41540158.jpg - cannot identify image file <_io.BytesIO object at 0x000001BEB2FF7220>\n",
      "Could not save https://upload.wikimedia.org/wikipedia/commons/5/5d/Rhodotus_palmatus_19776.jpg - cannot identify image file <_io.BytesIO object at 0x000001BEB2FF7180>\n",
      "Could not save https://upload.wikimedia.org/wikipedia/commons/b/b5/Rhodotus_palmatus_84179455.jpg - cannot identify image file <_io.BytesIO object at 0x000001BEB2FF7180>\n",
      "Could not save https://learn.freshcap.com/wp-content/uploads/2019/07/rhodotus-palmatus-1.jpg - cannot identify image file <_io.BytesIO object at 0x000001BEB2FF7180>\n",
      "Could not save https://learn.freshcap.com/wp-content/uploads/2019/07/wrinkled-peach-720x450.png - cannot identify image file <_io.BytesIO object at 0x000001BEAFB64EF0>\n"
     ]
    },
    {
     "data": {
      "application/vnd.jupyter.widget-view+json": {
       "model_id": "5c02097c0d304e84b3d3150f4aa5c760",
       "version_major": 2,
       "version_minor": 0
      },
      "text/plain": [
       "Extracting 200 links from 261 Duckduckgo results:   0%|          | 0/261 [00:00<?, ?it/s]"
      ]
     },
     "metadata": {},
     "output_type": "display_data"
    },
    {
     "data": {
      "application/vnd.jupyter.widget-view+json": {
       "model_id": "",
       "version_major": 2,
       "version_minor": 0
      },
      "text/plain": [
       "Saving Images:   0%|          | 0/200 [00:00<?, ?it/s]"
      ]
     },
     "metadata": {},
     "output_type": "display_data"
    },
    {
     "name": "stdout",
     "output_type": "stream",
     "text": [
      "Could not save https://external-content.duckduckgo.com/iu/?u=http%3A%2F%2Fwww.discoverlife.org%2FIM%2FI_MWS%2F0301%2F640%2FRhodotus_palmatus%2CI_MWS30198.jpg&f=1&nofb=1 - cannot identify image file <_io.BytesIO object at 0x000001BEAFBC09A0>\n",
      "Could not save https://external-content.duckduckgo.com/iu/?u=https%3A%2F%2Flive.staticflickr.com%2F6071%2F6137346120_81caffc7a7_b.jpg&f=1&nofb=1 - cannot identify image file <_io.BytesIO object at 0x000001BEAFAEC090>\n"
     ]
    },
    {
     "data": {
      "application/vnd.jupyter.widget-view+json": {
       "model_id": "",
       "version_major": 2,
       "version_minor": 0
      },
      "text/plain": [
       "Extracting 200 links from 200 Google results:   0%|          | 0/200 [00:00<?, ?it/s]"
      ]
     },
     "metadata": {},
     "output_type": "display_data"
    },
    {
     "name": "stdout",
     "output_type": "stream",
     "text": [
      "Failed to click thumbnail\n",
      "Failed to click thumbnail\n",
      "Failed to click thumbnail\n",
      "Failed to click thumbnail\n",
      "Failed to click thumbnail\n",
      "Failed to click thumbnail\n",
      "Failed to click thumbnail\n",
      "Failed to click thumbnail\n",
      "Failed to click thumbnail\n",
      "Failed to click thumbnail\n",
      "Failed to click thumbnail\n",
      "Failed to click thumbnail\n",
      "Failed to click thumbnail\n",
      "Failed to click thumbnail\n",
      "Failed to click thumbnail\n",
      "Failed to click thumbnail\n",
      "Failed to click thumbnail\n",
      "Failed to click thumbnail\n",
      "Failed to click thumbnail\n",
      "Failed to click thumbnail\n",
      "Failed to click thumbnail\n",
      "Failed to click thumbnail\n",
      "Failed to click thumbnail\n",
      "Failed to click thumbnail\n",
      "Failed to click thumbnail\n",
      "Failed to click thumbnail\n",
      "Failed to click thumbnail\n",
      "Failed to click thumbnail\n",
      "Failed to click thumbnail\n",
      "Failed to click thumbnail\n",
      "Failed to click thumbnail\n",
      "Failed to click thumbnail\n",
      "Failed to click thumbnail\n",
      "Failed to click thumbnail\n",
      "Failed to click thumbnail\n",
      "Failed to click thumbnail\n",
      "Failed to click thumbnail\n",
      "Failed to click thumbnail\n",
      "Failed to click thumbnail\n",
      "Failed to click thumbnail\n",
      "Failed to click thumbnail\n",
      "Failed to click thumbnail\n",
      "Failed to click thumbnail\n",
      "Failed to click thumbnail\n",
      "Failed to click thumbnail\n",
      "Failed to click thumbnail\n",
      "Failed to click thumbnail\n",
      "Failed to click thumbnail\n",
      "Failed to click thumbnail\n",
      "Failed to click thumbnail\n",
      "Failed to click thumbnail\n",
      "Failed to click thumbnail\n",
      "Failed to click thumbnail\n",
      "Failed to click thumbnail\n",
      "Failed to click thumbnail\n",
      "Failed to click thumbnail\n",
      "Failed to click thumbnail\n",
      "Failed to click thumbnail\n",
      "Failed to click thumbnail\n",
      "Failed to click thumbnail\n",
      "Failed to click thumbnail\n",
      "Failed to click thumbnail\n",
      "Failed to click thumbnail\n",
      "Retrieving more results\n"
     ]
    },
    {
     "data": {
      "application/vnd.jupyter.widget-view+json": {
       "model_id": "",
       "version_major": 2,
       "version_minor": 0
      },
      "text/plain": [
       "Saving Images: : 0it [00:00, ?it/s]"
      ]
     },
     "metadata": {},
     "output_type": "display_data"
    },
    {
     "name": "stdout",
     "output_type": "stream",
     "text": [
      "Failed to save images: 'NoneType' object is not iterable\n"
     ]
    },
    {
     "data": {
      "application/vnd.jupyter.widget-view+json": {
       "model_id": "9c9735f8585546c2a9a610fa8bd029a7",
       "version_major": 2,
       "version_minor": 0
      },
      "text/plain": [
       "Extracting 200 links from 261 Duckduckgo results:   0%|          | 0/261 [00:00<?, ?it/s]"
      ]
     },
     "metadata": {},
     "output_type": "display_data"
    },
    {
     "name": "stdout",
     "output_type": "stream",
     "text": [
      "Failed to click thumbnail\n"
     ]
    },
    {
     "data": {
      "application/vnd.jupyter.widget-view+json": {
       "model_id": "",
       "version_major": 2,
       "version_minor": 0
      },
      "text/plain": [
       "Saving Images:   0%|          | 0/200 [00:00<?, ?it/s]"
      ]
     },
     "metadata": {},
     "output_type": "display_data"
    },
    {
     "name": "stdout",
     "output_type": "stream",
     "text": [
      "Could not save https://external-content.duckduckgo.com/iu/?u=https%3A%2F%2Fwww.luontoportti.com%2Fsuomi%2Fimages%2F27911.jpg&f=1&nofb=1 - cannot identify image file <_io.BytesIO object at 0x000001BEB3024090>\n",
      "Could not save https://external-content.duckduckgo.com/iu/?u=https%3A%2F%2Fwww.biolib.cz%2FIMG%2FGAL%2FBIG%2F105814.jpg&f=1&nofb=1 - cannot identify image file <_io.BytesIO object at 0x000001BEADA75F90>\n",
      "Could not save https://external-content.duckduckgo.com/iu/?u=https%3A%2F%2Fwww.biolib.cz%2FIMG%2FGAL%2F41110.jpg&f=1&nofb=1 - cannot identify image file <_io.BytesIO object at 0x000001BEB3024720>\n",
      "Could not save https://external-content.duckduckgo.com/iu/?u=https%3A%2F%2Fwww.biolib.cz%2FIMG%2FGAL%2FBIG%2F195668.jpg&f=1&nofb=1 - cannot identify image file <_io.BytesIO object at 0x000001BEB304D5E0>\n",
      "Could not save https://external-content.duckduckgo.com/iu/?u=https%3A%2F%2Fwww.luontoportti.com%2Fsuomi%2Fimages%2F27917.jpg&f=1&nofb=1 - cannot identify image file <_io.BytesIO object at 0x000001BEADA75F90>\n"
     ]
    },
    {
     "data": {
      "application/vnd.jupyter.widget-view+json": {
       "model_id": "0b8500b3ff1b461696ffab214b3ee47b",
       "version_major": 2,
       "version_minor": 0
      },
      "text/plain": [
       "Extracting 200 links from 200 Google results:   0%|          | 0/200 [00:00<?, ?it/s]"
      ]
     },
     "metadata": {},
     "output_type": "display_data"
    },
    {
     "data": {
      "application/vnd.jupyter.widget-view+json": {
       "model_id": "",
       "version_major": 2,
       "version_minor": 0
      },
      "text/plain": [
       "Saving Images:   0%|          | 0/200 [00:00<?, ?it/s]"
      ]
     },
     "metadata": {},
     "output_type": "display_data"
    },
    {
     "name": "stdout",
     "output_type": "stream",
     "text": [
      "Could not save https://www.fungipedia.org/media/kunena/attachments/1078/2_2011-12-11.jpg - cannot identify image file <_io.BytesIO object at 0x000001BEB304DE50>\n",
      "Could not save https://onlinelibrary.wiley.com/cms/asset/3d9576b7-96f0-4912-add4-c34c075fe426/ens12460-toc-0001-m.jpg - cannot identify image file <_io.BytesIO object at 0x000001BEB3024090>\n",
      "Could not save https://upload.wikimedia.org/wikipedia/commons/8/88/Rhizopogon_rubescens.jpg - cannot identify image file <_io.BytesIO object at 0x000001BEB304DE50>\n",
      "Could not save https://upload.wikimedia.org/wikipedia/commons/thumb/7/71/2009-09-17_Rhizopogon_obtextus_76099.jpg/220px-2009-09-17_Rhizopogon_obtextus_76099.jpg - cannot identify image file <_io.BytesIO object at 0x000001BEAFB640E0>\n",
      "Could not save https://upload.wikimedia.org/wikipedia/commons/4/40/P1050633_Rhizopogon_luteolus.jpg - cannot identify image file <_io.BytesIO object at 0x000001BEB30244A0>\n"
     ]
    },
    {
     "data": {
      "application/vnd.jupyter.widget-view+json": {
       "model_id": "",
       "version_major": 2,
       "version_minor": 0
      },
      "text/plain": [
       "Extracting 200 links from 66 Duckduckgo results:   0%|          | 0/66 [00:00<?, ?it/s]"
      ]
     },
     "metadata": {},
     "output_type": "display_data"
    },
    {
     "name": "stdout",
     "output_type": "stream",
     "text": [
      "Failed to click thumbnail\n",
      "Failed to click thumbnail\n",
      "Failed to click thumbnail\n",
      "Failed to click thumbnail\n",
      "Retrieving more results\n"
     ]
    },
    {
     "data": {
      "application/vnd.jupyter.widget-view+json": {
       "model_id": "",
       "version_major": 2,
       "version_minor": 0
      },
      "text/plain": [
       "Saving Images: : 0it [00:00, ?it/s]"
      ]
     },
     "metadata": {},
     "output_type": "display_data"
    },
    {
     "name": "stdout",
     "output_type": "stream",
     "text": [
      "Failed to save images: 'NoneType' object is not iterable\n"
     ]
    },
    {
     "data": {
      "application/vnd.jupyter.widget-view+json": {
       "model_id": "0995b028b11247a09ff28579c0d3e101",
       "version_major": 2,
       "version_minor": 0
      },
      "text/plain": [
       "Extracting 200 links from 200 Google results:   0%|          | 0/200 [00:00<?, ?it/s]"
      ]
     },
     "metadata": {},
     "output_type": "display_data"
    },
    {
     "name": "stdout",
     "output_type": "stream",
     "text": [
      "Failed to click thumbnail\n"
     ]
    },
    {
     "data": {
      "application/vnd.jupyter.widget-view+json": {
       "model_id": "",
       "version_major": 2,
       "version_minor": 0
      },
      "text/plain": [
       "Saving Images:   0%|          | 0/200 [00:00<?, ?it/s]"
      ]
     },
     "metadata": {},
     "output_type": "display_data"
    },
    {
     "name": "stdout",
     "output_type": "stream",
     "text": [
      "Could not save https://curbstonevalley.com/wp-content/uploads/2010/01/PgelatinosumStem1.jpg - cannot identify image file <_io.BytesIO object at 0x000001BEB3104040>\n",
      "Could not save https://curbstonevalley.com/wp-content/uploads/2010/01/PgelatinosumCol.jpg - cannot identify image file <_io.BytesIO object at 0x000001BEADA75F90>\n",
      "Could not save https://upload.wikimedia.org/wikipedia/commons/6/6f/Pseudohydnum_gelatinosum_72236.jpg - cannot identify image file <_io.BytesIO object at 0x000001BEB30B4810>\n",
      "Could not save https://upload.wikimedia.org/wikipedia/commons/c/c5/Pseudohydnum_gelatinosum_59890.jpg - cannot identify image file <_io.BytesIO object at 0x000001BEB3104590>\n",
      "Could not save https://upload.wikimedia.org/wikipedia/commons/9/9d/Pseudohydnum_gelatinosum_05.jpg - cannot identify image file <_io.BytesIO object at 0x000001BEB30B0950>\n",
      "Could not save https://www.animalsprints.com/p/491/jelly-tooth-fungus-pseudohydnum-gelatinosum-6124018.jpg.webp - cannot identify image file <_io.BytesIO object at 0x000001BEB30A0360>\n",
      "Could not save https://upload.wikimedia.org/wikipedia/commons/3/36/Pseudohydnum_gelatinosum_%28Scop.%29_P._Karst_768114.jpg - cannot identify image file <_io.BytesIO object at 0x000001BEB3024270>\n",
      "Could not save https://upload.wikimedia.org/wikipedia/commons/7/74/Pseudohydnum_gelatinosum_9.JPG - cannot identify image file <_io.BytesIO object at 0x000001BEB3024270>\n",
      "Could not save https://upload.wikimedia.org/wikipedia/commons/a/a9/Pseudohydnum_gelatinosum_693898.jpg - cannot identify image file <_io.BytesIO object at 0x000001BEADA75F90>\n"
     ]
    },
    {
     "data": {
      "application/vnd.jupyter.widget-view+json": {
       "model_id": "399016298c86485abe7d4d56383569d0",
       "version_major": 2,
       "version_minor": 0
      },
      "text/plain": [
       "Extracting 200 links from 262 Duckduckgo results:   0%|          | 0/262 [00:00<?, ?it/s]"
      ]
     },
     "metadata": {},
     "output_type": "display_data"
    },
    {
     "name": "stdout",
     "output_type": "stream",
     "text": [
      "Failed to click thumbnail\n"
     ]
    },
    {
     "data": {
      "application/vnd.jupyter.widget-view+json": {
       "model_id": "705f1d9b65e84440bf8de73bac4961b2",
       "version_major": 2,
       "version_minor": 0
      },
      "text/plain": [
       "Saving Images:   0%|          | 0/200 [00:00<?, ?it/s]"
      ]
     },
     "metadata": {},
     "output_type": "display_data"
    }
   ],
   "source": [
    "number_images = 200\n",
    "start_from = 11\n",
    "\n",
    "image_scraper = ImageScrapper(save_path='\\\\images2')\n",
    "\n",
    "for idx, shroom in enumerate(tqdm(shrooms_scientific[start_from:], desc='Mushroom no: ', position=0, leave=True)):\n",
    "    \n",
    "    image_scraper.configure_engine('Google')\n",
    "\n",
    "    image_scraper.search_and_download(search_term=shroom, number_images=number_images, exact_match=True)\n",
    "\n",
    "    image_scraper.configure_engine('Duckduckgo')\n",
    "\n",
    "    image_scraper.search_and_download(search_term=shroom, number_images=number_images, exact_match=True)"
   ]
  },
  {
   "cell_type": "code",
   "execution_count": null,
   "metadata": {},
   "outputs": [],
   "source": []
  },
  {
   "cell_type": "code",
   "execution_count": null,
   "metadata": {},
   "outputs": [],
   "source": []
  },
  {
   "cell_type": "code",
   "execution_count": null,
   "metadata": {},
   "outputs": [],
   "source": []
  }
 ],
 "metadata": {
  "kernelspec": {
   "display_name": "Python 3",
   "language": "python",
   "name": "python3"
  },
  "language_info": {
   "codemirror_mode": {
    "name": "ipython",
    "version": 3
   },
   "file_extension": ".py",
   "mimetype": "text/x-python",
   "name": "python",
   "nbconvert_exporter": "python",
   "pygments_lexer": "ipython3",
   "version": "3.8.8"
  }
 },
 "nbformat": 4,
 "nbformat_minor": 4
}
