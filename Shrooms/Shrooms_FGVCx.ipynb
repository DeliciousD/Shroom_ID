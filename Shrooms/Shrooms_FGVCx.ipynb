{
 "cells": [
  {
   "cell_type": "markdown",
   "metadata": {},
   "source": [
    "# Original plan was to use the FGVCx competition dataset\n",
    "\n",
    "https://github.com/visipedia/fgvcx_fungi_comp\n",
    "\n",
    "Though there are actually very few images, and many of the mushroom classes are not found in the UK\n",
    "\n",
    "I therefore created an image scraper to pull hundreds of images from various search engines, using search terms extracted from a UK mushroom identification database"
   ]
  },
  {
   "cell_type": "code",
   "execution_count": 1,
   "metadata": {},
   "outputs": [],
   "source": [
    "import numpy as np\n",
    "import matplotlib.pyplot as plt\n",
    "import pandas as pd\n",
    "import json\n",
    "import tarfile\n",
    "import glob\n",
    "import os\n",
    "import time"
   ]
  },
  {
   "cell_type": "markdown",
   "metadata": {},
   "source": [
    "## Initial Download of the competition dataset"
   ]
  },
  {
   "cell_type": "code",
   "execution_count": 2,
   "metadata": {},
   "outputs": [],
   "source": [
    "directory = 'C://Users//danie//Documents//DW//Shrooms//shroom_comp//'\n",
    "\n",
    "\n",
    "data = [\"train_val_annotations\", \"test_information\", \"fungi_test\", \"fungi_train_val\"]\n",
    "\n",
    "errors = 'fungi_train_val\\\\images\\\\12665_Cortinarius_uliginosus f. uliginosus \\\\JM2009PIC22142605.JPG'"
   ]
  },
  {
   "cell_type": "code",
   "execution_count": 3,
   "metadata": {},
   "outputs": [],
   "source": [
    "tarsefiles = False\n",
    "\n",
    "if tarsefiles is True:\n",
    "    for idx, dataset in enumerate(data):\n",
    "\n",
    "        data_dir = directory + dataset\n",
    "\n",
    "        print(data_dir)\n",
    "\n",
    "        with tarfile.open(data_dir + '.tgz', 'r:gz') as opened_targz_file:\n",
    "            try:\n",
    "                opened_targz_file.extractall(data_dir)\n",
    "            except FileNotFoundError as error:\n",
    "                errors.append(error)\n",
    "                print(error)"
   ]
  },
  {
   "cell_type": "markdown",
   "metadata": {},
   "source": [
    "### Images"
   ]
  },
  {
   "cell_type": "code",
   "execution_count": null,
   "metadata": {},
   "outputs": [],
   "source": [
    "image_directory = directory + data[-1] + '//images//'\n",
    "\n",
    "shroom_folder_size = []\n",
    "shroom_folder = None\n",
    "\n",
    "for dirpath, dirnames, filenames in os.walk(image_directory):\n",
    "    \n",
    "    if shroom_folder is None:\n",
    "        shroom_folder = dirnames\n",
    "    \n",
    "    shroom_folder_size.append(len(filenames))"
   ]
  },
  {
   "cell_type": "code",
   "execution_count": 5,
   "metadata": {},
   "outputs": [
    {
     "data": {
      "text/plain": [
       "14435_Gymnopus_dryophilus          342\n",
       "14069_Fuligo_leviderma             329\n",
       "14963_Hymenoscyphus_fructigenus    219\n",
       "14454_Gyromitra_esculenta          197\n",
       "47767_Schizophyllum_amplum         196\n",
       "dtype: int64"
      ]
     },
     "execution_count": 5,
     "metadata": {},
     "output_type": "execute_result"
    }
   ],
   "source": [
    "df_images = pd.Series(dict(zip(shroom_folder, shroom_folder_size))).sort_values(ascending=False)\n",
    "df_images.head()"
   ]
  },
  {
   "cell_type": "markdown",
   "metadata": {},
   "source": [
    "### The majority of classes have fewer than 100 images, very little chance of good performance"
   ]
  },
  {
   "cell_type": "code",
   "execution_count": 6,
   "metadata": {},
   "outputs": [
    {
     "data": {
      "image/png": "[encoded data removed]",
      "text/plain": [
       "<Figure size 648x360 with 1 Axes>"
      ]
     },
     "metadata": {
      "needs_background": "light"
     },
     "output_type": "display_data"
    }
   ],
   "source": [
    "plt.figure(figsize=(9,5))\n",
    "_ = df_images.hist(bins=25)"
   ]
  }
 ],
 "metadata": {
  "kernelspec": {
   "display_name": "Python 3",
   "language": "python",
   "name": "python3"
  },
  "language_info": {
   "codemirror_mode": {
    "name": "ipython",
    "version": 3
   },
   "file_extension": ".py",
   "mimetype": "text/x-python",
   "name": "python",
   "nbconvert_exporter": "python",
   "pygments_lexer": "ipython3",
   "version": "3.8.8"
  }
 },
 "nbformat": 4,
 "nbformat_minor": 4
}
